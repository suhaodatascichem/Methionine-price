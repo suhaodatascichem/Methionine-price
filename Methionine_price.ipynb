{
  "cells": [
    {
      "cell_type": "markdown",
      "metadata": {
        "id": "view-in-github",
        "colab_type": "text"
      },
      "source": [
        "<a href=\"https://colab.research.google.com/github/suhaodatascichem/Methionine-price/blob/main/Methionine_price.ipynb\" target=\"_parent\"><img src=\"https://colab.research.google.com/assets/colab-badge.svg\" alt=\"Open In Colab\"/></a>"
      ]
    },
    {
      "cell_type": "markdown",
      "source": [
        "# Import required libraries"
      ],
      "metadata": {
        "id": "HJ2eUlaZVw7L"
      }
    },
    {
      "cell_type": "code",
      "execution_count": 1,
      "metadata": {
        "id": "lWDl6nBj-0xx"
      },
      "outputs": [],
      "source": [
        "# required libraries\n",
        "import pandas as pd\n",
        "import numpy as np\n",
        "import datetime as dt\n",
        "\n",
        "# for plots\n",
        "import matplotlib.pyplot as plt\n",
        "import seaborn as sns"
      ]
    },
    {
      "cell_type": "code",
      "execution_count": 2,
      "metadata": {
        "id": "0aP0gYHY_AUU"
      },
      "outputs": [],
      "source": [
        "from sklearn.preprocessing import MinMaxScaler\n",
        "import math, time\n",
        "from sklearn.metrics import mean_squared_error\n",
        "import time\n",
        "from sklearn.metrics import mean_squared_error"
      ]
    },
    {
      "cell_type": "code",
      "execution_count": 3,
      "metadata": {
        "id": "ev8PGZHK_AXc"
      },
      "outputs": [],
      "source": [
        "import torch\n",
        "import torch.nn as nn\n",
        "from torch.utils.data import TensorDataset, DataLoader"
      ]
    },
    {
      "cell_type": "markdown",
      "source": [
        "# Read Data"
      ],
      "metadata": {
        "id": "GSk0SaQbVqAI"
      }
    },
    {
      "cell_type": "code",
      "source": [
        "import pandas as pd\n",
        "\n",
        "url = \"https://raw.githubusercontent.com/suhaodatascichem/Methionine-price/f03e43d1167e30719338fa20fbd1b3a4fc844599/Indonesia%20daily%20import%20data%20-%20Copy%20for%20Su%20Hao%20(1).xlsx\"\n",
        "df_raw = pd.read_excel(url, engine=\"openpyxl\")"
      ],
      "metadata": {
        "id": "_UBm7WZVpiap"
      },
      "execution_count": 6,
      "outputs": []
    },
    {
      "cell_type": "code",
      "source": [
        "df_raw.head(10)"
      ],
      "metadata": {
        "id": "KRZ-G5GdqFE5",
        "outputId": "134e3b78-cbd4-4674-e9f1-b9cdef8173f8",
        "colab": {
          "base_uri": "https://localhost:8080/",
          "height": 363
        }
      },
      "execution_count": 7,
      "outputs": [
        {
          "output_type": "execute_result",
          "data": {
            "text/plain": [
              "         Date  Sum of CIF gross price(USD)  Sum of Quantity in kg     Price\n",
              "0  2023-01-02                     558000.0                 180000  3.100000\n",
              "1  2023-01-03                     561642.0                 201820  2.782886\n",
              "2  2023-01-04                     132000.0                  60000  2.200000\n",
              "3  2023-01-05                      45000.0                  20000  2.250000\n",
              "4  2023-01-09                      92800.0                  40000  2.320000\n",
              "5  2023-01-10                      46000.0                  20000  2.300000\n",
              "6  2023-01-11                     125740.0                  56000  2.245357\n",
              "7  2023-01-13                     225000.0                 100000  2.250000\n",
              "8  2023-01-16                     186000.0                  60000  3.100000\n",
              "9  2023-01-17                     545186.0                 220060  2.477443"
            ],
            "text/html": [
              "\n",
              "  <div id=\"df-06e88944-ea1b-452c-ab78-e33362f29100\" class=\"colab-df-container\">\n",
              "    <div>\n",
              "<style scoped>\n",
              "    .dataframe tbody tr th:only-of-type {\n",
              "        vertical-align: middle;\n",
              "    }\n",
              "\n",
              "    .dataframe tbody tr th {\n",
              "        vertical-align: top;\n",
              "    }\n",
              "\n",
              "    .dataframe thead th {\n",
              "        text-align: right;\n",
              "    }\n",
              "</style>\n",
              "<table border=\"1\" class=\"dataframe\">\n",
              "  <thead>\n",
              "    <tr style=\"text-align: right;\">\n",
              "      <th></th>\n",
              "      <th>Date</th>\n",
              "      <th>Sum of CIF gross price(USD)</th>\n",
              "      <th>Sum of Quantity in kg</th>\n",
              "      <th>Price</th>\n",
              "    </tr>\n",
              "  </thead>\n",
              "  <tbody>\n",
              "    <tr>\n",
              "      <th>0</th>\n",
              "      <td>2023-01-02</td>\n",
              "      <td>558000.0</td>\n",
              "      <td>180000</td>\n",
              "      <td>3.100000</td>\n",
              "    </tr>\n",
              "    <tr>\n",
              "      <th>1</th>\n",
              "      <td>2023-01-03</td>\n",
              "      <td>561642.0</td>\n",
              "      <td>201820</td>\n",
              "      <td>2.782886</td>\n",
              "    </tr>\n",
              "    <tr>\n",
              "      <th>2</th>\n",
              "      <td>2023-01-04</td>\n",
              "      <td>132000.0</td>\n",
              "      <td>60000</td>\n",
              "      <td>2.200000</td>\n",
              "    </tr>\n",
              "    <tr>\n",
              "      <th>3</th>\n",
              "      <td>2023-01-05</td>\n",
              "      <td>45000.0</td>\n",
              "      <td>20000</td>\n",
              "      <td>2.250000</td>\n",
              "    </tr>\n",
              "    <tr>\n",
              "      <th>4</th>\n",
              "      <td>2023-01-09</td>\n",
              "      <td>92800.0</td>\n",
              "      <td>40000</td>\n",
              "      <td>2.320000</td>\n",
              "    </tr>\n",
              "    <tr>\n",
              "      <th>5</th>\n",
              "      <td>2023-01-10</td>\n",
              "      <td>46000.0</td>\n",
              "      <td>20000</td>\n",
              "      <td>2.300000</td>\n",
              "    </tr>\n",
              "    <tr>\n",
              "      <th>6</th>\n",
              "      <td>2023-01-11</td>\n",
              "      <td>125740.0</td>\n",
              "      <td>56000</td>\n",
              "      <td>2.245357</td>\n",
              "    </tr>\n",
              "    <tr>\n",
              "      <th>7</th>\n",
              "      <td>2023-01-13</td>\n",
              "      <td>225000.0</td>\n",
              "      <td>100000</td>\n",
              "      <td>2.250000</td>\n",
              "    </tr>\n",
              "    <tr>\n",
              "      <th>8</th>\n",
              "      <td>2023-01-16</td>\n",
              "      <td>186000.0</td>\n",
              "      <td>60000</td>\n",
              "      <td>3.100000</td>\n",
              "    </tr>\n",
              "    <tr>\n",
              "      <th>9</th>\n",
              "      <td>2023-01-17</td>\n",
              "      <td>545186.0</td>\n",
              "      <td>220060</td>\n",
              "      <td>2.477443</td>\n",
              "    </tr>\n",
              "  </tbody>\n",
              "</table>\n",
              "</div>\n",
              "    <div class=\"colab-df-buttons\">\n",
              "\n",
              "  <div class=\"colab-df-container\">\n",
              "    <button class=\"colab-df-convert\" onclick=\"convertToInteractive('df-06e88944-ea1b-452c-ab78-e33362f29100')\"\n",
              "            title=\"Convert this dataframe to an interactive table.\"\n",
              "            style=\"display:none;\">\n",
              "\n",
              "  <svg xmlns=\"http://www.w3.org/2000/svg\" height=\"24px\" viewBox=\"0 -960 960 960\">\n",
              "    <path d=\"M120-120v-720h720v720H120Zm60-500h600v-160H180v160Zm220 220h160v-160H400v160Zm0 220h160v-160H400v160ZM180-400h160v-160H180v160Zm440 0h160v-160H620v160ZM180-180h160v-160H180v160Zm440 0h160v-160H620v160Z\"/>\n",
              "  </svg>\n",
              "    </button>\n",
              "\n",
              "  <style>\n",
              "    .colab-df-container {\n",
              "      display:flex;\n",
              "      gap: 12px;\n",
              "    }\n",
              "\n",
              "    .colab-df-convert {\n",
              "      background-color: #E8F0FE;\n",
              "      border: none;\n",
              "      border-radius: 50%;\n",
              "      cursor: pointer;\n",
              "      display: none;\n",
              "      fill: #1967D2;\n",
              "      height: 32px;\n",
              "      padding: 0 0 0 0;\n",
              "      width: 32px;\n",
              "    }\n",
              "\n",
              "    .colab-df-convert:hover {\n",
              "      background-color: #E2EBFA;\n",
              "      box-shadow: 0px 1px 2px rgba(60, 64, 67, 0.3), 0px 1px 3px 1px rgba(60, 64, 67, 0.15);\n",
              "      fill: #174EA6;\n",
              "    }\n",
              "\n",
              "    .colab-df-buttons div {\n",
              "      margin-bottom: 4px;\n",
              "    }\n",
              "\n",
              "    [theme=dark] .colab-df-convert {\n",
              "      background-color: #3B4455;\n",
              "      fill: #D2E3FC;\n",
              "    }\n",
              "\n",
              "    [theme=dark] .colab-df-convert:hover {\n",
              "      background-color: #434B5C;\n",
              "      box-shadow: 0px 1px 3px 1px rgba(0, 0, 0, 0.15);\n",
              "      filter: drop-shadow(0px 1px 2px rgba(0, 0, 0, 0.3));\n",
              "      fill: #FFFFFF;\n",
              "    }\n",
              "  </style>\n",
              "\n",
              "    <script>\n",
              "      const buttonEl =\n",
              "        document.querySelector('#df-06e88944-ea1b-452c-ab78-e33362f29100 button.colab-df-convert');\n",
              "      buttonEl.style.display =\n",
              "        google.colab.kernel.accessAllowed ? 'block' : 'none';\n",
              "\n",
              "      async function convertToInteractive(key) {\n",
              "        const element = document.querySelector('#df-06e88944-ea1b-452c-ab78-e33362f29100');\n",
              "        const dataTable =\n",
              "          await google.colab.kernel.invokeFunction('convertToInteractive',\n",
              "                                                    [key], {});\n",
              "        if (!dataTable) return;\n",
              "\n",
              "        const docLinkHtml = 'Like what you see? Visit the ' +\n",
              "          '<a target=\"_blank\" href=https://colab.research.google.com/notebooks/data_table.ipynb>data table notebook</a>'\n",
              "          + ' to learn more about interactive tables.';\n",
              "        element.innerHTML = '';\n",
              "        dataTable['output_type'] = 'display_data';\n",
              "        await google.colab.output.renderOutput(dataTable, element);\n",
              "        const docLink = document.createElement('div');\n",
              "        docLink.innerHTML = docLinkHtml;\n",
              "        element.appendChild(docLink);\n",
              "      }\n",
              "    </script>\n",
              "  </div>\n",
              "\n",
              "\n",
              "<div id=\"df-d757e86c-2f04-4121-a529-a273ac8e624e\">\n",
              "  <button class=\"colab-df-quickchart\" onclick=\"quickchart('df-d757e86c-2f04-4121-a529-a273ac8e624e')\"\n",
              "            title=\"Suggest charts\"\n",
              "            style=\"display:none;\">\n",
              "\n",
              "<svg xmlns=\"http://www.w3.org/2000/svg\" height=\"24px\"viewBox=\"0 0 24 24\"\n",
              "     width=\"24px\">\n",
              "    <g>\n",
              "        <path d=\"M19 3H5c-1.1 0-2 .9-2 2v14c0 1.1.9 2 2 2h14c1.1 0 2-.9 2-2V5c0-1.1-.9-2-2-2zM9 17H7v-7h2v7zm4 0h-2V7h2v10zm4 0h-2v-4h2v4z\"/>\n",
              "    </g>\n",
              "</svg>\n",
              "  </button>\n",
              "\n",
              "<style>\n",
              "  .colab-df-quickchart {\n",
              "      --bg-color: #E8F0FE;\n",
              "      --fill-color: #1967D2;\n",
              "      --hover-bg-color: #E2EBFA;\n",
              "      --hover-fill-color: #174EA6;\n",
              "      --disabled-fill-color: #AAA;\n",
              "      --disabled-bg-color: #DDD;\n",
              "  }\n",
              "\n",
              "  [theme=dark] .colab-df-quickchart {\n",
              "      --bg-color: #3B4455;\n",
              "      --fill-color: #D2E3FC;\n",
              "      --hover-bg-color: #434B5C;\n",
              "      --hover-fill-color: #FFFFFF;\n",
              "      --disabled-bg-color: #3B4455;\n",
              "      --disabled-fill-color: #666;\n",
              "  }\n",
              "\n",
              "  .colab-df-quickchart {\n",
              "    background-color: var(--bg-color);\n",
              "    border: none;\n",
              "    border-radius: 50%;\n",
              "    cursor: pointer;\n",
              "    display: none;\n",
              "    fill: var(--fill-color);\n",
              "    height: 32px;\n",
              "    padding: 0;\n",
              "    width: 32px;\n",
              "  }\n",
              "\n",
              "  .colab-df-quickchart:hover {\n",
              "    background-color: var(--hover-bg-color);\n",
              "    box-shadow: 0 1px 2px rgba(60, 64, 67, 0.3), 0 1px 3px 1px rgba(60, 64, 67, 0.15);\n",
              "    fill: var(--button-hover-fill-color);\n",
              "  }\n",
              "\n",
              "  .colab-df-quickchart-complete:disabled,\n",
              "  .colab-df-quickchart-complete:disabled:hover {\n",
              "    background-color: var(--disabled-bg-color);\n",
              "    fill: var(--disabled-fill-color);\n",
              "    box-shadow: none;\n",
              "  }\n",
              "\n",
              "  .colab-df-spinner {\n",
              "    border: 2px solid var(--fill-color);\n",
              "    border-color: transparent;\n",
              "    border-bottom-color: var(--fill-color);\n",
              "    animation:\n",
              "      spin 1s steps(1) infinite;\n",
              "  }\n",
              "\n",
              "  @keyframes spin {\n",
              "    0% {\n",
              "      border-color: transparent;\n",
              "      border-bottom-color: var(--fill-color);\n",
              "      border-left-color: var(--fill-color);\n",
              "    }\n",
              "    20% {\n",
              "      border-color: transparent;\n",
              "      border-left-color: var(--fill-color);\n",
              "      border-top-color: var(--fill-color);\n",
              "    }\n",
              "    30% {\n",
              "      border-color: transparent;\n",
              "      border-left-color: var(--fill-color);\n",
              "      border-top-color: var(--fill-color);\n",
              "      border-right-color: var(--fill-color);\n",
              "    }\n",
              "    40% {\n",
              "      border-color: transparent;\n",
              "      border-right-color: var(--fill-color);\n",
              "      border-top-color: var(--fill-color);\n",
              "    }\n",
              "    60% {\n",
              "      border-color: transparent;\n",
              "      border-right-color: var(--fill-color);\n",
              "    }\n",
              "    80% {\n",
              "      border-color: transparent;\n",
              "      border-right-color: var(--fill-color);\n",
              "      border-bottom-color: var(--fill-color);\n",
              "    }\n",
              "    90% {\n",
              "      border-color: transparent;\n",
              "      border-bottom-color: var(--fill-color);\n",
              "    }\n",
              "  }\n",
              "</style>\n",
              "\n",
              "  <script>\n",
              "    async function quickchart(key) {\n",
              "      const quickchartButtonEl =\n",
              "        document.querySelector('#' + key + ' button');\n",
              "      quickchartButtonEl.disabled = true;  // To prevent multiple clicks.\n",
              "      quickchartButtonEl.classList.add('colab-df-spinner');\n",
              "      try {\n",
              "        const charts = await google.colab.kernel.invokeFunction(\n",
              "            'suggestCharts', [key], {});\n",
              "      } catch (error) {\n",
              "        console.error('Error during call to suggestCharts:', error);\n",
              "      }\n",
              "      quickchartButtonEl.classList.remove('colab-df-spinner');\n",
              "      quickchartButtonEl.classList.add('colab-df-quickchart-complete');\n",
              "    }\n",
              "    (() => {\n",
              "      let quickchartButtonEl =\n",
              "        document.querySelector('#df-d757e86c-2f04-4121-a529-a273ac8e624e button');\n",
              "      quickchartButtonEl.style.display =\n",
              "        google.colab.kernel.accessAllowed ? 'block' : 'none';\n",
              "    })();\n",
              "  </script>\n",
              "</div>\n",
              "\n",
              "    </div>\n",
              "  </div>\n"
            ],
            "application/vnd.google.colaboratory.intrinsic+json": {
              "type": "dataframe",
              "variable_name": "df_raw",
              "summary": "{\n  \"name\": \"df_raw\",\n  \"rows\": 475,\n  \"fields\": [\n    {\n      \"column\": \"Date\",\n      \"properties\": {\n        \"dtype\": \"object\",\n        \"num_unique_values\": 475,\n        \"samples\": [\n          \"2024-09-04\",\n          \"2024-11-15\",\n          \"2023-01-17\"\n        ],\n        \"semantic_type\": \"\",\n        \"description\": \"\"\n      }\n    },\n    {\n      \"column\": \"Sum of CIF gross price(USD)\",\n      \"properties\": {\n        \"dtype\": \"number\",\n        \"std\": 325692.4264236787,\n        \"min\": 17250.0,\n        \"max\": 1922494.4,\n        \"num_unique_values\": 430,\n        \"samples\": [\n          239000.0,\n          617900.0,\n          1616860.0\n        ],\n        \"semantic_type\": \"\",\n        \"description\": \"\"\n      }\n    },\n    {\n      \"column\": \"Sum of Quantity in kg\",\n      \"properties\": {\n        \"dtype\": \"number\",\n        \"std\": 147704,\n        \"min\": 5000,\n        \"max\": 980960,\n        \"num_unique_values\": 177,\n        \"samples\": [\n          236960,\n          500000,\n          41000\n        ],\n        \"semantic_type\": \"\",\n        \"description\": \"\"\n      }\n    },\n    {\n      \"column\": \"Price\",\n      \"properties\": {\n        \"dtype\": \"number\",\n        \"std\": 0.349148369307617,\n        \"min\": 1.0,\n        \"max\": 3.45,\n        \"num_unique_values\": 356,\n        \"samples\": [\n          3.35,\n          2.4206873760740253,\n          2.460714285714286\n        ],\n        \"semantic_type\": \"\",\n        \"description\": \"\"\n      }\n    }\n  ]\n}"
            }
          },
          "metadata": {},
          "execution_count": 7
        }
      ]
    },
    {
      "cell_type": "code",
      "source": [
        "df_raw[\"Date\"] = pd.to_datetime(df_raw[\"Date\"])"
      ],
      "metadata": {
        "id": "dZafXvgkuPmc"
      },
      "execution_count": 14,
      "outputs": []
    },
    {
      "cell_type": "code",
      "source": [
        "startdate = df_raw['Date'].min()\n",
        "print('startdate is ', startdate)\n",
        "enddate = df_raw['Date'].max()\n",
        "print(\"startdate is \", enddate)\n"
      ],
      "metadata": {
        "id": "akKnr5iccIK5",
        "outputId": "e7ece3d9-4c1f-485f-b0a5-8f430b9673c1",
        "colab": {
          "base_uri": "https://localhost:8080/"
        }
      },
      "execution_count": 15,
      "outputs": [
        {
          "output_type": "stream",
          "name": "stdout",
          "text": [
            "startdate is  2023-01-02 00:00:00\n",
            "startdate is  2025-01-31 00:00:00\n"
          ]
        }
      ]
    },
    {
      "cell_type": "code",
      "source": [
        "df_raw.head(1)"
      ],
      "metadata": {
        "id": "Kl3EjYmhdKXB",
        "outputId": "faf60ec3-2c51-4400-f838-3b5797e8c9a3",
        "colab": {
          "base_uri": "https://localhost:8080/",
          "height": 80
        }
      },
      "execution_count": 16,
      "outputs": [
        {
          "output_type": "execute_result",
          "data": {
            "text/plain": [
              "        Date  Sum of CIF gross price(USD)  Sum of Quantity in kg  Price\n",
              "0 2023-01-02                     558000.0                 180000    3.1"
            ],
            "text/html": [
              "\n",
              "  <div id=\"df-ab1e6947-9ade-4110-a29a-3e652efe089b\" class=\"colab-df-container\">\n",
              "    <div>\n",
              "<style scoped>\n",
              "    .dataframe tbody tr th:only-of-type {\n",
              "        vertical-align: middle;\n",
              "    }\n",
              "\n",
              "    .dataframe tbody tr th {\n",
              "        vertical-align: top;\n",
              "    }\n",
              "\n",
              "    .dataframe thead th {\n",
              "        text-align: right;\n",
              "    }\n",
              "</style>\n",
              "<table border=\"1\" class=\"dataframe\">\n",
              "  <thead>\n",
              "    <tr style=\"text-align: right;\">\n",
              "      <th></th>\n",
              "      <th>Date</th>\n",
              "      <th>Sum of CIF gross price(USD)</th>\n",
              "      <th>Sum of Quantity in kg</th>\n",
              "      <th>Price</th>\n",
              "    </tr>\n",
              "  </thead>\n",
              "  <tbody>\n",
              "    <tr>\n",
              "      <th>0</th>\n",
              "      <td>2023-01-02</td>\n",
              "      <td>558000.0</td>\n",
              "      <td>180000</td>\n",
              "      <td>3.1</td>\n",
              "    </tr>\n",
              "  </tbody>\n",
              "</table>\n",
              "</div>\n",
              "    <div class=\"colab-df-buttons\">\n",
              "\n",
              "  <div class=\"colab-df-container\">\n",
              "    <button class=\"colab-df-convert\" onclick=\"convertToInteractive('df-ab1e6947-9ade-4110-a29a-3e652efe089b')\"\n",
              "            title=\"Convert this dataframe to an interactive table.\"\n",
              "            style=\"display:none;\">\n",
              "\n",
              "  <svg xmlns=\"http://www.w3.org/2000/svg\" height=\"24px\" viewBox=\"0 -960 960 960\">\n",
              "    <path d=\"M120-120v-720h720v720H120Zm60-500h600v-160H180v160Zm220 220h160v-160H400v160Zm0 220h160v-160H400v160ZM180-400h160v-160H180v160Zm440 0h160v-160H620v160ZM180-180h160v-160H180v160Zm440 0h160v-160H620v160Z\"/>\n",
              "  </svg>\n",
              "    </button>\n",
              "\n",
              "  <style>\n",
              "    .colab-df-container {\n",
              "      display:flex;\n",
              "      gap: 12px;\n",
              "    }\n",
              "\n",
              "    .colab-df-convert {\n",
              "      background-color: #E8F0FE;\n",
              "      border: none;\n",
              "      border-radius: 50%;\n",
              "      cursor: pointer;\n",
              "      display: none;\n",
              "      fill: #1967D2;\n",
              "      height: 32px;\n",
              "      padding: 0 0 0 0;\n",
              "      width: 32px;\n",
              "    }\n",
              "\n",
              "    .colab-df-convert:hover {\n",
              "      background-color: #E2EBFA;\n",
              "      box-shadow: 0px 1px 2px rgba(60, 64, 67, 0.3), 0px 1px 3px 1px rgba(60, 64, 67, 0.15);\n",
              "      fill: #174EA6;\n",
              "    }\n",
              "\n",
              "    .colab-df-buttons div {\n",
              "      margin-bottom: 4px;\n",
              "    }\n",
              "\n",
              "    [theme=dark] .colab-df-convert {\n",
              "      background-color: #3B4455;\n",
              "      fill: #D2E3FC;\n",
              "    }\n",
              "\n",
              "    [theme=dark] .colab-df-convert:hover {\n",
              "      background-color: #434B5C;\n",
              "      box-shadow: 0px 1px 3px 1px rgba(0, 0, 0, 0.15);\n",
              "      filter: drop-shadow(0px 1px 2px rgba(0, 0, 0, 0.3));\n",
              "      fill: #FFFFFF;\n",
              "    }\n",
              "  </style>\n",
              "\n",
              "    <script>\n",
              "      const buttonEl =\n",
              "        document.querySelector('#df-ab1e6947-9ade-4110-a29a-3e652efe089b button.colab-df-convert');\n",
              "      buttonEl.style.display =\n",
              "        google.colab.kernel.accessAllowed ? 'block' : 'none';\n",
              "\n",
              "      async function convertToInteractive(key) {\n",
              "        const element = document.querySelector('#df-ab1e6947-9ade-4110-a29a-3e652efe089b');\n",
              "        const dataTable =\n",
              "          await google.colab.kernel.invokeFunction('convertToInteractive',\n",
              "                                                    [key], {});\n",
              "        if (!dataTable) return;\n",
              "\n",
              "        const docLinkHtml = 'Like what you see? Visit the ' +\n",
              "          '<a target=\"_blank\" href=https://colab.research.google.com/notebooks/data_table.ipynb>data table notebook</a>'\n",
              "          + ' to learn more about interactive tables.';\n",
              "        element.innerHTML = '';\n",
              "        dataTable['output_type'] = 'display_data';\n",
              "        await google.colab.output.renderOutput(dataTable, element);\n",
              "        const docLink = document.createElement('div');\n",
              "        docLink.innerHTML = docLinkHtml;\n",
              "        element.appendChild(docLink);\n",
              "      }\n",
              "    </script>\n",
              "  </div>\n",
              "\n",
              "\n",
              "    </div>\n",
              "  </div>\n"
            ],
            "application/vnd.google.colaboratory.intrinsic+json": {
              "type": "dataframe",
              "variable_name": "df_raw",
              "summary": "{\n  \"name\": \"df_raw\",\n  \"rows\": 475,\n  \"fields\": [\n    {\n      \"column\": \"Date\",\n      \"properties\": {\n        \"dtype\": \"date\",\n        \"min\": \"2023-01-02 00:00:00\",\n        \"max\": \"2025-01-31 00:00:00\",\n        \"num_unique_values\": 475,\n        \"samples\": [\n          \"2024-09-04 00:00:00\",\n          \"2024-11-15 00:00:00\",\n          \"2023-01-17 00:00:00\"\n        ],\n        \"semantic_type\": \"\",\n        \"description\": \"\"\n      }\n    },\n    {\n      \"column\": \"Sum of CIF gross price(USD)\",\n      \"properties\": {\n        \"dtype\": \"number\",\n        \"std\": 325692.4264236787,\n        \"min\": 17250.0,\n        \"max\": 1922494.4,\n        \"num_unique_values\": 430,\n        \"samples\": [\n          239000.0,\n          617900.0,\n          1616860.0\n        ],\n        \"semantic_type\": \"\",\n        \"description\": \"\"\n      }\n    },\n    {\n      \"column\": \"Sum of Quantity in kg\",\n      \"properties\": {\n        \"dtype\": \"number\",\n        \"std\": 147704,\n        \"min\": 5000,\n        \"max\": 980960,\n        \"num_unique_values\": 177,\n        \"samples\": [\n          236960,\n          500000,\n          41000\n        ],\n        \"semantic_type\": \"\",\n        \"description\": \"\"\n      }\n    },\n    {\n      \"column\": \"Price\",\n      \"properties\": {\n        \"dtype\": \"number\",\n        \"std\": 0.349148369307617,\n        \"min\": 1.0,\n        \"max\": 3.45,\n        \"num_unique_values\": 356,\n        \"samples\": [\n          3.35,\n          2.4206873760740253,\n          2.460714285714286\n        ],\n        \"semantic_type\": \"\",\n        \"description\": \"\"\n      }\n    }\n  ]\n}"
            }
          },
          "metadata": {},
          "execution_count": 16
        }
      ]
    },
    {
      "cell_type": "code",
      "source": [
        "plt.plot(df_raw['Date'], df_raw[\"Price\"])\n",
        "plt.xlabel(\"Date\")\n",
        "plt.ylabel(\"Daily price\")\n",
        "plt.figure(figsize=(32,2))\n",
        "plt.show()"
      ],
      "metadata": {
        "id": "OLlgupQtI5jx",
        "outputId": "bda81720-cb52-425e-907c-1db65016c77e",
        "colab": {
          "base_uri": "https://localhost:8080/",
          "height": 466
        }
      },
      "execution_count": 18,
      "outputs": [
        {
          "output_type": "display_data",
          "data": {
            "text/plain": [
              "<Figure size 640x480 with 1 Axes>"
            ],
            "image/png": "[encoded data removed]"
          },
          "metadata": {}
        },
        {
          "output_type": "display_data",
          "data": {
            "text/plain": [
              "<Figure size 3200x200 with 0 Axes>"
            ]
          },
          "metadata": {}
        }
      ]
    },
    {
      "cell_type": "code",
      "source": [
        "df = df_raw"
      ],
      "metadata": {
        "id": "q-kPPErjvYgT"
      },
      "execution_count": 20,
      "outputs": []
    },
    {
      "cell_type": "code",
      "source": [
        "plt.plot(df['Date'], df[\"Price\"])\n",
        "plt.xlabel(\"Date\")\n",
        "plt.ylabel(\"Daily price\")\n",
        "plt.figure(figsize=(32,2))\n",
        "plt.show()"
      ],
      "metadata": {
        "id": "a0G0mcQzvgDU",
        "outputId": "f83a54b1-2025-4743-c5c8-e5786ba7d850",
        "colab": {
          "base_uri": "https://localhost:8080/",
          "height": 466
        }
      },
      "execution_count": 21,
      "outputs": [
        {
          "output_type": "display_data",
          "data": {
            "text/plain": [
              "<Figure size 640x480 with 1 Axes>"
            ],
            "image/png": "[encoded data removed]"
          },
          "metadata": {}
        },
        {
          "output_type": "display_data",
          "data": {
            "text/plain": [
              "<Figure size 3200x200 with 0 Axes>"
            ]
          },
          "metadata": {}
        }
      ]
    },
    {
      "cell_type": "code",
      "source": [
        "# min-max nomalization\n",
        "from sklearn.preprocessing import MinMaxScaler\n",
        "\n",
        "scaler = MinMaxScaler(feature_range=(0, 1))\n",
        "df[['Price']] = scaler.fit_transform(df[['Price']])"
      ],
      "metadata": {
        "id": "A80wLBUot7Hv"
      },
      "execution_count": 22,
      "outputs": []
    },
    {
      "cell_type": "markdown",
      "metadata": {
        "id": "Ey6mH5e6-5dH"
      },
      "source": [
        "## Data Prep"
      ]
    },
    {
      "cell_type": "code",
      "source": [
        "#Function to perform the train test split on the df based on the desired window_size (ws)\n",
        "def train_test_prep(series, x_variables, y_variables,  window_size, test_size):\n",
        "  # series should be a numpy series\n",
        "  x_series = series[x_variables].to_numpy()\n",
        "  y_series = series[y_variables].to_numpy()\n",
        "\n",
        "  x_data = []\n",
        "  y_data = []\n",
        "  for i in range(len(x_series) - window_size):\n",
        "    x_data.append(x_series[i: i+window_size])\n",
        "    y_data.append(y_series[i+window_size])\n",
        "  x_data = np.array(x_data)\n",
        "  y_data = np.array(y_data)\n",
        "\n",
        "  train_size = x_data.shape[0] - test_size\n",
        "\n",
        "  train_x = x_data[:train_size, :,:]\n",
        "  train_y = y_data[:train_size, :]\n",
        "\n",
        "  test_x = x_data[train_size:train_size+test_size, :,:]\n",
        "  test_y = y_data[train_size:train_size+test_size:, :]\n",
        "\n",
        "  return [train_x, train_y, test_x, test_y]"
      ],
      "metadata": {
        "id": "du2Bh7tDSZx1"
      },
      "execution_count": 23,
      "outputs": []
    },
    {
      "cell_type": "code",
      "source": [
        "ws = 30\n",
        "test_size = 90"
      ],
      "metadata": {
        "id": "l-pAntwd5LcY"
      },
      "execution_count": 24,
      "outputs": []
    },
    {
      "cell_type": "code",
      "execution_count": 25,
      "metadata": {
        "id": "5PSrzvxwqv55"
      },
      "outputs": [],
      "source": [
        "x_train, y_train, x_test, y_test = train_test_prep(df, [\"Price\"],[\"Price\"], ws,test_size)"
      ]
    },
    {
      "cell_type": "code",
      "source": [
        "x_train.shape, x_test.shape, y_train.shape, y_test.shape"
      ],
      "metadata": {
        "id": "h3uHiaRJVCkN",
        "colab": {
          "base_uri": "https://localhost:8080/"
        },
        "outputId": "aca32080-1470-451a-8558-fa46e574134d"
      },
      "execution_count": 26,
      "outputs": [
        {
          "output_type": "execute_result",
          "data": {
            "text/plain": [
              "((355, 30, 1), (90, 30, 1), (355, 1), (90, 1))"
            ]
          },
          "metadata": {},
          "execution_count": 26
        }
      ]
    },
    {
      "cell_type": "code",
      "source": [
        "#Function to obtain train, test data as tensors for torch\n",
        "def array_to_tensor(x_train, x_test, y_train, y_test):\n",
        "  x_train_torch = torch.from_numpy(x_train).type(torch.Tensor).cuda()\n",
        "  x_test_torch = torch.from_numpy(x_test).type(torch.Tensor).cuda()\n",
        "  y_train_torch = torch.from_numpy(y_train).type(torch.Tensor).cuda()\n",
        "  y_test_torch = torch.from_numpy(y_test).type(torch.Tensor).cuda()\n",
        "  return x_train_torch, x_test_torch, y_train_torch, y_test_torch"
      ],
      "metadata": {
        "id": "rP4I-W8vXZ94"
      },
      "execution_count": 27,
      "outputs": []
    },
    {
      "cell_type": "code",
      "source": [
        "x_train_torch, x_test_torch, y_train_torch, y_test_torch = array_to_tensor(x_train, x_test, y_train, y_test)"
      ],
      "metadata": {
        "id": "tVVkPr0pXlK1"
      },
      "execution_count": 28,
      "outputs": []
    },
    {
      "cell_type": "code",
      "source": [
        "x_train_torch.shape, x_test_torch.shape, y_train_torch.shape, y_test_torch.shape"
      ],
      "metadata": {
        "id": "uEZ_iuaCVXYR",
        "outputId": "2c51cbf3-ea94-4bd0-bc5a-a0a3c1fc9c24",
        "colab": {
          "base_uri": "https://localhost:8080/"
        }
      },
      "execution_count": 29,
      "outputs": [
        {
          "output_type": "execute_result",
          "data": {
            "text/plain": [
              "(torch.Size([355, 30, 1]),\n",
              " torch.Size([90, 30, 1]),\n",
              " torch.Size([355, 1]),\n",
              " torch.Size([90, 1]))"
            ]
          },
          "metadata": {},
          "execution_count": 29
        }
      ]
    },
    {
      "cell_type": "markdown",
      "source": [
        "# Baseline model"
      ],
      "metadata": {
        "id": "KFNXecrkW4-3"
      }
    },
    {
      "cell_type": "code",
      "source": [
        "# base line model that uses the previous time stamp's demand as the predicted demand\n",
        "\n",
        "#function for baseline model\n",
        "def baseline_rmse(df, ws, y_train_data, column_name):\n",
        "  y_base_test = np.array(df[column_name][ws+y_train.shape[0]-1:-1],dtype=np.float32)\n",
        "  y_base_label = np.array(df[column_name][ws+y_train.shape[0]:],dtype=np.float32)\n",
        "\n",
        "  print(y_base_test, y_base_label)\n",
        "  rmse_loss_test = np.sqrt(mean_squared_error(y_base_test, y_base_label))\n",
        "  return rmse_loss_test"
      ],
      "metadata": {
        "id": "VgvhGAq-Puyj"
      },
      "execution_count": 30,
      "outputs": []
    },
    {
      "cell_type": "code",
      "source": [
        "baseline_rmse(df, ws, y_train, 'Price')"
      ],
      "metadata": {
        "id": "-QRbM0_PP-Kf",
        "outputId": "e639d7eb-4bc0-44a7-db74-c39d58be6753",
        "colab": {
          "base_uri": "https://localhost:8080/"
        }
      },
      "execution_count": 31,
      "outputs": [
        {
          "output_type": "stream",
          "name": "stdout",
          "text": [
            "[0.6116182  0.7096428  0.60816324 0.6765306  0.64981186 0.6712018\n",
            " 0.5636735  0.59591836 0.5884694  0.66929686 0.6622449  0.60047096\n",
            " 0.6489796  0.6530612  0.6582143  0.6018021  0.5967347  0.622449\n",
            " 0.5869388  0.63265306 0.59183675 0.6357143  0.6432117  0.70068026\n",
            " 0.59183675 0.62142855 0.6020408  0.5977573  0.6122449  0.5836735\n",
            " 0.5836735  0.55663264 0.56483173 0.5836735  0.5762068  0.56093293\n",
            " 0.44437468 0.47891158 0.6068027  0.5469388  0.5387755  0.4\n",
            " 0.48270676 0.5714286  0.4        0.27755103 0.5964286  0.54064626\n",
            " 0.55897427 0.54183674 0.547708   0.55110544 0.34183672 0.580968\n",
            " 0.5387755  0.56600535 0.63265306 0.5043084  0.5816327  0.48979592\n",
            " 0.55       0.         0.52478135 0.45034012 0.2868526  0.56632656\n",
            " 0.5158853  0.48979592 0.5019493  0.5479592  0.4956916  0.48979592\n",
            " 0.50340134 0.5510204  0.52690166 0.5526812  0.5367347  0.5510204\n",
            " 0.5481633  0.5588697  0.5561606  0.5510204  0.56734693 0.5442177\n",
            " 0.53674793 0.67346936 0.5510204  0.5510204  0.5714286  0.54592985] [0.7096428  0.60816324 0.6765306  0.64981186 0.6712018  0.5636735\n",
            " 0.59591836 0.5884694  0.66929686 0.6622449  0.60047096 0.6489796\n",
            " 0.6530612  0.6582143  0.6018021  0.5967347  0.622449   0.5869388\n",
            " 0.63265306 0.59183675 0.6357143  0.6432117  0.70068026 0.59183675\n",
            " 0.62142855 0.6020408  0.5977573  0.6122449  0.5836735  0.5836735\n",
            " 0.55663264 0.56483173 0.5836735  0.5762068  0.56093293 0.44437468\n",
            " 0.47891158 0.6068027  0.5469388  0.5387755  0.4        0.48270676\n",
            " 0.5714286  0.4        0.27755103 0.5964286  0.54064626 0.55897427\n",
            " 0.54183674 0.547708   0.55110544 0.34183672 0.580968   0.5387755\n",
            " 0.56600535 0.63265306 0.5043084  0.5816327  0.48979592 0.55\n",
            " 0.         0.52478135 0.45034012 0.2868526  0.56632656 0.5158853\n",
            " 0.48979592 0.5019493  0.5479592  0.4956916  0.48979592 0.50340134\n",
            " 0.5510204  0.52690166 0.5526812  0.5367347  0.5510204  0.5481633\n",
            " 0.5588697  0.5561606  0.5510204  0.56734693 0.5442177  0.53674793\n",
            " 0.67346936 0.5510204  0.5510204  0.5714286  0.54592985 0.5431881 ]\n"
          ]
        },
        {
          "output_type": "execute_result",
          "data": {
            "text/plain": [
              "0.11442987414160107"
            ]
          },
          "metadata": {},
          "execution_count": 31
        }
      ]
    },
    {
      "cell_type": "markdown",
      "metadata": {
        "id": "73Ip-SqqS11j"
      },
      "source": [
        "# LSTM Model Architecture\n"
      ]
    },
    {
      "cell_type": "code",
      "execution_count": 32,
      "metadata": {
        "id": "OEtzYAFbU01B"
      },
      "outputs": [],
      "source": [
        "class LSTM(nn.Module):\n",
        "    def __init__(self, input_dim, hidden_dim, num_layers, output_dim, num_epochs, dropout_rate):\n",
        "        super(LSTM, self).__init__()\n",
        "        self.hidden_dim = hidden_dim\n",
        "        self.num_layers = num_layers\n",
        "\n",
        "        self.lstm = nn.LSTM(input_dim, hidden_dim, num_layers, batch_first=True)\n",
        "        self.fc = nn.Linear(hidden_dim, output_dim)\n",
        "\n",
        "    def forward(self, x):\n",
        "        h0 = torch.zeros(self.num_layers, x.size(0), self.hidden_dim).requires_grad_().cuda()\n",
        "        c0 = torch.zeros(self.num_layers, x.size(0), self.hidden_dim).requires_grad_().cuda()\n",
        "        out, (hn, cn) = self.lstm(x, (h0, c0))\n",
        "        out = self.fc(out[:, -1, :])\n",
        "        return out"
      ]
    },
    {
      "cell_type": "code",
      "source": [
        "def build_lstm_model(input_dim, hidden_dim, num_layers, output_dim, num_epochs, dropout_rate):\n",
        "  model = LSTM(input_dim=input_dim, hidden_dim=hidden_dim, output_dim=output_dim, num_layers=num_layers, num_epochs=num_epochs, dropout_rate=dropout_rate)\n",
        "  model = model.cuda()\n",
        "  cr = torch.nn.MSELoss(reduction='mean')\n",
        "  optimizer = torch.optim.Adam(model.parameters(), lr=0.01)\n",
        "  return model, cr, optimizer"
      ],
      "metadata": {
        "id": "jCOJmN4-SBaS"
      },
      "execution_count": 33,
      "outputs": []
    },
    {
      "cell_type": "code",
      "source": [
        "input_dim = 1\n",
        "output_dim = 1\n",
        "dropout_rate = 0.3\n",
        "# other Parameters\n",
        "#num_layers = 2\n",
        "#hidden_dim = 50\n",
        "#num_epochs = 100\n"
      ],
      "metadata": {
        "id": "HZqDYtW5qkLU"
      },
      "execution_count": 34,
      "outputs": []
    },
    {
      "cell_type": "markdown",
      "source": [
        "# Train LSTM Model"
      ],
      "metadata": {
        "id": "zfQGXVvcYQMx"
      }
    },
    {
      "cell_type": "code",
      "source": [
        "def train_model(model, cr, optimizer, x_train_torch, y_train_torch, x_test_torch, y_test_torch, num_epochs):\n",
        "  torch.manual_seed(42)\n",
        "  torch.cuda.manual_seed(42)\n",
        "  torch.cuda.manual_seed_all(42)\n",
        "  np.random.seed(42)\n",
        "  torch.backends.cudnn.deterministic = True\n",
        "\n",
        "  train_hist = np.zeros(num_epochs)\n",
        "  test_hist = np.zeros(num_epochs)\n",
        "  start_time = time.time()\n",
        "  lstm = []\n",
        "\n",
        "\n",
        "  for t in range(num_epochs):\n",
        "    model.train()\n",
        "    y_train_pred = model(x_train_torch)\n",
        "    loss = cr(y_train_pred, y_train_torch)\n",
        "    train_hist[t] = loss.item()\n",
        "\n",
        "    optimizer.zero_grad()\n",
        "    loss.backward()\n",
        "    optimizer.step()\n",
        "\n",
        "    model.eval()\n",
        "    with torch.no_grad():\n",
        "      y_test_pred = model(x_test_torch)\n",
        "      loss = cr(y_test_pred, y_test_torch)\n",
        "      test_hist[t] = loss.item()\n",
        "      #print(\"Epoch \", t, \"train MSE: \", train_hist[t], \"Test MSE:\", test_hist[t])\n",
        "\n",
        "  training_time = time.time()-start_time\n",
        "  #print(\"Training time: {}\".format(training_time))\n",
        "  return y_train_pred, y_test_pred"
      ],
      "metadata": {
        "id": "jhjJL08dUa70"
      },
      "execution_count": 35,
      "outputs": []
    },
    {
      "cell_type": "markdown",
      "source": [
        "# Get_RMSE\n",
        "\n"
      ],
      "metadata": {
        "id": "T45S68m9YeKD"
      }
    },
    {
      "cell_type": "code",
      "source": [
        "def get_RMSE(y_train_pred, y_train_torch , type='Train'):\n",
        "  # invert predictions\n",
        "  y_train_pred = y_train_pred.cpu().detach().numpy()\n",
        "  y_train_final = y_train_torch.cpu().detach().numpy()\n",
        "\n",
        "  # calculate root mean squared error\n",
        "  trainScore = math.sqrt(mean_squared_error(y_train_final[:,0], y_train_pred[:,0]))\n",
        "  print(f\"{type} RMSE: \",trainScore)\n",
        "\n",
        "  return trainScore"
      ],
      "metadata": {
        "id": "UHoCKoRTOVWp"
      },
      "execution_count": 36,
      "outputs": []
    },
    {
      "cell_type": "markdown",
      "source": [
        "#Model parameters fine tuneing"
      ],
      "metadata": {
        "id": "RsBaVqjLGYrk"
      }
    },
    {
      "cell_type": "code",
      "source": [
        "# Function to vary the number of layers and hidden dimensions, and epochs to find the combination with the best RMSE\n",
        "def model_tuning(x_train_torch, y_train_torch, x_test_torch, y_test_torch, input_dim, output_dim):\n",
        "  torch.manual_seed(42)\n",
        "  torch.cuda.manual_seed(42)\n",
        "  torch.cuda.manual_seed_all(42)\n",
        "  np.random.seed(42)\n",
        "  torch.backends.cudnn.deterministic = True\n",
        "  testscore = 0\n",
        "  nl = 0\n",
        "  hd = 0\n",
        "  epochs = 0\n",
        "  summary = []\n",
        "  for num_epochs in [100, 200, 300, 400]:\n",
        "    for num_layers in [2, 3, 4, 5]:\n",
        "      for hidden_dim in [25, 50, 75, 100]:\n",
        "        model, cr, optimizer = build_lstm_model(input_dim, hidden_dim, num_layers, output_dim, num_epochs,dropout_rate)\n",
        "        y_train_pred, y_test_pred = train_model(model, cr, optimizer, x_train_torch, y_train_torch, x_test_torch, y_test_torch, num_epochs)\n",
        "        train_score = get_RMSE(y_train_torch, y_train_pred, type='Train')\n",
        "        # test_score = get_test_rmse(x_test_torch, y_test_torch, model, ws, test_size)\n",
        "        test_score = get_RMSE(y_test_torch, y_test_pred, type='Test')\n",
        "        print(\", Number of layers: \", num_layers, \", Hidden dimensions: \", hidden_dim, \", Number of Epochs:\", num_epochs)\n",
        "        summary.append({\n",
        "            'Number of layers': num_layers,\n",
        "            'Hidden dimensions': hidden_dim,\n",
        "            'Number of Epochs': num_epochs,\n",
        "            'Train RMSE': train_score,\n",
        "            'Test RMSE': test_score\n",
        "        })\n",
        "\n",
        "        if test_score < testscore or testscore == 0 :\n",
        "          testscore = test_score\n",
        "          nl = num_layers\n",
        "          hd = hidden_dim\n",
        "          epochs = num_epochs\n",
        "  print(\"Optimum Number of layers:\", nl, \"Optimum Hidden dimensions:\", hd, \"Optimum Number of Epochs:\",epochs,\"Test RMSE:\", testscore)\n",
        "  return nl, hd, epochs, summary"
      ],
      "metadata": {
        "id": "UHTxP8QT25m5"
      },
      "execution_count": 37,
      "outputs": []
    },
    {
      "cell_type": "code",
      "source": [
        "nl, hd, epochs, summary = model_tuning(x_train_torch, y_train_torch, x_test_torch, y_test_torch, input_dim, output_dim)"
      ],
      "metadata": {
        "id": "cjr2I5lAUYox",
        "outputId": "0ce4e80b-bf5f-460e-8956-9c4a835f0f9f",
        "colab": {
          "base_uri": "https://localhost:8080/"
        }
      },
      "execution_count": 38,
      "outputs": [
        {
          "output_type": "stream",
          "name": "stdout",
          "text": [
            "Train RMSE:  0.07495702105633462\n",
            "Test RMSE:  0.08739683997018191\n",
            ", Number of layers:  2 , Hidden dimensions:  25 , Number of Epochs: 100\n",
            "Train RMSE:  0.07531059704449986\n",
            "Test RMSE:  0.0892095729681098\n",
            ", Number of layers:  2 , Hidden dimensions:  50 , Number of Epochs: 100\n",
            "Train RMSE:  0.07703838164006709\n",
            "Test RMSE:  0.0870392011018695\n",
            ", Number of layers:  2 , Hidden dimensions:  75 , Number of Epochs: 100\n",
            "Train RMSE:  0.07867582273853879\n",
            "Test RMSE:  0.08820439597093453\n",
            ", Number of layers:  2 , Hidden dimensions:  100 , Number of Epochs: 100\n",
            "Train RMSE:  0.07614678801165534\n",
            "Test RMSE:  0.08796940028321229\n",
            ", Number of layers:  3 , Hidden dimensions:  25 , Number of Epochs: 100\n",
            "Train RMSE:  0.07506600942118229\n",
            "Test RMSE:  0.08677738404772105\n",
            ", Number of layers:  3 , Hidden dimensions:  50 , Number of Epochs: 100\n",
            "Train RMSE:  0.11205292137646235\n",
            "Test RMSE:  0.09765942568383859\n",
            ", Number of layers:  3 , Hidden dimensions:  75 , Number of Epochs: 100\n",
            "Train RMSE:  0.08478790508982212\n",
            "Test RMSE:  0.11545077307217388\n",
            ", Number of layers:  3 , Hidden dimensions:  100 , Number of Epochs: 100\n",
            "Train RMSE:  0.07533379596940722\n",
            "Test RMSE:  0.08688005307050697\n",
            ", Number of layers:  4 , Hidden dimensions:  25 , Number of Epochs: 100\n",
            "Train RMSE:  0.07521993989304425\n",
            "Test RMSE:  0.08734624543489412\n",
            ", Number of layers:  4 , Hidden dimensions:  50 , Number of Epochs: 100\n",
            "Train RMSE:  0.08398426687987709\n",
            "Test RMSE:  0.08785962776776608\n",
            ", Number of layers:  4 , Hidden dimensions:  75 , Number of Epochs: 100\n",
            "Train RMSE:  0.15030196288761397\n",
            "Test RMSE:  0.09882593604818707\n",
            ", Number of layers:  4 , Hidden dimensions:  100 , Number of Epochs: 100\n",
            "Train RMSE:  0.15053895348462734\n",
            "Test RMSE:  0.09620180412675644\n",
            ", Number of layers:  5 , Hidden dimensions:  25 , Number of Epochs: 100\n",
            "Train RMSE:  0.14856031632373226\n",
            "Test RMSE:  0.09683495393709805\n",
            ", Number of layers:  5 , Hidden dimensions:  50 , Number of Epochs: 100\n",
            "Train RMSE:  0.0832834491833007\n",
            "Test RMSE:  0.0967339594549719\n",
            ", Number of layers:  5 , Hidden dimensions:  75 , Number of Epochs: 100\n",
            "Train RMSE:  0.15030769439597136\n",
            "Test RMSE:  0.09861778862470873\n",
            ", Number of layers:  5 , Hidden dimensions:  100 , Number of Epochs: 100\n",
            "Train RMSE:  0.07447584696131569\n",
            "Test RMSE:  0.08649115595298477\n",
            ", Number of layers:  2 , Hidden dimensions:  25 , Number of Epochs: 200\n",
            "Train RMSE:  0.07442245323453878\n",
            "Test RMSE:  0.08636103645688008\n",
            ", Number of layers:  2 , Hidden dimensions:  50 , Number of Epochs: 200\n",
            "Train RMSE:  0.07457187681420721\n",
            "Test RMSE:  0.08638960409811737\n",
            ", Number of layers:  2 , Hidden dimensions:  75 , Number of Epochs: 200\n",
            "Train RMSE:  0.07476743425374503\n",
            "Test RMSE:  0.08677838483070445\n",
            ", Number of layers:  2 , Hidden dimensions:  100 , Number of Epochs: 200\n",
            "Train RMSE:  0.0748463901629498\n",
            "Test RMSE:  0.0866648605373211\n",
            ", Number of layers:  3 , Hidden dimensions:  25 , Number of Epochs: 200\n",
            "Train RMSE:  0.07452132324373294\n",
            "Test RMSE:  0.08579921976288525\n",
            ", Number of layers:  3 , Hidden dimensions:  50 , Number of Epochs: 200\n",
            "Train RMSE:  0.07474702188589905\n",
            "Test RMSE:  0.0864212713842946\n",
            ", Number of layers:  3 , Hidden dimensions:  75 , Number of Epochs: 200\n",
            "Train RMSE:  0.0744879195876546\n",
            "Test RMSE:  0.08683490899283859\n",
            ", Number of layers:  3 , Hidden dimensions:  100 , Number of Epochs: 200\n",
            "Train RMSE:  0.07502456885985057\n",
            "Test RMSE:  0.08390274904981627\n",
            ", Number of layers:  4 , Hidden dimensions:  25 , Number of Epochs: 200\n",
            "Train RMSE:  0.07443717449947426\n",
            "Test RMSE:  0.08782864610537425\n",
            ", Number of layers:  4 , Hidden dimensions:  50 , Number of Epochs: 200\n",
            "Train RMSE:  0.0747917667116401\n",
            "Test RMSE:  0.08604244846438325\n",
            ", Number of layers:  4 , Hidden dimensions:  75 , Number of Epochs: 200\n",
            "Train RMSE:  0.14977409891025578\n",
            "Test RMSE:  0.1015981098249845\n",
            ", Number of layers:  4 , Hidden dimensions:  100 , Number of Epochs: 200\n",
            "Train RMSE:  0.15026392491860346\n",
            "Test RMSE:  0.0987560239143601\n",
            ", Number of layers:  5 , Hidden dimensions:  25 , Number of Epochs: 200\n",
            "Train RMSE:  0.07474893441943824\n",
            "Test RMSE:  0.08678552412995708\n",
            ", Number of layers:  5 , Hidden dimensions:  50 , Number of Epochs: 200\n",
            "Train RMSE:  0.07416279151399653\n",
            "Test RMSE:  0.08539712407804514\n",
            ", Number of layers:  5 , Hidden dimensions:  75 , Number of Epochs: 200\n",
            "Train RMSE:  0.15028686164013474\n",
            "Test RMSE:  0.09872055871809356\n",
            ", Number of layers:  5 , Hidden dimensions:  100 , Number of Epochs: 200\n",
            "Train RMSE:  0.07438907403977683\n",
            "Test RMSE:  0.08634044992920743\n",
            ", Number of layers:  2 , Hidden dimensions:  25 , Number of Epochs: 300\n",
            "Train RMSE:  0.0743510171947021\n",
            "Test RMSE:  0.08625181383233249\n",
            ", Number of layers:  2 , Hidden dimensions:  50 , Number of Epochs: 300\n",
            "Train RMSE:  0.07443773126025753\n",
            "Test RMSE:  0.08596978068955885\n",
            ", Number of layers:  2 , Hidden dimensions:  75 , Number of Epochs: 300\n",
            "Train RMSE:  0.07451265267003082\n",
            "Test RMSE:  0.08633273714354409\n",
            ", Number of layers:  2 , Hidden dimensions:  100 , Number of Epochs: 300\n",
            "Train RMSE:  0.07437622154458852\n",
            "Test RMSE:  0.08604063813306384\n",
            ", Number of layers:  3 , Hidden dimensions:  25 , Number of Epochs: 300\n",
            "Train RMSE:  0.07503428805391776\n",
            "Test RMSE:  0.08633773165540296\n",
            ", Number of layers:  3 , Hidden dimensions:  50 , Number of Epochs: 300\n",
            "Train RMSE:  0.07432708237465857\n",
            "Test RMSE:  0.08610800063514809\n",
            ", Number of layers:  3 , Hidden dimensions:  75 , Number of Epochs: 300\n",
            "Train RMSE:  0.07437900132747712\n",
            "Test RMSE:  0.08642610991679484\n",
            ", Number of layers:  3 , Hidden dimensions:  100 , Number of Epochs: 300\n",
            "Train RMSE:  0.07374584593428918\n",
            "Test RMSE:  0.08452603963105668\n",
            ", Number of layers:  4 , Hidden dimensions:  25 , Number of Epochs: 300\n",
            "Train RMSE:  0.07294322669712015\n",
            "Test RMSE:  0.08662173046235007\n",
            ", Number of layers:  4 , Hidden dimensions:  50 , Number of Epochs: 300\n",
            "Train RMSE:  0.07329575169437869\n",
            "Test RMSE:  0.0824287157474161\n",
            ", Number of layers:  4 , Hidden dimensions:  75 , Number of Epochs: 300\n",
            "Train RMSE:  0.15036188197729186\n",
            "Test RMSE:  0.09768073728635408\n",
            ", Number of layers:  4 , Hidden dimensions:  100 , Number of Epochs: 300\n",
            "Train RMSE:  0.15001792676415543\n",
            "Test RMSE:  0.09748511100603703\n",
            ", Number of layers:  5 , Hidden dimensions:  25 , Number of Epochs: 300\n",
            "Train RMSE:  0.07121114195638947\n",
            "Test RMSE:  0.09033588195016537\n",
            ", Number of layers:  5 , Hidden dimensions:  50 , Number of Epochs: 300\n",
            "Train RMSE:  0.07327117028589154\n",
            "Test RMSE:  0.0839625319086985\n",
            ", Number of layers:  5 , Hidden dimensions:  75 , Number of Epochs: 300\n",
            "Train RMSE:  0.1501741151274478\n",
            "Test RMSE:  0.09874379174720359\n",
            ", Number of layers:  5 , Hidden dimensions:  100 , Number of Epochs: 300\n",
            "Train RMSE:  0.07431339202663101\n",
            "Test RMSE:  0.0863471077205041\n",
            ", Number of layers:  2 , Hidden dimensions:  25 , Number of Epochs: 400\n",
            "Train RMSE:  0.07430043243090474\n",
            "Test RMSE:  0.08632615645999331\n",
            ", Number of layers:  2 , Hidden dimensions:  50 , Number of Epochs: 400\n",
            "Train RMSE:  0.07439350272178975\n",
            "Test RMSE:  0.08592395784143114\n",
            ", Number of layers:  2 , Hidden dimensions:  75 , Number of Epochs: 400\n",
            "Train RMSE:  0.0743739863735337\n",
            "Test RMSE:  0.08674691501090732\n",
            ", Number of layers:  2 , Hidden dimensions:  100 , Number of Epochs: 400\n",
            "Train RMSE:  0.07432135278528502\n",
            "Test RMSE:  0.0860931114685417\n",
            ", Number of layers:  3 , Hidden dimensions:  25 , Number of Epochs: 400\n",
            "Train RMSE:  0.07244539454042168\n",
            "Test RMSE:  0.08266578219133508\n",
            ", Number of layers:  3 , Hidden dimensions:  50 , Number of Epochs: 400\n",
            "Train RMSE:  0.07396052009188313\n",
            "Test RMSE:  0.08627558712628937\n",
            ", Number of layers:  3 , Hidden dimensions:  75 , Number of Epochs: 400\n",
            "Train RMSE:  0.07429110927351738\n",
            "Test RMSE:  0.08637726224646666\n",
            ", Number of layers:  3 , Hidden dimensions:  100 , Number of Epochs: 400\n",
            "Train RMSE:  0.06943855951957557\n",
            "Test RMSE:  0.0921091743075552\n",
            ", Number of layers:  4 , Hidden dimensions:  25 , Number of Epochs: 400\n",
            "Train RMSE:  0.07233110567104206\n",
            "Test RMSE:  0.0843770831566191\n",
            ", Number of layers:  4 , Hidden dimensions:  50 , Number of Epochs: 400\n",
            "Train RMSE:  0.07308377937604786\n",
            "Test RMSE:  0.0853746852062588\n",
            ", Number of layers:  4 , Hidden dimensions:  75 , Number of Epochs: 400\n",
            "Train RMSE:  0.1563032357602301\n",
            "Test RMSE:  0.10872424624361152\n",
            ", Number of layers:  4 , Hidden dimensions:  100 , Number of Epochs: 400\n",
            "Train RMSE:  0.14170641470053974\n",
            "Test RMSE:  0.09600450298463632\n",
            ", Number of layers:  5 , Hidden dimensions:  25 , Number of Epochs: 400\n",
            "Train RMSE:  0.06745464186788683\n",
            "Test RMSE:  0.08911968871310537\n",
            ", Number of layers:  5 , Hidden dimensions:  50 , Number of Epochs: 400\n",
            "Train RMSE:  0.07545452831465829\n",
            "Test RMSE:  0.09618606649381571\n",
            ", Number of layers:  5 , Hidden dimensions:  75 , Number of Epochs: 400\n",
            "Train RMSE:  0.15027144899532602\n",
            "Test RMSE:  0.09769074784344942\n",
            ", Number of layers:  5 , Hidden dimensions:  100 , Number of Epochs: 400\n",
            "Optimum Number of layers: 4 Optimum Hidden dimensions: 75 Optimum Number of Epochs: 300 Test RMSE: 0.0824287157474161\n"
          ]
        }
      ]
    },
    {
      "cell_type": "code",
      "source": [
        "summary_df = pd.DataFrame(summary)\n",
        "summary_df"
      ],
      "metadata": {
        "id": "KeXNdqYoWZmA",
        "outputId": "b3465b11-2602-4e9b-f91e-36c2ffc6d3fa",
        "colab": {
          "base_uri": "https://localhost:8080/",
          "height": 423
        }
      },
      "execution_count": 39,
      "outputs": [
        {
          "output_type": "execute_result",
          "data": {
            "text/plain": [
              "    Number of layers  Hidden dimensions  Number of Epochs  Train RMSE  \\\n",
              "0                  2                 25               100    0.074957   \n",
              "1                  2                 50               100    0.075311   \n",
              "2                  2                 75               100    0.077038   \n",
              "3                  2                100               100    0.078676   \n",
              "4                  3                 25               100    0.076147   \n",
              "..               ...                ...               ...         ...   \n",
              "59                 4                100               400    0.156303   \n",
              "60                 5                 25               400    0.141706   \n",
              "61                 5                 50               400    0.067455   \n",
              "62                 5                 75               400    0.075455   \n",
              "63                 5                100               400    0.150271   \n",
              "\n",
              "    Test RMSE  \n",
              "0    0.087397  \n",
              "1    0.089210  \n",
              "2    0.087039  \n",
              "3    0.088204  \n",
              "4    0.087969  \n",
              "..        ...  \n",
              "59   0.108724  \n",
              "60   0.096005  \n",
              "61   0.089120  \n",
              "62   0.096186  \n",
              "63   0.097691  \n",
              "\n",
              "[64 rows x 5 columns]"
            ],
            "text/html": [
              "\n",
              "  <div id=\"df-7f426a91-a339-4b3b-ab25-239ebb101c2a\" class=\"colab-df-container\">\n",
              "    <div>\n",
              "<style scoped>\n",
              "    .dataframe tbody tr th:only-of-type {\n",
              "        vertical-align: middle;\n",
              "    }\n",
              "\n",
              "    .dataframe tbody tr th {\n",
              "        vertical-align: top;\n",
              "    }\n",
              "\n",
              "    .dataframe thead th {\n",
              "        text-align: right;\n",
              "    }\n",
              "</style>\n",
              "<table border=\"1\" class=\"dataframe\">\n",
              "  <thead>\n",
              "    <tr style=\"text-align: right;\">\n",
              "      <th></th>\n",
              "      <th>Number of layers</th>\n",
              "      <th>Hidden dimensions</th>\n",
              "      <th>Number of Epochs</th>\n",
              "      <th>Train RMSE</th>\n",
              "      <th>Test RMSE</th>\n",
              "    </tr>\n",
              "  </thead>\n",
              "  <tbody>\n",
              "    <tr>\n",
              "      <th>0</th>\n",
              "      <td>2</td>\n",
              "      <td>25</td>\n",
              "      <td>100</td>\n",
              "      <td>0.074957</td>\n",
              "      <td>0.087397</td>\n",
              "    </tr>\n",
              "    <tr>\n",
              "      <th>1</th>\n",
              "      <td>2</td>\n",
              "      <td>50</td>\n",
              "      <td>100</td>\n",
              "      <td>0.075311</td>\n",
              "      <td>0.089210</td>\n",
              "    </tr>\n",
              "    <tr>\n",
              "      <th>2</th>\n",
              "      <td>2</td>\n",
              "      <td>75</td>\n",
              "      <td>100</td>\n",
              "      <td>0.077038</td>\n",
              "      <td>0.087039</td>\n",
              "    </tr>\n",
              "    <tr>\n",
              "      <th>3</th>\n",
              "      <td>2</td>\n",
              "      <td>100</td>\n",
              "      <td>100</td>\n",
              "      <td>0.078676</td>\n",
              "      <td>0.088204</td>\n",
              "    </tr>\n",
              "    <tr>\n",
              "      <th>4</th>\n",
              "      <td>3</td>\n",
              "      <td>25</td>\n",
              "      <td>100</td>\n",
              "      <td>0.076147</td>\n",
              "      <td>0.087969</td>\n",
              "    </tr>\n",
              "    <tr>\n",
              "      <th>...</th>\n",
              "      <td>...</td>\n",
              "      <td>...</td>\n",
              "      <td>...</td>\n",
              "      <td>...</td>\n",
              "      <td>...</td>\n",
              "    </tr>\n",
              "    <tr>\n",
              "      <th>59</th>\n",
              "      <td>4</td>\n",
              "      <td>100</td>\n",
              "      <td>400</td>\n",
              "      <td>0.156303</td>\n",
              "      <td>0.108724</td>\n",
              "    </tr>\n",
              "    <tr>\n",
              "      <th>60</th>\n",
              "      <td>5</td>\n",
              "      <td>25</td>\n",
              "      <td>400</td>\n",
              "      <td>0.141706</td>\n",
              "      <td>0.096005</td>\n",
              "    </tr>\n",
              "    <tr>\n",
              "      <th>61</th>\n",
              "      <td>5</td>\n",
              "      <td>50</td>\n",
              "      <td>400</td>\n",
              "      <td>0.067455</td>\n",
              "      <td>0.089120</td>\n",
              "    </tr>\n",
              "    <tr>\n",
              "      <th>62</th>\n",
              "      <td>5</td>\n",
              "      <td>75</td>\n",
              "      <td>400</td>\n",
              "      <td>0.075455</td>\n",
              "      <td>0.096186</td>\n",
              "    </tr>\n",
              "    <tr>\n",
              "      <th>63</th>\n",
              "      <td>5</td>\n",
              "      <td>100</td>\n",
              "      <td>400</td>\n",
              "      <td>0.150271</td>\n",
              "      <td>0.097691</td>\n",
              "    </tr>\n",
              "  </tbody>\n",
              "</table>\n",
              "<p>64 rows × 5 columns</p>\n",
              "</div>\n",
              "    <div class=\"colab-df-buttons\">\n",
              "\n",
              "  <div class=\"colab-df-container\">\n",
              "    <button class=\"colab-df-convert\" onclick=\"convertToInteractive('df-7f426a91-a339-4b3b-ab25-239ebb101c2a')\"\n",
              "            title=\"Convert this dataframe to an interactive table.\"\n",
              "            style=\"display:none;\">\n",
              "\n",
              "  <svg xmlns=\"http://www.w3.org/2000/svg\" height=\"24px\" viewBox=\"0 -960 960 960\">\n",
              "    <path d=\"M120-120v-720h720v720H120Zm60-500h600v-160H180v160Zm220 220h160v-160H400v160Zm0 220h160v-160H400v160ZM180-400h160v-160H180v160Zm440 0h160v-160H620v160ZM180-180h160v-160H180v160Zm440 0h160v-160H620v160Z\"/>\n",
              "  </svg>\n",
              "    </button>\n",
              "\n",
              "  <style>\n",
              "    .colab-df-container {\n",
              "      display:flex;\n",
              "      gap: 12px;\n",
              "    }\n",
              "\n",
              "    .colab-df-convert {\n",
              "      background-color: #E8F0FE;\n",
              "      border: none;\n",
              "      border-radius: 50%;\n",
              "      cursor: pointer;\n",
              "      display: none;\n",
              "      fill: #1967D2;\n",
              "      height: 32px;\n",
              "      padding: 0 0 0 0;\n",
              "      width: 32px;\n",
              "    }\n",
              "\n",
              "    .colab-df-convert:hover {\n",
              "      background-color: #E2EBFA;\n",
              "      box-shadow: 0px 1px 2px rgba(60, 64, 67, 0.3), 0px 1px 3px 1px rgba(60, 64, 67, 0.15);\n",
              "      fill: #174EA6;\n",
              "    }\n",
              "\n",
              "    .colab-df-buttons div {\n",
              "      margin-bottom: 4px;\n",
              "    }\n",
              "\n",
              "    [theme=dark] .colab-df-convert {\n",
              "      background-color: #3B4455;\n",
              "      fill: #D2E3FC;\n",
              "    }\n",
              "\n",
              "    [theme=dark] .colab-df-convert:hover {\n",
              "      background-color: #434B5C;\n",
              "      box-shadow: 0px 1px 3px 1px rgba(0, 0, 0, 0.15);\n",
              "      filter: drop-shadow(0px 1px 2px rgba(0, 0, 0, 0.3));\n",
              "      fill: #FFFFFF;\n",
              "    }\n",
              "  </style>\n",
              "\n",
              "    <script>\n",
              "      const buttonEl =\n",
              "        document.querySelector('#df-7f426a91-a339-4b3b-ab25-239ebb101c2a button.colab-df-convert');\n",
              "      buttonEl.style.display =\n",
              "        google.colab.kernel.accessAllowed ? 'block' : 'none';\n",
              "\n",
              "      async function convertToInteractive(key) {\n",
              "        const element = document.querySelector('#df-7f426a91-a339-4b3b-ab25-239ebb101c2a');\n",
              "        const dataTable =\n",
              "          await google.colab.kernel.invokeFunction('convertToInteractive',\n",
              "                                                    [key], {});\n",
              "        if (!dataTable) return;\n",
              "\n",
              "        const docLinkHtml = 'Like what you see? Visit the ' +\n",
              "          '<a target=\"_blank\" href=https://colab.research.google.com/notebooks/data_table.ipynb>data table notebook</a>'\n",
              "          + ' to learn more about interactive tables.';\n",
              "        element.innerHTML = '';\n",
              "        dataTable['output_type'] = 'display_data';\n",
              "        await google.colab.output.renderOutput(dataTable, element);\n",
              "        const docLink = document.createElement('div');\n",
              "        docLink.innerHTML = docLinkHtml;\n",
              "        element.appendChild(docLink);\n",
              "      }\n",
              "    </script>\n",
              "  </div>\n",
              "\n",
              "\n",
              "<div id=\"df-b8fd9c35-2f10-4079-b288-d44e4884aa6c\">\n",
              "  <button class=\"colab-df-quickchart\" onclick=\"quickchart('df-b8fd9c35-2f10-4079-b288-d44e4884aa6c')\"\n",
              "            title=\"Suggest charts\"\n",
              "            style=\"display:none;\">\n",
              "\n",
              "<svg xmlns=\"http://www.w3.org/2000/svg\" height=\"24px\"viewBox=\"0 0 24 24\"\n",
              "     width=\"24px\">\n",
              "    <g>\n",
              "        <path d=\"M19 3H5c-1.1 0-2 .9-2 2v14c0 1.1.9 2 2 2h14c1.1 0 2-.9 2-2V5c0-1.1-.9-2-2-2zM9 17H7v-7h2v7zm4 0h-2V7h2v10zm4 0h-2v-4h2v4z\"/>\n",
              "    </g>\n",
              "</svg>\n",
              "  </button>\n",
              "\n",
              "<style>\n",
              "  .colab-df-quickchart {\n",
              "      --bg-color: #E8F0FE;\n",
              "      --fill-color: #1967D2;\n",
              "      --hover-bg-color: #E2EBFA;\n",
              "      --hover-fill-color: #174EA6;\n",
              "      --disabled-fill-color: #AAA;\n",
              "      --disabled-bg-color: #DDD;\n",
              "  }\n",
              "\n",
              "  [theme=dark] .colab-df-quickchart {\n",
              "      --bg-color: #3B4455;\n",
              "      --fill-color: #D2E3FC;\n",
              "      --hover-bg-color: #434B5C;\n",
              "      --hover-fill-color: #FFFFFF;\n",
              "      --disabled-bg-color: #3B4455;\n",
              "      --disabled-fill-color: #666;\n",
              "  }\n",
              "\n",
              "  .colab-df-quickchart {\n",
              "    background-color: var(--bg-color);\n",
              "    border: none;\n",
              "    border-radius: 50%;\n",
              "    cursor: pointer;\n",
              "    display: none;\n",
              "    fill: var(--fill-color);\n",
              "    height: 32px;\n",
              "    padding: 0;\n",
              "    width: 32px;\n",
              "  }\n",
              "\n",
              "  .colab-df-quickchart:hover {\n",
              "    background-color: var(--hover-bg-color);\n",
              "    box-shadow: 0 1px 2px rgba(60, 64, 67, 0.3), 0 1px 3px 1px rgba(60, 64, 67, 0.15);\n",
              "    fill: var(--button-hover-fill-color);\n",
              "  }\n",
              "\n",
              "  .colab-df-quickchart-complete:disabled,\n",
              "  .colab-df-quickchart-complete:disabled:hover {\n",
              "    background-color: var(--disabled-bg-color);\n",
              "    fill: var(--disabled-fill-color);\n",
              "    box-shadow: none;\n",
              "  }\n",
              "\n",
              "  .colab-df-spinner {\n",
              "    border: 2px solid var(--fill-color);\n",
              "    border-color: transparent;\n",
              "    border-bottom-color: var(--fill-color);\n",
              "    animation:\n",
              "      spin 1s steps(1) infinite;\n",
              "  }\n",
              "\n",
              "  @keyframes spin {\n",
              "    0% {\n",
              "      border-color: transparent;\n",
              "      border-bottom-color: var(--fill-color);\n",
              "      border-left-color: var(--fill-color);\n",
              "    }\n",
              "    20% {\n",
              "      border-color: transparent;\n",
              "      border-left-color: var(--fill-color);\n",
              "      border-top-color: var(--fill-color);\n",
              "    }\n",
              "    30% {\n",
              "      border-color: transparent;\n",
              "      border-left-color: var(--fill-color);\n",
              "      border-top-color: var(--fill-color);\n",
              "      border-right-color: var(--fill-color);\n",
              "    }\n",
              "    40% {\n",
              "      border-color: transparent;\n",
              "      border-right-color: var(--fill-color);\n",
              "      border-top-color: var(--fill-color);\n",
              "    }\n",
              "    60% {\n",
              "      border-color: transparent;\n",
              "      border-right-color: var(--fill-color);\n",
              "    }\n",
              "    80% {\n",
              "      border-color: transparent;\n",
              "      border-right-color: var(--fill-color);\n",
              "      border-bottom-color: var(--fill-color);\n",
              "    }\n",
              "    90% {\n",
              "      border-color: transparent;\n",
              "      border-bottom-color: var(--fill-color);\n",
              "    }\n",
              "  }\n",
              "</style>\n",
              "\n",
              "  <script>\n",
              "    async function quickchart(key) {\n",
              "      const quickchartButtonEl =\n",
              "        document.querySelector('#' + key + ' button');\n",
              "      quickchartButtonEl.disabled = true;  // To prevent multiple clicks.\n",
              "      quickchartButtonEl.classList.add('colab-df-spinner');\n",
              "      try {\n",
              "        const charts = await google.colab.kernel.invokeFunction(\n",
              "            'suggestCharts', [key], {});\n",
              "      } catch (error) {\n",
              "        console.error('Error during call to suggestCharts:', error);\n",
              "      }\n",
              "      quickchartButtonEl.classList.remove('colab-df-spinner');\n",
              "      quickchartButtonEl.classList.add('colab-df-quickchart-complete');\n",
              "    }\n",
              "    (() => {\n",
              "      let quickchartButtonEl =\n",
              "        document.querySelector('#df-b8fd9c35-2f10-4079-b288-d44e4884aa6c button');\n",
              "      quickchartButtonEl.style.display =\n",
              "        google.colab.kernel.accessAllowed ? 'block' : 'none';\n",
              "    })();\n",
              "  </script>\n",
              "</div>\n",
              "\n",
              "  <div id=\"id_d229296f-5259-4505-ad58-aa2096181b23\">\n",
              "    <style>\n",
              "      .colab-df-generate {\n",
              "        background-color: #E8F0FE;\n",
              "        border: none;\n",
              "        border-radius: 50%;\n",
              "        cursor: pointer;\n",
              "        display: none;\n",
              "        fill: #1967D2;\n",
              "        height: 32px;\n",
              "        padding: 0 0 0 0;\n",
              "        width: 32px;\n",
              "      }\n",
              "\n",
              "      .colab-df-generate:hover {\n",
              "        background-color: #E2EBFA;\n",
              "        box-shadow: 0px 1px 2px rgba(60, 64, 67, 0.3), 0px 1px 3px 1px rgba(60, 64, 67, 0.15);\n",
              "        fill: #174EA6;\n",
              "      }\n",
              "\n",
              "      [theme=dark] .colab-df-generate {\n",
              "        background-color: #3B4455;\n",
              "        fill: #D2E3FC;\n",
              "      }\n",
              "\n",
              "      [theme=dark] .colab-df-generate:hover {\n",
              "        background-color: #434B5C;\n",
              "        box-shadow: 0px 1px 3px 1px rgba(0, 0, 0, 0.15);\n",
              "        filter: drop-shadow(0px 1px 2px rgba(0, 0, 0, 0.3));\n",
              "        fill: #FFFFFF;\n",
              "      }\n",
              "    </style>\n",
              "    <button class=\"colab-df-generate\" onclick=\"generateWithVariable('summary_df')\"\n",
              "            title=\"Generate code using this dataframe.\"\n",
              "            style=\"display:none;\">\n",
              "\n",
              "  <svg xmlns=\"http://www.w3.org/2000/svg\" height=\"24px\"viewBox=\"0 0 24 24\"\n",
              "       width=\"24px\">\n",
              "    <path d=\"M7,19H8.4L18.45,9,17,7.55,7,17.6ZM5,21V16.75L18.45,3.32a2,2,0,0,1,2.83,0l1.4,1.43a1.91,1.91,0,0,1,.58,1.4,1.91,1.91,0,0,1-.58,1.4L9.25,21ZM18.45,9,17,7.55Zm-12,3A5.31,5.31,0,0,0,4.9,8.1,5.31,5.31,0,0,0,1,6.5,5.31,5.31,0,0,0,4.9,4.9,5.31,5.31,0,0,0,6.5,1,5.31,5.31,0,0,0,8.1,4.9,5.31,5.31,0,0,0,12,6.5,5.46,5.46,0,0,0,6.5,12Z\"/>\n",
              "  </svg>\n",
              "    </button>\n",
              "    <script>\n",
              "      (() => {\n",
              "      const buttonEl =\n",
              "        document.querySelector('#id_d229296f-5259-4505-ad58-aa2096181b23 button.colab-df-generate');\n",
              "      buttonEl.style.display =\n",
              "        google.colab.kernel.accessAllowed ? 'block' : 'none';\n",
              "\n",
              "      buttonEl.onclick = () => {\n",
              "        google.colab.notebook.generateWithVariable('summary_df');\n",
              "      }\n",
              "      })();\n",
              "    </script>\n",
              "  </div>\n",
              "\n",
              "    </div>\n",
              "  </div>\n"
            ],
            "application/vnd.google.colaboratory.intrinsic+json": {
              "type": "dataframe",
              "variable_name": "summary_df",
              "summary": "{\n  \"name\": \"summary_df\",\n  \"rows\": 64,\n  \"fields\": [\n    {\n      \"column\": \"Number of layers\",\n      \"properties\": {\n        \"dtype\": \"number\",\n        \"std\": 1,\n        \"min\": 2,\n        \"max\": 5,\n        \"num_unique_values\": 4,\n        \"samples\": [\n          3,\n          5,\n          2\n        ],\n        \"semantic_type\": \"\",\n        \"description\": \"\"\n      }\n    },\n    {\n      \"column\": \"Hidden dimensions\",\n      \"properties\": {\n        \"dtype\": \"number\",\n        \"std\": 28,\n        \"min\": 25,\n        \"max\": 100,\n        \"num_unique_values\": 4,\n        \"samples\": [\n          50,\n          100,\n          25\n        ],\n        \"semantic_type\": \"\",\n        \"description\": \"\"\n      }\n    },\n    {\n      \"column\": \"Number of Epochs\",\n      \"properties\": {\n        \"dtype\": \"number\",\n        \"std\": 112,\n        \"min\": 100,\n        \"max\": 400,\n        \"num_unique_values\": 4,\n        \"samples\": [\n          200,\n          400,\n          100\n        ],\n        \"semantic_type\": \"\",\n        \"description\": \"\"\n      }\n    },\n    {\n      \"column\": \"Train RMSE\",\n      \"properties\": {\n        \"dtype\": \"number\",\n        \"std\": 0.03064982569005195,\n        \"min\": 0.06745464186788683,\n        \"max\": 0.1563032357602301,\n        \"num_unique_values\": 64,\n        \"samples\": [\n          0.07432135278528502,\n          0.07308377937604786,\n          0.07495702105633462\n        ],\n        \"semantic_type\": \"\",\n        \"description\": \"\"\n      }\n    },\n    {\n      \"column\": \"Test RMSE\",\n      \"properties\": {\n        \"dtype\": \"number\",\n        \"std\": 0.006491032665595386,\n        \"min\": 0.0824287157474161,\n        \"max\": 0.11545077307217388,\n        \"num_unique_values\": 64,\n        \"samples\": [\n          0.0860931114685417,\n          0.0853746852062588,\n          0.08739683997018191\n        ],\n        \"semantic_type\": \"\",\n        \"description\": \"\"\n      }\n    }\n  ]\n}"
            }
          },
          "metadata": {},
          "execution_count": 39
        }
      ]
    },
    {
      "cell_type": "code",
      "source": [
        "train_min_idx = summary_df['Train RMSE'].idxmin()\n",
        "test_min_idx = summary_df['Test RMSE'].idxmin()\n",
        "\n",
        "train_min_row = summary_df.loc[train_min_idx]\n",
        "test_min_row = summary_df.loc[test_min_idx]\n",
        "\n",
        "# Display the results\n",
        "print(\"Row with the smallest Train Score: \", train_min_row)\n",
        "#print(train_min_row)\n",
        "print(\"\\nRow with the smallest Test Score: \", test_min_row)"
      ],
      "metadata": {
        "id": "S7QFS6lnk81d",
        "outputId": "b1453e8e-6f96-4043-b853-954ba31051b6",
        "colab": {
          "base_uri": "https://localhost:8080/"
        }
      },
      "execution_count": 40,
      "outputs": [
        {
          "output_type": "stream",
          "name": "stdout",
          "text": [
            "Row with the smallest Train Score:  Number of layers       5.000000\n",
            "Hidden dimensions     50.000000\n",
            "Number of Epochs     400.000000\n",
            "Train RMSE             0.067455\n",
            "Test RMSE              0.089120\n",
            "Name: 61, dtype: float64\n",
            "\n",
            "Row with the smallest Test Score:  Number of layers       4.000000\n",
            "Hidden dimensions     75.000000\n",
            "Number of Epochs     300.000000\n",
            "Train RMSE             0.073296\n",
            "Test RMSE              0.082429\n",
            "Name: 42, dtype: float64\n"
          ]
        }
      ]
    },
    {
      "cell_type": "code",
      "source": [
        "#from the above result, choose below parameters as the best\n",
        "input_dim = 1\n",
        "hidden_dim = 75\n",
        "num_layers = 4\n",
        "output_dim = 1\n",
        "num_epochs = 300\n",
        "dropout_rate = 0.3\n",
        "model, cr, optimizer = build_lstm_model(input_dim, hidden_dim, num_layers, output_dim, num_epochs, dropout_rate)\n",
        "y_train_pred, y_test_pred = train_model(model, cr, optimizer, x_train_torch, y_train_torch, x_test_torch, y_test_torch, num_epochs)\n"
      ],
      "metadata": {
        "id": "-CqHabQjGpY-"
      },
      "execution_count": 63,
      "outputs": []
    },
    {
      "cell_type": "code",
      "source": [
        "y_train.shape, y_train_pred.shape"
      ],
      "metadata": {
        "id": "Qjy2MfEiXcEF",
        "outputId": "2ae07cac-9b8c-4795-ffbb-19a07840fa64",
        "colab": {
          "base_uri": "https://localhost:8080/"
        }
      },
      "execution_count": 64,
      "outputs": [
        {
          "output_type": "execute_result",
          "data": {
            "text/plain": [
              "((355, 1), torch.Size([355, 1]))"
            ]
          },
          "metadata": {},
          "execution_count": 64
        }
      ]
    },
    {
      "cell_type": "code",
      "source": [
        "#reverse normalization\n",
        "y_train = scaler.inverse_transform(y_train)\n",
        "y_train_pred = scaler.inverse_transform(y_train_pred.cpu().detach().numpy())\n",
        "y_test = scaler.inverse_transform(y_test)\n",
        "y_test_pred = scaler.inverse_transform(y_test_pred.cpu().detach().numpy())"
      ],
      "metadata": {
        "id": "En3ZnW5roKo_"
      },
      "execution_count": 65,
      "outputs": []
    },
    {
      "cell_type": "code",
      "source": [
        "y_test_pred[1]"
      ],
      "metadata": {
        "id": "EU1M9k2Mo2d5",
        "outputId": "bb6bab40-a38a-45cc-9010-f2b38f6e4c87",
        "colab": {
          "base_uri": "https://localhost:8080/"
        }
      },
      "execution_count": 66,
      "outputs": [
        {
          "output_type": "execute_result",
          "data": {
            "text/plain": [
              "array([2.6076941], dtype=float32)"
            ]
          },
          "metadata": {},
          "execution_count": 66
        }
      ]
    },
    {
      "cell_type": "code",
      "source": [
        "#original_train = pd.DataFrame(y_train)\n",
        "#predict_test = pd.DataFrame(y_test_pred)\n",
        "#original_test = pd.DataFrame(y_test)\n"
      ],
      "metadata": {
        "id": "fB7FdWSTGNwn"
      },
      "execution_count": null,
      "outputs": []
    },
    {
      "cell_type": "code",
      "source": [
        "train_size = len(y_train)\n",
        "test_size = len(y_test)\n",
        "# Get the date ranges\n",
        "train_dates = df['Date'][:train_size]\n",
        "test_dates = df['Date'][train_size:train_size + test_size]\n",
        "\n",
        "# Plot\n",
        "plt.figure(figsize=(12, 6))\n",
        "plt.style.use('default')\n",
        "plt.plot(train_dates, y_train, label='Original Train', color = 'blue')\n",
        "plt.plot(test_dates, y_test, label='Original Test', color = 'orange')\n",
        "plt.plot(test_dates, y_test_pred, label='Predicted Test', linestyle='--', color = 'Red')\n",
        "plt.xlabel('Date')\n",
        "plt.ylabel('Price')\n",
        "plt.title('SBM - Prediction')\n",
        "plt.legend()\n",
        "plt.grid(True)\n",
        "plt.show()"
      ],
      "metadata": {
        "id": "lzhYLANzVO61",
        "outputId": "852af4c2-b6d5-4ebe-f7e1-d7acf2477d53",
        "colab": {
          "base_uri": "https://localhost:8080/",
          "height": 564
        }
      },
      "execution_count": 67,
      "outputs": [
        {
          "output_type": "display_data",
          "data": {
            "text/plain": [
              "<Figure size 1200x600 with 1 Axes>"
            ],
            "image/png": "[encoded data removed]"
          },
          "metadata": {}
        }
      ]
    },
    {
      "cell_type": "code",
      "source": [
        "r2_score = model.score(x_test_torch, y_test_torch)\n",
        "print(\"R2 Score: \", r2_score)"
      ],
      "metadata": {
        "id": "Hp64oP5oy-Ca",
        "outputId": "fc2f49e5-3630-4598-a2b6-357d1b1631ab",
        "colab": {
          "base_uri": "https://localhost:8080/",
          "height": 280
        }
      },
      "execution_count": 51,
      "outputs": [
        {
          "output_type": "error",
          "ename": "AttributeError",
          "evalue": "'LSTM' object has no attribute 'score'",
          "traceback": [
            "\u001b[0;31m---------------------------------------------------------------------------\u001b[0m",
            "\u001b[0;31mAttributeError\u001b[0m                            Traceback (most recent call last)",
            "\u001b[0;32m<ipython-input-51-a6a8c7dfe04a>\u001b[0m in \u001b[0;36m<cell line: 0>\u001b[0;34m()\u001b[0m\n\u001b[0;32m----> 1\u001b[0;31m \u001b[0mr2_score\u001b[0m \u001b[0;34m=\u001b[0m \u001b[0mmodel\u001b[0m\u001b[0;34m.\u001b[0m\u001b[0mscore\u001b[0m\u001b[0;34m(\u001b[0m\u001b[0mx_test_torch\u001b[0m\u001b[0;34m,\u001b[0m \u001b[0my_test_torch\u001b[0m\u001b[0;34m)\u001b[0m\u001b[0;34m\u001b[0m\u001b[0;34m\u001b[0m\u001b[0m\n\u001b[0m\u001b[1;32m      2\u001b[0m \u001b[0mprint\u001b[0m\u001b[0;34m(\u001b[0m\u001b[0;34m\"R2 Score: \"\u001b[0m\u001b[0;34m,\u001b[0m \u001b[0mr2_score\u001b[0m\u001b[0;34m)\u001b[0m\u001b[0;34m\u001b[0m\u001b[0;34m\u001b[0m\u001b[0m\n",
            "\u001b[0;32m/usr/local/lib/python3.11/dist-packages/torch/nn/modules/module.py\u001b[0m in \u001b[0;36m__getattr__\u001b[0;34m(self, name)\u001b[0m\n\u001b[1;32m   1929\u001b[0m             \u001b[0;32mif\u001b[0m \u001b[0mname\u001b[0m \u001b[0;32min\u001b[0m \u001b[0mmodules\u001b[0m\u001b[0;34m:\u001b[0m\u001b[0;34m\u001b[0m\u001b[0;34m\u001b[0m\u001b[0m\n\u001b[1;32m   1930\u001b[0m                 \u001b[0;32mreturn\u001b[0m \u001b[0mmodules\u001b[0m\u001b[0;34m[\u001b[0m\u001b[0mname\u001b[0m\u001b[0;34m]\u001b[0m\u001b[0;34m\u001b[0m\u001b[0;34m\u001b[0m\u001b[0m\n\u001b[0;32m-> 1931\u001b[0;31m         raise AttributeError(\n\u001b[0m\u001b[1;32m   1932\u001b[0m             \u001b[0;34mf\"'{type(self).__name__}' object has no attribute '{name}'\"\u001b[0m\u001b[0;34m\u001b[0m\u001b[0;34m\u001b[0m\u001b[0m\n\u001b[1;32m   1933\u001b[0m         )\n",
            "\u001b[0;31mAttributeError\u001b[0m: 'LSTM' object has no attribute 'score'"
          ]
        }
      ]
    },
    {
      "cell_type": "markdown",
      "source": [
        "#Get x days ahead worth of predictions"
      ],
      "metadata": {
        "id": "fTzSbb_QxH3-"
      }
    },
    {
      "cell_type": "code",
      "source": [
        "def predict_future(model, initial_input, future_steps, scaler=None):\n",
        "    \"\"\"\n",
        "    Predict future time steps using a trained LSTM model and inverse transform predictions if needed.\n",
        "\n",
        "    :param model: Trained LSTM model\n",
        "    :param initial_input: Torch tensor, last input sequence from the dataset\n",
        "    :param future_steps: Number of future steps to predict\n",
        "    :param scaler: Scaler used for normalization (e.g., MinMaxScaler). If None, assumes no scaling\n",
        "    :return: Numpy array of future predictions in the original scale\n",
        "    \"\"\"\n",
        "    model.eval()  # Set the model to evaluation mode\n",
        "    predictions = []\n",
        "    input_seq = initial_input.clone()  # Clone the input to avoid modifying the original\n",
        "\n",
        "    with torch.no_grad():\n",
        "        for step in range(future_steps):\n",
        "            # Add batch dimension if needed\n",
        "            if len(input_seq.shape) == 2:\n",
        "                input_seq = input_seq.unsqueeze(0)  # Shape: (1, seq_len, input_dim)\n",
        "\n",
        "            # Predict the next value\n",
        "            pred = model(input_seq)  # Output shape: (1, output_dim) or (1, seq_len, output_dim)\n",
        "\n",
        "            # Handle output dimensions dynamically\n",
        "            if pred.dim() == 3:  # [batch_size, seq_len, output_dim]\n",
        "                next_value = pred[:, -1, :]  # Get the last predicted value\n",
        "            elif pred.dim() == 2:  # [batch_size, output_dim]\n",
        "                next_value = pred  # Directly use the output\n",
        "\n",
        "            # Add sequence dimension to next_value: [batch_size, 1, output_dim]\n",
        "            next_value = next_value.unsqueeze(1)\n",
        "\n",
        "            # Append to predictions\n",
        "            predictions.append(next_value.squeeze().item())\n",
        "\n",
        "            # Update input_seq by dropping the first time step and appending next_value\n",
        "            input_seq = torch.cat((input_seq[:, 1:, :], next_value), dim=1)\n",
        "\n",
        "    # Convert to numpy array\n",
        "    predictions = np.array(predictions).reshape(-1, 1)  # Reshape for scaler\n",
        "\n",
        "    # Debug: Check predictions before inverse transform\n",
        "    print(\"Scaled predictions:\", predictions[:5])\n",
        "    #predictions = scaler.inverse_transform(predictions).flatten()\n",
        "    # Inverse transform if a scaler was used\n",
        "    #if scaler:\n",
        "        #predictions = scaler.inverse_transform(predictions).flatten()  # Convert back to original scale\n",
        "\n",
        "    # Debug: Check predictions after inverse transform\n",
        "    #print(\"Inverse transformed predictions:\", predictions[:5])\n",
        "\n",
        "    return predictions\n",
        "\n",
        "\n",
        "\n",
        "\n",
        "# Example usage\n",
        "future_steps = 90\n",
        "initial_input = x_test_torch[-1]  # Use the last input sequence from the test set\n",
        "future_predictions = predict_future(model, initial_input, future_steps)\n",
        "future_predictions = scaler.inverse_transform(future_predictions).flatten()\n",
        "import pandas as pd\n",
        "last_date = pd.to_datetime(df['Date'].iloc[-1])\n",
        "future_dates = [last_date + pd.Timedelta(days=i) for i in range(1, future_steps + 1)]\n",
        "\n",
        "# Plot future predictions\n",
        "import matplotlib.pyplot as plt\n",
        "\n",
        "plt.figure(figsize=(12, 6))\n",
        "plt.plot(future_dates, future_predictions, label='Future Predictions', linestyle='--', color='orange')\n",
        "plt.xlabel('Date')\n",
        "plt.ylabel('Value')\n",
        "plt.title('Future 90-Day Predictions')\n",
        "plt.legend()\n",
        "plt.grid(True)\n",
        "plt.show()"
      ],
      "metadata": {
        "id": "DMLPjsat2Gna",
        "outputId": "96e812db-0699-4738-831d-a35a6ee4e1c0",
        "colab": {
          "base_uri": "https://localhost:8080/",
          "height": 651
        }
      },
      "execution_count": null,
      "outputs": [
        {
          "output_type": "stream",
          "name": "stdout",
          "text": [
            "Scaled predictions: [[0.14645818]\n",
            " [0.1475824 ]\n",
            " [0.15313965]\n",
            " [0.15342236]\n",
            " [0.15181738]]\n"
          ]
        },
        {
          "output_type": "display_data",
          "data": {
            "text/plain": [
              "<Figure size 1200x600 with 1 Axes>"
            ],
            "image/png": "[encoded data removed]"
          },
          "metadata": {}
        }
      ]
    },
    {
      "cell_type": "code",
      "source": [
        "plt.figure(figsize=(12, 6))\n",
        "plt.style.use('default')\n",
        "plt.plot(train_dates, y_train, label='Original Train', color = 'blue')\n",
        "plt.plot(test_dates, y_test, label='Original Test', color = 'orange')\n",
        "plt.plot(test_dates, y_test_pred, label='Predicted Test', linestyle='--', color = 'Red')\n",
        "plt.plot(future_dates, future_predictions, label='Future Predictions', linestyle='--', color='orange')\n",
        "plt.xlabel('Date')\n",
        "plt.ylabel('Price')\n",
        "plt.title('SBM - Prediction')\n",
        "plt.legend()\n",
        "plt.grid(True)\n",
        "plt.show()"
      ],
      "metadata": {
        "id": "Y6GQYFqCIs2v",
        "outputId": "a3e45b11-9d93-4def-fd01-950d924096e2",
        "colab": {
          "base_uri": "https://localhost:8080/",
          "height": 564
        }
      },
      "execution_count": null,
      "outputs": [
        {
          "output_type": "display_data",
          "data": {
            "text/plain": [
              "<Figure size 1200x600 with 1 Axes>"
            ],
            "image/png": "[encoded data removed]"
          },
          "metadata": {}
        }
      ]
    },
    {
      "cell_type": "code",
      "source": [
        "  #Detach all torch tensors\n",
        "  x_train_torch = x_train_torch.cpu().detach().numpy()\n",
        "  x_test_torch = x_test_torch.cpu().detach()\n",
        "  y_train_torch = y_train_torch.cpu().detach().numpy()\n",
        "  y_test_torch = y_test_torch.cpu().detach().numpy()"
      ],
      "metadata": {
        "id": "wl8GLpqjbz5M"
      },
      "execution_count": null,
      "outputs": []
    }
  ],
  "metadata": {
    "colab": {
      "provenance": [],
      "gpuType": "T4",
      "include_colab_link": true
    },
    "kernelspec": {
      "display_name": "Python 3",
      "name": "python3"
    },
    "language_info": {
      "codemirror_mode": {
        "name": "ipython",
        "version": 3
      },
      "file_extension": ".py",
      "mimetype": "text/x-python",
      "name": "python",
      "nbconvert_exporter": "python",
      "pygments_lexer": "ipython3",
      "version": "3.11.5"
    },
    "accelerator": "GPU"
  },
  "nbformat": 4,
  "nbformat_minor": 0
}