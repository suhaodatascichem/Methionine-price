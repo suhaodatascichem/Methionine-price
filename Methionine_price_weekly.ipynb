{
  "cells": [
    {
      "cell_type": "markdown",
      "metadata": {
        "id": "view-in-github",
        "colab_type": "text"
      },
      "source": [
        "<a href=\"https://colab.research.google.com/github/suhaodatascichem/Methionine-price/blob/main/Methionine_price_weekly.ipynb\" target=\"_parent\"><img src=\"https://colab.research.google.com/assets/colab-badge.svg\" alt=\"Open In Colab\"/></a>"
      ]
    },
    {
      "cell_type": "markdown",
      "source": [
        "# Import required libraries"
      ],
      "metadata": {
        "id": "HJ2eUlaZVw7L"
      }
    },
    {
      "cell_type": "code",
      "execution_count": 1,
      "metadata": {
        "id": "lWDl6nBj-0xx"
      },
      "outputs": [],
      "source": [
        "# required libraries\n",
        "import pandas as pd\n",
        "import numpy as np\n",
        "import datetime as dt\n",
        "\n",
        "# for plots\n",
        "import matplotlib.pyplot as plt\n",
        "import seaborn as sns"
      ]
    },
    {
      "cell_type": "code",
      "execution_count": 2,
      "metadata": {
        "id": "0aP0gYHY_AUU"
      },
      "outputs": [],
      "source": [
        "from sklearn.preprocessing import MinMaxScaler\n",
        "import math, time\n",
        "from sklearn.metrics import mean_squared_error\n",
        "import time\n",
        "from sklearn.metrics import mean_squared_error"
      ]
    },
    {
      "cell_type": "code",
      "execution_count": 3,
      "metadata": {
        "id": "ev8PGZHK_AXc"
      },
      "outputs": [],
      "source": [
        "import torch\n",
        "import torch.nn as nn\n",
        "from torch.utils.data import TensorDataset, DataLoader"
      ]
    },
    {
      "cell_type": "markdown",
      "source": [
        "# Read Data"
      ],
      "metadata": {
        "id": "GSk0SaQbVqAI"
      }
    },
    {
      "cell_type": "code",
      "source": [
        "import pandas as pd\n",
        "\n",
        "url = \"https://raw.githubusercontent.com/suhaodatascichem/Methionine-price/f03e43d1167e30719338fa20fbd1b3a4fc844599/Indonesia%20daily%20import%20data%20-%20Copy%20for%20Su%20Hao%20(1).xlsx\"\n",
        "df_raw = pd.read_excel(url, engine=\"openpyxl\")"
      ],
      "metadata": {
        "id": "_UBm7WZVpiap"
      },
      "execution_count": 4,
      "outputs": []
    },
    {
      "cell_type": "code",
      "source": [
        "df_raw.head(10)"
      ],
      "metadata": {
        "id": "KRZ-G5GdqFE5",
        "outputId": "3547d8e2-904d-4b33-f185-4c8454941573",
        "colab": {
          "base_uri": "https://localhost:8080/",
          "height": 363
        }
      },
      "execution_count": 5,
      "outputs": [
        {
          "output_type": "execute_result",
          "data": {
            "text/plain": [
              "         Date  Sum of CIF gross price(USD)  Sum of Quantity in kg     Price\n",
              "0  2023-01-02                     558000.0                 180000  3.100000\n",
              "1  2023-01-03                     561642.0                 201820  2.782886\n",
              "2  2023-01-04                     132000.0                  60000  2.200000\n",
              "3  2023-01-05                      45000.0                  20000  2.250000\n",
              "4  2023-01-09                      92800.0                  40000  2.320000\n",
              "5  2023-01-10                      46000.0                  20000  2.300000\n",
              "6  2023-01-11                     125740.0                  56000  2.245357\n",
              "7  2023-01-13                     225000.0                 100000  2.250000\n",
              "8  2023-01-16                     186000.0                  60000  3.100000\n",
              "9  2023-01-17                     545186.0                 220060  2.477443"
            ],
            "text/html": [
              "\n",
              "  <div id=\"df-d1c798c7-1b23-491b-9b16-bbd380da7e10\" class=\"colab-df-container\">\n",
              "    <div>\n",
              "<style scoped>\n",
              "    .dataframe tbody tr th:only-of-type {\n",
              "        vertical-align: middle;\n",
              "    }\n",
              "\n",
              "    .dataframe tbody tr th {\n",
              "        vertical-align: top;\n",
              "    }\n",
              "\n",
              "    .dataframe thead th {\n",
              "        text-align: right;\n",
              "    }\n",
              "</style>\n",
              "<table border=\"1\" class=\"dataframe\">\n",
              "  <thead>\n",
              "    <tr style=\"text-align: right;\">\n",
              "      <th></th>\n",
              "      <th>Date</th>\n",
              "      <th>Sum of CIF gross price(USD)</th>\n",
              "      <th>Sum of Quantity in kg</th>\n",
              "      <th>Price</th>\n",
              "    </tr>\n",
              "  </thead>\n",
              "  <tbody>\n",
              "    <tr>\n",
              "      <th>0</th>\n",
              "      <td>2023-01-02</td>\n",
              "      <td>558000.0</td>\n",
              "      <td>180000</td>\n",
              "      <td>3.100000</td>\n",
              "    </tr>\n",
              "    <tr>\n",
              "      <th>1</th>\n",
              "      <td>2023-01-03</td>\n",
              "      <td>561642.0</td>\n",
              "      <td>201820</td>\n",
              "      <td>2.782886</td>\n",
              "    </tr>\n",
              "    <tr>\n",
              "      <th>2</th>\n",
              "      <td>2023-01-04</td>\n",
              "      <td>132000.0</td>\n",
              "      <td>60000</td>\n",
              "      <td>2.200000</td>\n",
              "    </tr>\n",
              "    <tr>\n",
              "      <th>3</th>\n",
              "      <td>2023-01-05</td>\n",
              "      <td>45000.0</td>\n",
              "      <td>20000</td>\n",
              "      <td>2.250000</td>\n",
              "    </tr>\n",
              "    <tr>\n",
              "      <th>4</th>\n",
              "      <td>2023-01-09</td>\n",
              "      <td>92800.0</td>\n",
              "      <td>40000</td>\n",
              "      <td>2.320000</td>\n",
              "    </tr>\n",
              "    <tr>\n",
              "      <th>5</th>\n",
              "      <td>2023-01-10</td>\n",
              "      <td>46000.0</td>\n",
              "      <td>20000</td>\n",
              "      <td>2.300000</td>\n",
              "    </tr>\n",
              "    <tr>\n",
              "      <th>6</th>\n",
              "      <td>2023-01-11</td>\n",
              "      <td>125740.0</td>\n",
              "      <td>56000</td>\n",
              "      <td>2.245357</td>\n",
              "    </tr>\n",
              "    <tr>\n",
              "      <th>7</th>\n",
              "      <td>2023-01-13</td>\n",
              "      <td>225000.0</td>\n",
              "      <td>100000</td>\n",
              "      <td>2.250000</td>\n",
              "    </tr>\n",
              "    <tr>\n",
              "      <th>8</th>\n",
              "      <td>2023-01-16</td>\n",
              "      <td>186000.0</td>\n",
              "      <td>60000</td>\n",
              "      <td>3.100000</td>\n",
              "    </tr>\n",
              "    <tr>\n",
              "      <th>9</th>\n",
              "      <td>2023-01-17</td>\n",
              "      <td>545186.0</td>\n",
              "      <td>220060</td>\n",
              "      <td>2.477443</td>\n",
              "    </tr>\n",
              "  </tbody>\n",
              "</table>\n",
              "</div>\n",
              "    <div class=\"colab-df-buttons\">\n",
              "\n",
              "  <div class=\"colab-df-container\">\n",
              "    <button class=\"colab-df-convert\" onclick=\"convertToInteractive('df-d1c798c7-1b23-491b-9b16-bbd380da7e10')\"\n",
              "            title=\"Convert this dataframe to an interactive table.\"\n",
              "            style=\"display:none;\">\n",
              "\n",
              "  <svg xmlns=\"http://www.w3.org/2000/svg\" height=\"24px\" viewBox=\"0 -960 960 960\">\n",
              "    <path d=\"M120-120v-720h720v720H120Zm60-500h600v-160H180v160Zm220 220h160v-160H400v160Zm0 220h160v-160H400v160ZM180-400h160v-160H180v160Zm440 0h160v-160H620v160ZM180-180h160v-160H180v160Zm440 0h160v-160H620v160Z\"/>\n",
              "  </svg>\n",
              "    </button>\n",
              "\n",
              "  <style>\n",
              "    .colab-df-container {\n",
              "      display:flex;\n",
              "      gap: 12px;\n",
              "    }\n",
              "\n",
              "    .colab-df-convert {\n",
              "      background-color: #E8F0FE;\n",
              "      border: none;\n",
              "      border-radius: 50%;\n",
              "      cursor: pointer;\n",
              "      display: none;\n",
              "      fill: #1967D2;\n",
              "      height: 32px;\n",
              "      padding: 0 0 0 0;\n",
              "      width: 32px;\n",
              "    }\n",
              "\n",
              "    .colab-df-convert:hover {\n",
              "      background-color: #E2EBFA;\n",
              "      box-shadow: 0px 1px 2px rgba(60, 64, 67, 0.3), 0px 1px 3px 1px rgba(60, 64, 67, 0.15);\n",
              "      fill: #174EA6;\n",
              "    }\n",
              "\n",
              "    .colab-df-buttons div {\n",
              "      margin-bottom: 4px;\n",
              "    }\n",
              "\n",
              "    [theme=dark] .colab-df-convert {\n",
              "      background-color: #3B4455;\n",
              "      fill: #D2E3FC;\n",
              "    }\n",
              "\n",
              "    [theme=dark] .colab-df-convert:hover {\n",
              "      background-color: #434B5C;\n",
              "      box-shadow: 0px 1px 3px 1px rgba(0, 0, 0, 0.15);\n",
              "      filter: drop-shadow(0px 1px 2px rgba(0, 0, 0, 0.3));\n",
              "      fill: #FFFFFF;\n",
              "    }\n",
              "  </style>\n",
              "\n",
              "    <script>\n",
              "      const buttonEl =\n",
              "        document.querySelector('#df-d1c798c7-1b23-491b-9b16-bbd380da7e10 button.colab-df-convert');\n",
              "      buttonEl.style.display =\n",
              "        google.colab.kernel.accessAllowed ? 'block' : 'none';\n",
              "\n",
              "      async function convertToInteractive(key) {\n",
              "        const element = document.querySelector('#df-d1c798c7-1b23-491b-9b16-bbd380da7e10');\n",
              "        const dataTable =\n",
              "          await google.colab.kernel.invokeFunction('convertToInteractive',\n",
              "                                                    [key], {});\n",
              "        if (!dataTable) return;\n",
              "\n",
              "        const docLinkHtml = 'Like what you see? Visit the ' +\n",
              "          '<a target=\"_blank\" href=https://colab.research.google.com/notebooks/data_table.ipynb>data table notebook</a>'\n",
              "          + ' to learn more about interactive tables.';\n",
              "        element.innerHTML = '';\n",
              "        dataTable['output_type'] = 'display_data';\n",
              "        await google.colab.output.renderOutput(dataTable, element);\n",
              "        const docLink = document.createElement('div');\n",
              "        docLink.innerHTML = docLinkHtml;\n",
              "        element.appendChild(docLink);\n",
              "      }\n",
              "    </script>\n",
              "  </div>\n",
              "\n",
              "\n",
              "<div id=\"df-1966798e-b0ac-4abe-8fc0-379aec3b8a1c\">\n",
              "  <button class=\"colab-df-quickchart\" onclick=\"quickchart('df-1966798e-b0ac-4abe-8fc0-379aec3b8a1c')\"\n",
              "            title=\"Suggest charts\"\n",
              "            style=\"display:none;\">\n",
              "\n",
              "<svg xmlns=\"http://www.w3.org/2000/svg\" height=\"24px\"viewBox=\"0 0 24 24\"\n",
              "     width=\"24px\">\n",
              "    <g>\n",
              "        <path d=\"M19 3H5c-1.1 0-2 .9-2 2v14c0 1.1.9 2 2 2h14c1.1 0 2-.9 2-2V5c0-1.1-.9-2-2-2zM9 17H7v-7h2v7zm4 0h-2V7h2v10zm4 0h-2v-4h2v4z\"/>\n",
              "    </g>\n",
              "</svg>\n",
              "  </button>\n",
              "\n",
              "<style>\n",
              "  .colab-df-quickchart {\n",
              "      --bg-color: #E8F0FE;\n",
              "      --fill-color: #1967D2;\n",
              "      --hover-bg-color: #E2EBFA;\n",
              "      --hover-fill-color: #174EA6;\n",
              "      --disabled-fill-color: #AAA;\n",
              "      --disabled-bg-color: #DDD;\n",
              "  }\n",
              "\n",
              "  [theme=dark] .colab-df-quickchart {\n",
              "      --bg-color: #3B4455;\n",
              "      --fill-color: #D2E3FC;\n",
              "      --hover-bg-color: #434B5C;\n",
              "      --hover-fill-color: #FFFFFF;\n",
              "      --disabled-bg-color: #3B4455;\n",
              "      --disabled-fill-color: #666;\n",
              "  }\n",
              "\n",
              "  .colab-df-quickchart {\n",
              "    background-color: var(--bg-color);\n",
              "    border: none;\n",
              "    border-radius: 50%;\n",
              "    cursor: pointer;\n",
              "    display: none;\n",
              "    fill: var(--fill-color);\n",
              "    height: 32px;\n",
              "    padding: 0;\n",
              "    width: 32px;\n",
              "  }\n",
              "\n",
              "  .colab-df-quickchart:hover {\n",
              "    background-color: var(--hover-bg-color);\n",
              "    box-shadow: 0 1px 2px rgba(60, 64, 67, 0.3), 0 1px 3px 1px rgba(60, 64, 67, 0.15);\n",
              "    fill: var(--button-hover-fill-color);\n",
              "  }\n",
              "\n",
              "  .colab-df-quickchart-complete:disabled,\n",
              "  .colab-df-quickchart-complete:disabled:hover {\n",
              "    background-color: var(--disabled-bg-color);\n",
              "    fill: var(--disabled-fill-color);\n",
              "    box-shadow: none;\n",
              "  }\n",
              "\n",
              "  .colab-df-spinner {\n",
              "    border: 2px solid var(--fill-color);\n",
              "    border-color: transparent;\n",
              "    border-bottom-color: var(--fill-color);\n",
              "    animation:\n",
              "      spin 1s steps(1) infinite;\n",
              "  }\n",
              "\n",
              "  @keyframes spin {\n",
              "    0% {\n",
              "      border-color: transparent;\n",
              "      border-bottom-color: var(--fill-color);\n",
              "      border-left-color: var(--fill-color);\n",
              "    }\n",
              "    20% {\n",
              "      border-color: transparent;\n",
              "      border-left-color: var(--fill-color);\n",
              "      border-top-color: var(--fill-color);\n",
              "    }\n",
              "    30% {\n",
              "      border-color: transparent;\n",
              "      border-left-color: var(--fill-color);\n",
              "      border-top-color: var(--fill-color);\n",
              "      border-right-color: var(--fill-color);\n",
              "    }\n",
              "    40% {\n",
              "      border-color: transparent;\n",
              "      border-right-color: var(--fill-color);\n",
              "      border-top-color: var(--fill-color);\n",
              "    }\n",
              "    60% {\n",
              "      border-color: transparent;\n",
              "      border-right-color: var(--fill-color);\n",
              "    }\n",
              "    80% {\n",
              "      border-color: transparent;\n",
              "      border-right-color: var(--fill-color);\n",
              "      border-bottom-color: var(--fill-color);\n",
              "    }\n",
              "    90% {\n",
              "      border-color: transparent;\n",
              "      border-bottom-color: var(--fill-color);\n",
              "    }\n",
              "  }\n",
              "</style>\n",
              "\n",
              "  <script>\n",
              "    async function quickchart(key) {\n",
              "      const quickchartButtonEl =\n",
              "        document.querySelector('#' + key + ' button');\n",
              "      quickchartButtonEl.disabled = true;  // To prevent multiple clicks.\n",
              "      quickchartButtonEl.classList.add('colab-df-spinner');\n",
              "      try {\n",
              "        const charts = await google.colab.kernel.invokeFunction(\n",
              "            'suggestCharts', [key], {});\n",
              "      } catch (error) {\n",
              "        console.error('Error during call to suggestCharts:', error);\n",
              "      }\n",
              "      quickchartButtonEl.classList.remove('colab-df-spinner');\n",
              "      quickchartButtonEl.classList.add('colab-df-quickchart-complete');\n",
              "    }\n",
              "    (() => {\n",
              "      let quickchartButtonEl =\n",
              "        document.querySelector('#df-1966798e-b0ac-4abe-8fc0-379aec3b8a1c button');\n",
              "      quickchartButtonEl.style.display =\n",
              "        google.colab.kernel.accessAllowed ? 'block' : 'none';\n",
              "    })();\n",
              "  </script>\n",
              "</div>\n",
              "\n",
              "    </div>\n",
              "  </div>\n"
            ],
            "application/vnd.google.colaboratory.intrinsic+json": {
              "type": "dataframe",
              "variable_name": "df_raw",
              "summary": "{\n  \"name\": \"df_raw\",\n  \"rows\": 475,\n  \"fields\": [\n    {\n      \"column\": \"Date\",\n      \"properties\": {\n        \"dtype\": \"object\",\n        \"num_unique_values\": 475,\n        \"samples\": [\n          \"2024-09-04\",\n          \"2024-11-15\",\n          \"2023-01-17\"\n        ],\n        \"semantic_type\": \"\",\n        \"description\": \"\"\n      }\n    },\n    {\n      \"column\": \"Sum of CIF gross price(USD)\",\n      \"properties\": {\n        \"dtype\": \"number\",\n        \"std\": 325692.4264236787,\n        \"min\": 17250.0,\n        \"max\": 1922494.4,\n        \"num_unique_values\": 430,\n        \"samples\": [\n          239000.0,\n          617900.0,\n          1616860.0\n        ],\n        \"semantic_type\": \"\",\n        \"description\": \"\"\n      }\n    },\n    {\n      \"column\": \"Sum of Quantity in kg\",\n      \"properties\": {\n        \"dtype\": \"number\",\n        \"std\": 147704,\n        \"min\": 5000,\n        \"max\": 980960,\n        \"num_unique_values\": 177,\n        \"samples\": [\n          236960,\n          500000,\n          41000\n        ],\n        \"semantic_type\": \"\",\n        \"description\": \"\"\n      }\n    },\n    {\n      \"column\": \"Price\",\n      \"properties\": {\n        \"dtype\": \"number\",\n        \"std\": 0.349148369307617,\n        \"min\": 1.0,\n        \"max\": 3.45,\n        \"num_unique_values\": 356,\n        \"samples\": [\n          3.35,\n          2.4206873760740253,\n          2.460714285714286\n        ],\n        \"semantic_type\": \"\",\n        \"description\": \"\"\n      }\n    }\n  ]\n}"
            }
          },
          "metadata": {},
          "execution_count": 5
        }
      ]
    },
    {
      "cell_type": "code",
      "source": [
        "df_raw[\"Date\"] = pd.to_datetime(df_raw[\"Date\"])"
      ],
      "metadata": {
        "id": "dZafXvgkuPmc"
      },
      "execution_count": 6,
      "outputs": []
    },
    {
      "cell_type": "code",
      "source": [
        "startdate = df_raw['Date'].min()\n",
        "print('startdate is ', startdate)\n",
        "enddate = df_raw['Date'].max()\n",
        "print(\"enddate is \", enddate)\n"
      ],
      "metadata": {
        "id": "akKnr5iccIK5",
        "outputId": "ed12bfb8-3af7-4f57-9522-6c753218c8d9",
        "colab": {
          "base_uri": "https://localhost:8080/"
        }
      },
      "execution_count": 7,
      "outputs": [
        {
          "output_type": "stream",
          "name": "stdout",
          "text": [
            "startdate is  2023-01-02 00:00:00\n",
            "enddate is  2025-01-31 00:00:00\n"
          ]
        }
      ]
    },
    {
      "cell_type": "code",
      "source": [
        "df_raw.head(1)"
      ],
      "metadata": {
        "id": "Kl3EjYmhdKXB",
        "outputId": "261fca09-7aa0-4231-8adb-757883f633d7",
        "colab": {
          "base_uri": "https://localhost:8080/",
          "height": 81
        }
      },
      "execution_count": 8,
      "outputs": [
        {
          "output_type": "execute_result",
          "data": {
            "text/plain": [
              "        Date  Sum of CIF gross price(USD)  Sum of Quantity in kg  Price\n",
              "0 2023-01-02                     558000.0                 180000    3.1"
            ],
            "text/html": [
              "\n",
              "  <div id=\"df-1130eff1-5828-430a-82f9-9763a03b37ee\" class=\"colab-df-container\">\n",
              "    <div>\n",
              "<style scoped>\n",
              "    .dataframe tbody tr th:only-of-type {\n",
              "        vertical-align: middle;\n",
              "    }\n",
              "\n",
              "    .dataframe tbody tr th {\n",
              "        vertical-align: top;\n",
              "    }\n",
              "\n",
              "    .dataframe thead th {\n",
              "        text-align: right;\n",
              "    }\n",
              "</style>\n",
              "<table border=\"1\" class=\"dataframe\">\n",
              "  <thead>\n",
              "    <tr style=\"text-align: right;\">\n",
              "      <th></th>\n",
              "      <th>Date</th>\n",
              "      <th>Sum of CIF gross price(USD)</th>\n",
              "      <th>Sum of Quantity in kg</th>\n",
              "      <th>Price</th>\n",
              "    </tr>\n",
              "  </thead>\n",
              "  <tbody>\n",
              "    <tr>\n",
              "      <th>0</th>\n",
              "      <td>2023-01-02</td>\n",
              "      <td>558000.0</td>\n",
              "      <td>180000</td>\n",
              "      <td>3.1</td>\n",
              "    </tr>\n",
              "  </tbody>\n",
              "</table>\n",
              "</div>\n",
              "    <div class=\"colab-df-buttons\">\n",
              "\n",
              "  <div class=\"colab-df-container\">\n",
              "    <button class=\"colab-df-convert\" onclick=\"convertToInteractive('df-1130eff1-5828-430a-82f9-9763a03b37ee')\"\n",
              "            title=\"Convert this dataframe to an interactive table.\"\n",
              "            style=\"display:none;\">\n",
              "\n",
              "  <svg xmlns=\"http://www.w3.org/2000/svg\" height=\"24px\" viewBox=\"0 -960 960 960\">\n",
              "    <path d=\"M120-120v-720h720v720H120Zm60-500h600v-160H180v160Zm220 220h160v-160H400v160Zm0 220h160v-160H400v160ZM180-400h160v-160H180v160Zm440 0h160v-160H620v160ZM180-180h160v-160H180v160Zm440 0h160v-160H620v160Z\"/>\n",
              "  </svg>\n",
              "    </button>\n",
              "\n",
              "  <style>\n",
              "    .colab-df-container {\n",
              "      display:flex;\n",
              "      gap: 12px;\n",
              "    }\n",
              "\n",
              "    .colab-df-convert {\n",
              "      background-color: #E8F0FE;\n",
              "      border: none;\n",
              "      border-radius: 50%;\n",
              "      cursor: pointer;\n",
              "      display: none;\n",
              "      fill: #1967D2;\n",
              "      height: 32px;\n",
              "      padding: 0 0 0 0;\n",
              "      width: 32px;\n",
              "    }\n",
              "\n",
              "    .colab-df-convert:hover {\n",
              "      background-color: #E2EBFA;\n",
              "      box-shadow: 0px 1px 2px rgba(60, 64, 67, 0.3), 0px 1px 3px 1px rgba(60, 64, 67, 0.15);\n",
              "      fill: #174EA6;\n",
              "    }\n",
              "\n",
              "    .colab-df-buttons div {\n",
              "      margin-bottom: 4px;\n",
              "    }\n",
              "\n",
              "    [theme=dark] .colab-df-convert {\n",
              "      background-color: #3B4455;\n",
              "      fill: #D2E3FC;\n",
              "    }\n",
              "\n",
              "    [theme=dark] .colab-df-convert:hover {\n",
              "      background-color: #434B5C;\n",
              "      box-shadow: 0px 1px 3px 1px rgba(0, 0, 0, 0.15);\n",
              "      filter: drop-shadow(0px 1px 2px rgba(0, 0, 0, 0.3));\n",
              "      fill: #FFFFFF;\n",
              "    }\n",
              "  </style>\n",
              "\n",
              "    <script>\n",
              "      const buttonEl =\n",
              "        document.querySelector('#df-1130eff1-5828-430a-82f9-9763a03b37ee button.colab-df-convert');\n",
              "      buttonEl.style.display =\n",
              "        google.colab.kernel.accessAllowed ? 'block' : 'none';\n",
              "\n",
              "      async function convertToInteractive(key) {\n",
              "        const element = document.querySelector('#df-1130eff1-5828-430a-82f9-9763a03b37ee');\n",
              "        const dataTable =\n",
              "          await google.colab.kernel.invokeFunction('convertToInteractive',\n",
              "                                                    [key], {});\n",
              "        if (!dataTable) return;\n",
              "\n",
              "        const docLinkHtml = 'Like what you see? Visit the ' +\n",
              "          '<a target=\"_blank\" href=https://colab.research.google.com/notebooks/data_table.ipynb>data table notebook</a>'\n",
              "          + ' to learn more about interactive tables.';\n",
              "        element.innerHTML = '';\n",
              "        dataTable['output_type'] = 'display_data';\n",
              "        await google.colab.output.renderOutput(dataTable, element);\n",
              "        const docLink = document.createElement('div');\n",
              "        docLink.innerHTML = docLinkHtml;\n",
              "        element.appendChild(docLink);\n",
              "      }\n",
              "    </script>\n",
              "  </div>\n",
              "\n",
              "\n",
              "    </div>\n",
              "  </div>\n"
            ],
            "application/vnd.google.colaboratory.intrinsic+json": {
              "type": "dataframe",
              "variable_name": "df_raw",
              "summary": "{\n  \"name\": \"df_raw\",\n  \"rows\": 475,\n  \"fields\": [\n    {\n      \"column\": \"Date\",\n      \"properties\": {\n        \"dtype\": \"date\",\n        \"min\": \"2023-01-02 00:00:00\",\n        \"max\": \"2025-01-31 00:00:00\",\n        \"num_unique_values\": 475,\n        \"samples\": [\n          \"2024-09-04 00:00:00\",\n          \"2024-11-15 00:00:00\",\n          \"2023-01-17 00:00:00\"\n        ],\n        \"semantic_type\": \"\",\n        \"description\": \"\"\n      }\n    },\n    {\n      \"column\": \"Sum of CIF gross price(USD)\",\n      \"properties\": {\n        \"dtype\": \"number\",\n        \"std\": 325692.4264236787,\n        \"min\": 17250.0,\n        \"max\": 1922494.4,\n        \"num_unique_values\": 430,\n        \"samples\": [\n          239000.0,\n          617900.0,\n          1616860.0\n        ],\n        \"semantic_type\": \"\",\n        \"description\": \"\"\n      }\n    },\n    {\n      \"column\": \"Sum of Quantity in kg\",\n      \"properties\": {\n        \"dtype\": \"number\",\n        \"std\": 147704,\n        \"min\": 5000,\n        \"max\": 980960,\n        \"num_unique_values\": 177,\n        \"samples\": [\n          236960,\n          500000,\n          41000\n        ],\n        \"semantic_type\": \"\",\n        \"description\": \"\"\n      }\n    },\n    {\n      \"column\": \"Price\",\n      \"properties\": {\n        \"dtype\": \"number\",\n        \"std\": 0.349148369307617,\n        \"min\": 1.0,\n        \"max\": 3.45,\n        \"num_unique_values\": 356,\n        \"samples\": [\n          3.35,\n          2.4206873760740253,\n          2.460714285714286\n        ],\n        \"semantic_type\": \"\",\n        \"description\": \"\"\n      }\n    }\n  ]\n}"
            }
          },
          "metadata": {},
          "execution_count": 8
        }
      ]
    },
    {
      "cell_type": "code",
      "source": [
        "plt.plot(df_raw['Date'], df_raw[\"Price\"])\n",
        "plt.xlabel(\"Date\")\n",
        "plt.ylabel(\"Daily price\")\n",
        "plt.figure(figsize=(32,2))\n",
        "plt.show()"
      ],
      "metadata": {
        "id": "OLlgupQtI5jx",
        "outputId": "5e36280e-0fb6-4460-b2ca-339389689c1f",
        "colab": {
          "base_uri": "https://localhost:8080/",
          "height": 466
        }
      },
      "execution_count": 9,
      "outputs": [
        {
          "output_type": "display_data",
          "data": {
            "text/plain": [
              "<Figure size 640x480 with 1 Axes>"
            ],
            "image/png": "[encoded data removed]"
          },
          "metadata": {}
        },
        {
          "output_type": "display_data",
          "data": {
            "text/plain": [
              "<Figure size 3200x200 with 0 Axes>"
            ]
          },
          "metadata": {}
        }
      ]
    },
    {
      "cell_type": "code",
      "source": [
        "df_weekly = df_raw.resample('W', on='Date').mean().reset_index()\n",
        "# foward fill missing values\n",
        "df_weekly = df_weekly.ffill()\n",
        "plt.plot(df_weekly['Date'], df_weekly['Price'])\n",
        "plt.xlabel(\"Date\")\n",
        "plt.ylabel(\"Weekly price\")\n",
        "plt.figure(figsize=(32,2))\n",
        "plt.show()"
      ],
      "metadata": {
        "id": "NosHovn8nvAS",
        "outputId": "9098f2fb-f276-4c69-eb2d-3231b794352c",
        "colab": {
          "base_uri": "https://localhost:8080/",
          "height": 466
        }
      },
      "execution_count": 10,
      "outputs": [
        {
          "output_type": "display_data",
          "data": {
            "text/plain": [
              "<Figure size 640x480 with 1 Axes>"
            ],
            "image/png": "[encoded data removed]"
          },
          "metadata": {}
        },
        {
          "output_type": "display_data",
          "data": {
            "text/plain": [
              "<Figure size 3200x200 with 0 Axes>"
            ]
          },
          "metadata": {}
        }
      ]
    },
    {
      "cell_type": "code",
      "source": [
        "df = df_weekly.copy()"
      ],
      "metadata": {
        "id": "q-kPPErjvYgT"
      },
      "execution_count": 11,
      "outputs": []
    },
    {
      "cell_type": "code",
      "source": [
        "# count rows\n",
        "len(df)"
      ],
      "metadata": {
        "id": "UVpWNEhaoyRn",
        "outputId": "7edce829-b4a5-4b7a-db3c-44e101bfa4d6",
        "colab": {
          "base_uri": "https://localhost:8080/"
        }
      },
      "execution_count": 12,
      "outputs": [
        {
          "output_type": "execute_result",
          "data": {
            "text/plain": [
              "109"
            ]
          },
          "metadata": {},
          "execution_count": 12
        }
      ]
    },
    {
      "cell_type": "code",
      "source": [
        "# min-max nomalization\n",
        "from sklearn.preprocessing import MinMaxScaler\n",
        "\n",
        "scaler = MinMaxScaler(feature_range=(0, 1))\n",
        "df[['Price']] = scaler.fit_transform(df[['Price']])"
      ],
      "metadata": {
        "id": "A80wLBUot7Hv"
      },
      "execution_count": 13,
      "outputs": []
    },
    {
      "cell_type": "markdown",
      "metadata": {
        "id": "Ey6mH5e6-5dH"
      },
      "source": [
        "## Data Prep"
      ]
    },
    {
      "cell_type": "code",
      "source": [
        "#Function to perform the train test split on the df based on the desired window_size (ws)\n",
        "def train_test_prep(series, x_variables, y_variables,  window_size, test_size):\n",
        "  # series should be a numpy series\n",
        "  x_series = series[x_variables].to_numpy()\n",
        "  y_series = series[y_variables].to_numpy()\n",
        "\n",
        "  x_data = []\n",
        "  y_data = []\n",
        "  for i in range(len(x_series) - window_size):\n",
        "    x_data.append(x_series[i: i+window_size])\n",
        "    y_data.append(y_series[i+window_size])\n",
        "  x_data = np.array(x_data)\n",
        "  y_data = np.array(y_data)\n",
        "\n",
        "  train_size = x_data.shape[0] - test_size\n",
        "\n",
        "  train_x = x_data[:train_size, :,:]\n",
        "  train_y = y_data[:train_size, :]\n",
        "\n",
        "  test_x = x_data[train_size:train_size+test_size, :,:]\n",
        "  test_y = y_data[train_size:train_size+test_size:, :]\n",
        "\n",
        "  return [train_x, train_y, test_x, test_y]"
      ],
      "metadata": {
        "id": "du2Bh7tDSZx1"
      },
      "execution_count": 14,
      "outputs": []
    },
    {
      "cell_type": "code",
      "source": [
        "ws = 26\n",
        "# ws 26 (medium) or 52 (yearly seasonality)\n",
        "test_size = 13"
      ],
      "metadata": {
        "id": "l-pAntwd5LcY"
      },
      "execution_count": 15,
      "outputs": []
    },
    {
      "cell_type": "code",
      "execution_count": 16,
      "metadata": {
        "id": "5PSrzvxwqv55"
      },
      "outputs": [],
      "source": [
        "x_train, y_train, x_test, y_test = train_test_prep(df, [\"Price\"],[\"Price\"], ws,test_size)"
      ]
    },
    {
      "cell_type": "code",
      "source": [
        "x_train.shape, x_test.shape, y_train.shape, y_test.shape"
      ],
      "metadata": {
        "id": "h3uHiaRJVCkN",
        "colab": {
          "base_uri": "https://localhost:8080/"
        },
        "outputId": "8a99489f-6beb-45f5-b218-0514f75c3540"
      },
      "execution_count": 17,
      "outputs": [
        {
          "output_type": "execute_result",
          "data": {
            "text/plain": [
              "((70, 26, 1), (13, 26, 1), (70, 1), (13, 1))"
            ]
          },
          "metadata": {},
          "execution_count": 17
        }
      ]
    },
    {
      "cell_type": "code",
      "source": [
        "#Function to obtain train, test data as tensors for torch\n",
        "def array_to_tensor(x_train, x_test, y_train, y_test):\n",
        "  x_train_torch = torch.from_numpy(x_train).type(torch.Tensor).cuda()\n",
        "  x_test_torch = torch.from_numpy(x_test).type(torch.Tensor).cuda()\n",
        "  y_train_torch = torch.from_numpy(y_train).type(torch.Tensor).cuda()\n",
        "  y_test_torch = torch.from_numpy(y_test).type(torch.Tensor).cuda()\n",
        "  return x_train_torch, x_test_torch, y_train_torch, y_test_torch"
      ],
      "metadata": {
        "id": "rP4I-W8vXZ94"
      },
      "execution_count": 18,
      "outputs": []
    },
    {
      "cell_type": "code",
      "source": [
        "x_train_torch, x_test_torch, y_train_torch, y_test_torch = array_to_tensor(x_train, x_test, y_train, y_test)"
      ],
      "metadata": {
        "id": "tVVkPr0pXlK1"
      },
      "execution_count": 19,
      "outputs": []
    },
    {
      "cell_type": "code",
      "source": [
        "x_train_torch.shape, x_test_torch.shape, y_train_torch.shape, y_test_torch.shape"
      ],
      "metadata": {
        "id": "uEZ_iuaCVXYR",
        "outputId": "6b4b6cd9-971a-47ab-d2eb-4b185cc5b34c",
        "colab": {
          "base_uri": "https://localhost:8080/"
        }
      },
      "execution_count": 20,
      "outputs": [
        {
          "output_type": "execute_result",
          "data": {
            "text/plain": [
              "(torch.Size([70, 26, 1]),\n",
              " torch.Size([13, 26, 1]),\n",
              " torch.Size([70, 1]),\n",
              " torch.Size([13, 1]))"
            ]
          },
          "metadata": {},
          "execution_count": 20
        }
      ]
    },
    {
      "cell_type": "markdown",
      "source": [
        "# Baseline model"
      ],
      "metadata": {
        "id": "KFNXecrkW4-3"
      }
    },
    {
      "cell_type": "code",
      "source": [
        "# base line model that uses the previous time stamp's demand as the predicted demand\n",
        "\n",
        "#function for baseline model\n",
        "def baseline_rmse(df, ws, y_train_data, column_name):\n",
        "  y_base_test = np.array(df[column_name][ws+y_train.shape[0]-1:-1],dtype=np.float32)\n",
        "  y_base_label = np.array(df[column_name][ws+y_train.shape[0]:],dtype=np.float32)\n",
        "\n",
        "  print(y_base_test, y_base_label)\n",
        "  rmse_loss_test = np.sqrt(mean_squared_error(y_base_test, y_base_label))\n",
        "  return rmse_loss_test"
      ],
      "metadata": {
        "id": "VgvhGAq-Puyj"
      },
      "execution_count": null,
      "outputs": []
    },
    {
      "cell_type": "code",
      "source": [
        "baseline_rmse(df, ws, y_train, 'Price')"
      ],
      "metadata": {
        "id": "-QRbM0_PP-Kf",
        "outputId": "43e4622c-c718-4d10-ea8f-969026a0cdec",
        "colab": {
          "base_uri": "https://localhost:8080/"
        }
      },
      "execution_count": null,
      "outputs": [
        {
          "output_type": "stream",
          "name": "stdout",
          "text": [
            "[0.6116182  0.7096428  0.60816324 0.6765306  0.64981186 0.6712018\n",
            " 0.5636735  0.59591836 0.5884694  0.66929686 0.6622449  0.60047096\n",
            " 0.6489796  0.6530612  0.6582143  0.6018021  0.5967347  0.622449\n",
            " 0.5869388  0.63265306 0.59183675 0.6357143  0.6432117  0.70068026\n",
            " 0.59183675 0.62142855 0.6020408  0.5977573  0.6122449  0.5836735\n",
            " 0.5836735  0.55663264 0.56483173 0.5836735  0.5762068  0.56093293\n",
            " 0.44437468 0.47891158 0.6068027  0.5469388  0.5387755  0.4\n",
            " 0.48270676 0.5714286  0.4        0.27755103 0.5964286  0.54064626\n",
            " 0.55897427 0.54183674 0.547708   0.55110544 0.34183672 0.580968\n",
            " 0.5387755  0.56600535 0.63265306 0.5043084  0.5816327  0.48979592\n",
            " 0.55       0.         0.52478135 0.45034012 0.2868526  0.56632656\n",
            " 0.5158853  0.48979592 0.5019493  0.5479592  0.4956916  0.48979592\n",
            " 0.50340134 0.5510204  0.52690166 0.5526812  0.5367347  0.5510204\n",
            " 0.5481633  0.5588697  0.5561606  0.5510204  0.56734693 0.5442177\n",
            " 0.53674793 0.67346936 0.5510204  0.5510204  0.5714286  0.54592985] [0.7096428  0.60816324 0.6765306  0.64981186 0.6712018  0.5636735\n",
            " 0.59591836 0.5884694  0.66929686 0.6622449  0.60047096 0.6489796\n",
            " 0.6530612  0.6582143  0.6018021  0.5967347  0.622449   0.5869388\n",
            " 0.63265306 0.59183675 0.6357143  0.6432117  0.70068026 0.59183675\n",
            " 0.62142855 0.6020408  0.5977573  0.6122449  0.5836735  0.5836735\n",
            " 0.55663264 0.56483173 0.5836735  0.5762068  0.56093293 0.44437468\n",
            " 0.47891158 0.6068027  0.5469388  0.5387755  0.4        0.48270676\n",
            " 0.5714286  0.4        0.27755103 0.5964286  0.54064626 0.55897427\n",
            " 0.54183674 0.547708   0.55110544 0.34183672 0.580968   0.5387755\n",
            " 0.56600535 0.63265306 0.5043084  0.5816327  0.48979592 0.55\n",
            " 0.         0.52478135 0.45034012 0.2868526  0.56632656 0.5158853\n",
            " 0.48979592 0.5019493  0.5479592  0.4956916  0.48979592 0.50340134\n",
            " 0.5510204  0.52690166 0.5526812  0.5367347  0.5510204  0.5481633\n",
            " 0.5588697  0.5561606  0.5510204  0.56734693 0.5442177  0.53674793\n",
            " 0.67346936 0.5510204  0.5510204  0.5714286  0.54592985 0.5431881 ]\n"
          ]
        },
        {
          "output_type": "execute_result",
          "data": {
            "text/plain": [
              "0.11442987414160107"
            ]
          },
          "metadata": {},
          "execution_count": 22
        }
      ]
    },
    {
      "cell_type": "markdown",
      "metadata": {
        "id": "73Ip-SqqS11j"
      },
      "source": [
        "# LSTM Model Architecture\n"
      ]
    },
    {
      "cell_type": "code",
      "execution_count": 21,
      "metadata": {
        "id": "OEtzYAFbU01B"
      },
      "outputs": [],
      "source": [
        "class LSTM(nn.Module):\n",
        "    def __init__(self, input_dim, hidden_dim, num_layers, output_dim, num_epochs, dropout_rate):\n",
        "        super(LSTM, self).__init__()\n",
        "        self.hidden_dim = hidden_dim\n",
        "        self.num_layers = num_layers\n",
        "\n",
        "        self.lstm = nn.LSTM(input_dim, hidden_dim, num_layers, batch_first=True)\n",
        "        self.fc = nn.Linear(hidden_dim, output_dim)\n",
        "\n",
        "    def forward(self, x):\n",
        "        h0 = torch.zeros(self.num_layers, x.size(0), self.hidden_dim).requires_grad_().cuda()\n",
        "        c0 = torch.zeros(self.num_layers, x.size(0), self.hidden_dim).requires_grad_().cuda()\n",
        "        out, (hn, cn) = self.lstm(x, (h0, c0))\n",
        "        out = self.fc(out[:, -1, :])\n",
        "        return out"
      ]
    },
    {
      "cell_type": "code",
      "source": [
        "def build_lstm_model(input_dim, hidden_dim, num_layers, output_dim, num_epochs, dropout_rate):\n",
        "  model = LSTM(input_dim=input_dim, hidden_dim=hidden_dim, output_dim=output_dim, num_layers=num_layers, num_epochs=num_epochs, dropout_rate=dropout_rate)\n",
        "  model = model.cuda()\n",
        "  cr = torch.nn.MSELoss(reduction='mean')\n",
        "  optimizer = torch.optim.Adam(model.parameters(), lr=0.01)\n",
        "  return model, cr, optimizer"
      ],
      "metadata": {
        "id": "jCOJmN4-SBaS"
      },
      "execution_count": 22,
      "outputs": []
    },
    {
      "cell_type": "code",
      "source": [
        "input_dim = 1\n",
        "output_dim = 1\n",
        "dropout_rate = 0.3\n",
        "# other Parameters\n",
        "#num_layers = 2\n",
        "#hidden_dim = 50\n",
        "#num_epochs = 100\n"
      ],
      "metadata": {
        "id": "HZqDYtW5qkLU"
      },
      "execution_count": 23,
      "outputs": []
    },
    {
      "cell_type": "markdown",
      "source": [
        "# Train LSTM Model"
      ],
      "metadata": {
        "id": "zfQGXVvcYQMx"
      }
    },
    {
      "cell_type": "code",
      "source": [
        "def train_model(model, cr, optimizer, x_train_torch, y_train_torch, x_test_torch, y_test_torch, num_epochs):\n",
        "  torch.manual_seed(42)\n",
        "  torch.cuda.manual_seed(42)\n",
        "  torch.cuda.manual_seed_all(42)\n",
        "  np.random.seed(42)\n",
        "  torch.backends.cudnn.deterministic = True\n",
        "\n",
        "  train_hist = np.zeros(num_epochs)\n",
        "  test_hist = np.zeros(num_epochs)\n",
        "  start_time = time.time()\n",
        "  lstm = []\n",
        "\n",
        "\n",
        "  for t in range(num_epochs):\n",
        "    model.train()\n",
        "    y_train_pred = model(x_train_torch)\n",
        "    loss = cr(y_train_pred, y_train_torch)\n",
        "    train_hist[t] = loss.item()\n",
        "\n",
        "    optimizer.zero_grad()\n",
        "    loss.backward()\n",
        "    optimizer.step()\n",
        "\n",
        "    model.eval()\n",
        "    with torch.no_grad():\n",
        "      y_test_pred = model(x_test_torch)\n",
        "      loss = cr(y_test_pred, y_test_torch)\n",
        "      test_hist[t] = loss.item()\n",
        "      #print(\"Epoch \", t, \"train MSE: \", train_hist[t], \"Test MSE:\", test_hist[t])\n",
        "\n",
        "  training_time = time.time()-start_time\n",
        "  #print(\"Training time: {}\".format(training_time))\n",
        "  return y_train_pred, y_test_pred"
      ],
      "metadata": {
        "id": "jhjJL08dUa70"
      },
      "execution_count": 24,
      "outputs": []
    },
    {
      "cell_type": "markdown",
      "source": [
        "# Get_RMSE\n",
        "\n"
      ],
      "metadata": {
        "id": "T45S68m9YeKD"
      }
    },
    {
      "cell_type": "code",
      "source": [
        "def get_RMSE(y_train_pred, y_train_torch , type='Train'):\n",
        "  # invert predictions\n",
        "  y_train_pred = y_train_pred.cpu().detach().numpy()\n",
        "  y_train_final = y_train_torch.cpu().detach().numpy()\n",
        "\n",
        "  # calculate root mean squared error\n",
        "  trainScore = math.sqrt(mean_squared_error(y_train_final[:,0], y_train_pred[:,0]))\n",
        "  print(f\"{type} RMSE: \",trainScore)\n",
        "\n",
        "  return trainScore"
      ],
      "metadata": {
        "id": "UHoCKoRTOVWp"
      },
      "execution_count": 25,
      "outputs": []
    },
    {
      "cell_type": "markdown",
      "source": [
        "#Model parameters fine tuneing"
      ],
      "metadata": {
        "id": "RsBaVqjLGYrk"
      }
    },
    {
      "cell_type": "code",
      "source": [
        "# Function to vary the number of layers and hidden dimensions, and epochs to find the combination with the best RMSE\n",
        "def model_tuning(x_train_torch, y_train_torch, x_test_torch, y_test_torch, input_dim, output_dim):\n",
        "  torch.manual_seed(42)\n",
        "  torch.cuda.manual_seed(42)\n",
        "  torch.cuda.manual_seed_all(42)\n",
        "  np.random.seed(42)\n",
        "  torch.backends.cudnn.deterministic = True\n",
        "  testscore = 0\n",
        "  nl = 0\n",
        "  hd = 0\n",
        "  epochs = 0\n",
        "  summary = []\n",
        "  for num_epochs in [100, 200, 300, 400]:\n",
        "    for num_layers in [2, 3, 4, 5]:\n",
        "      for hidden_dim in [25, 50, 75, 100]:\n",
        "        model, cr, optimizer = build_lstm_model(input_dim, hidden_dim, num_layers, output_dim, num_epochs,dropout_rate)\n",
        "        y_train_pred, y_test_pred = train_model(model, cr, optimizer, x_train_torch, y_train_torch, x_test_torch, y_test_torch, num_epochs)\n",
        "        train_score = get_RMSE(y_train_torch, y_train_pred, type='Train')\n",
        "        # test_score = get_test_rmse(x_test_torch, y_test_torch, model, ws, test_size)\n",
        "        test_score = get_RMSE(y_test_torch, y_test_pred, type='Test')\n",
        "        print(\", Number of layers: \", num_layers, \", Hidden dimensions: \", hidden_dim, \", Number of Epochs:\", num_epochs)\n",
        "        summary.append({\n",
        "            'Number of layers': num_layers,\n",
        "            'Hidden dimensions': hidden_dim,\n",
        "            'Number of Epochs': num_epochs,\n",
        "            'Train RMSE': train_score,\n",
        "            'Test RMSE': test_score\n",
        "        })\n",
        "\n",
        "        if test_score < testscore or testscore == 0 :\n",
        "          testscore = test_score\n",
        "          nl = num_layers\n",
        "          hd = hidden_dim\n",
        "          epochs = num_epochs\n",
        "  print(\"Optimum Number of layers:\", nl, \"Optimum Hidden dimensions:\", hd, \"Optimum Number of Epochs:\",epochs,\"Test RMSE:\", testscore)\n",
        "  return nl, hd, epochs, summary"
      ],
      "metadata": {
        "id": "UHTxP8QT25m5"
      },
      "execution_count": 26,
      "outputs": []
    },
    {
      "cell_type": "code",
      "source": [
        "nl, hd, epochs, summary = model_tuning(x_train_torch, y_train_torch, x_test_torch, y_test_torch, input_dim, output_dim)"
      ],
      "metadata": {
        "id": "cjr2I5lAUYox",
        "outputId": "2ad4f3b2-499e-46e1-e8fc-ddd139758967",
        "colab": {
          "base_uri": "https://localhost:8080/"
        }
      },
      "execution_count": 27,
      "outputs": [
        {
          "output_type": "stream",
          "name": "stdout",
          "text": [
            "Train RMSE:  0.0779054178483438\n",
            "Test RMSE:  0.16756826718553108\n",
            ", Number of layers:  2 , Hidden dimensions:  25 , Number of Epochs: 100\n",
            "Train RMSE:  0.07673142091082351\n",
            "Test RMSE:  0.17887766413967254\n",
            ", Number of layers:  2 , Hidden dimensions:  50 , Number of Epochs: 100\n",
            "Train RMSE:  0.07688620218208976\n",
            "Test RMSE:  0.17152064815260884\n",
            ", Number of layers:  2 , Hidden dimensions:  75 , Number of Epochs: 100\n",
            "Train RMSE:  0.07655410051495486\n",
            "Test RMSE:  0.16247330455482387\n",
            ", Number of layers:  2 , Hidden dimensions:  100 , Number of Epochs: 100\n",
            "Train RMSE:  0.0792117587508894\n",
            "Test RMSE:  0.189490000095454\n",
            ", Number of layers:  3 , Hidden dimensions:  25 , Number of Epochs: 100\n",
            "Train RMSE:  0.07613027182323225\n",
            "Test RMSE:  0.15688145714461163\n",
            ", Number of layers:  3 , Hidden dimensions:  50 , Number of Epochs: 100\n",
            "Train RMSE:  0.08191973338237214\n",
            "Test RMSE:  0.24288181792028618\n",
            ", Number of layers:  3 , Hidden dimensions:  75 , Number of Epochs: 100\n",
            "Train RMSE:  0.264623788621821\n",
            "Test RMSE:  0.15496333964442616\n",
            ", Number of layers:  3 , Hidden dimensions:  100 , Number of Epochs: 100\n",
            "Train RMSE:  0.07728171606266522\n",
            "Test RMSE:  0.1542844465537708\n",
            ", Number of layers:  4 , Hidden dimensions:  25 , Number of Epochs: 100\n",
            "Train RMSE:  0.07487302614218963\n",
            "Test RMSE:  0.1573911303180061\n",
            ", Number of layers:  4 , Hidden dimensions:  50 , Number of Epochs: 100\n",
            "Train RMSE:  0.06986612449600019\n",
            "Test RMSE:  0.1729114611878163\n",
            ", Number of layers:  4 , Hidden dimensions:  75 , Number of Epochs: 100\n",
            "Train RMSE:  0.0794409722811857\n",
            "Test RMSE:  0.17802851305654502\n",
            ", Number of layers:  4 , Hidden dimensions:  100 , Number of Epochs: 100\n",
            "Train RMSE:  0.09448628577875191\n",
            "Test RMSE:  0.18528998812335587\n",
            ", Number of layers:  5 , Hidden dimensions:  25 , Number of Epochs: 100\n",
            "Train RMSE:  0.06313321346962374\n",
            "Test RMSE:  0.1606490763569129\n",
            ", Number of layers:  5 , Hidden dimensions:  50 , Number of Epochs: 100\n",
            "Train RMSE:  0.08107640653345015\n",
            "Test RMSE:  0.24868569002837418\n",
            ", Number of layers:  5 , Hidden dimensions:  75 , Number of Epochs: 100\n",
            "Train RMSE:  0.06488108163553993\n",
            "Test RMSE:  0.226533772850644\n",
            ", Number of layers:  5 , Hidden dimensions:  100 , Number of Epochs: 100\n",
            "Train RMSE:  0.07344686836487242\n",
            "Test RMSE:  0.15240920323578105\n",
            ", Number of layers:  2 , Hidden dimensions:  25 , Number of Epochs: 200\n",
            "Train RMSE:  0.07997288417602012\n",
            "Test RMSE:  0.14728570467304652\n",
            ", Number of layers:  2 , Hidden dimensions:  50 , Number of Epochs: 200\n",
            "Train RMSE:  0.07555550534343444\n",
            "Test RMSE:  0.15008291744223623\n",
            ", Number of layers:  2 , Hidden dimensions:  75 , Number of Epochs: 200\n",
            "Train RMSE:  0.0718122611458942\n",
            "Test RMSE:  0.15859500010707106\n",
            ", Number of layers:  2 , Hidden dimensions:  100 , Number of Epochs: 200\n",
            "Train RMSE:  0.07127346887266887\n",
            "Test RMSE:  0.14941060928642663\n",
            ", Number of layers:  3 , Hidden dimensions:  25 , Number of Epochs: 200\n",
            "Train RMSE:  0.06783082508428401\n",
            "Test RMSE:  0.16408967746700132\n",
            ", Number of layers:  3 , Hidden dimensions:  50 , Number of Epochs: 200\n",
            "Train RMSE:  0.06436987037035537\n",
            "Test RMSE:  0.15629532871779966\n",
            ", Number of layers:  3 , Hidden dimensions:  75 , Number of Epochs: 200\n",
            "Train RMSE:  0.09320516019711117\n",
            "Test RMSE:  0.2833604967312293\n",
            ", Number of layers:  3 , Hidden dimensions:  100 , Number of Epochs: 200\n",
            "Train RMSE:  0.06559448696529394\n",
            "Test RMSE:  0.1638670051764655\n",
            ", Number of layers:  4 , Hidden dimensions:  25 , Number of Epochs: 200\n",
            "Train RMSE:  0.06756515984941237\n",
            "Test RMSE:  0.16149638801667662\n",
            ", Number of layers:  4 , Hidden dimensions:  50 , Number of Epochs: 200\n",
            "Train RMSE:  0.057964898219887304\n",
            "Test RMSE:  0.16140173809728442\n",
            ", Number of layers:  4 , Hidden dimensions:  75 , Number of Epochs: 200\n",
            "Train RMSE:  0.05394637784244315\n",
            "Test RMSE:  0.16707479095878291\n",
            ", Number of layers:  4 , Hidden dimensions:  100 , Number of Epochs: 200\n",
            "Train RMSE:  0.05613727989484366\n",
            "Test RMSE:  0.21520105474416978\n",
            ", Number of layers:  5 , Hidden dimensions:  25 , Number of Epochs: 200\n",
            "Train RMSE:  0.07330602724679913\n",
            "Test RMSE:  0.15909809525549662\n",
            ", Number of layers:  5 , Hidden dimensions:  50 , Number of Epochs: 200\n",
            "Train RMSE:  0.04695634935577454\n",
            "Test RMSE:  0.2162536224023252\n",
            ", Number of layers:  5 , Hidden dimensions:  75 , Number of Epochs: 200\n",
            "Train RMSE:  0.053737657576375636\n",
            "Test RMSE:  0.2439013414787103\n",
            ", Number of layers:  5 , Hidden dimensions:  100 , Number of Epochs: 200\n",
            "Train RMSE:  0.07557613065220387\n",
            "Test RMSE:  0.1546841902812261\n",
            ", Number of layers:  2 , Hidden dimensions:  25 , Number of Epochs: 300\n",
            "Train RMSE:  0.07625259804892\n",
            "Test RMSE:  0.1513998550111676\n",
            ", Number of layers:  2 , Hidden dimensions:  50 , Number of Epochs: 300\n",
            "Train RMSE:  0.0739914431161445\n",
            "Test RMSE:  0.1535184454719478\n",
            ", Number of layers:  2 , Hidden dimensions:  75 , Number of Epochs: 300\n",
            "Train RMSE:  0.05638609827689265\n",
            "Test RMSE:  0.1527502493157826\n",
            ", Number of layers:  2 , Hidden dimensions:  100 , Number of Epochs: 300\n",
            "Train RMSE:  0.0666799305161091\n",
            "Test RMSE:  0.162526679370617\n",
            ", Number of layers:  3 , Hidden dimensions:  25 , Number of Epochs: 300\n",
            "Train RMSE:  0.052312786103506495\n",
            "Test RMSE:  0.15692362418373068\n",
            ", Number of layers:  3 , Hidden dimensions:  50 , Number of Epochs: 300\n",
            "Train RMSE:  0.05077103365320011\n",
            "Test RMSE:  0.15584711346879676\n",
            ", Number of layers:  3 , Hidden dimensions:  75 , Number of Epochs: 300\n",
            "Train RMSE:  0.07559464365082824\n",
            "Test RMSE:  0.15816716974719902\n",
            ", Number of layers:  3 , Hidden dimensions:  100 , Number of Epochs: 300\n",
            "Train RMSE:  0.051181895425180826\n",
            "Test RMSE:  0.17696265474978115\n",
            ", Number of layers:  4 , Hidden dimensions:  25 , Number of Epochs: 300\n",
            "Train RMSE:  0.051304759683524825\n",
            "Test RMSE:  0.25033801295242714\n",
            ", Number of layers:  4 , Hidden dimensions:  50 , Number of Epochs: 300\n",
            "Train RMSE:  0.05102146398228994\n",
            "Test RMSE:  0.19783875328843673\n",
            ", Number of layers:  4 , Hidden dimensions:  75 , Number of Epochs: 300\n",
            "Train RMSE:  0.05281359629438395\n",
            "Test RMSE:  0.15649415252733112\n",
            ", Number of layers:  4 , Hidden dimensions:  100 , Number of Epochs: 300\n",
            "Train RMSE:  0.05242319261384499\n",
            "Test RMSE:  0.18370811471589368\n",
            ", Number of layers:  5 , Hidden dimensions:  25 , Number of Epochs: 300\n",
            "Train RMSE:  0.05961968962957871\n",
            "Test RMSE:  0.18625235706476395\n",
            ", Number of layers:  5 , Hidden dimensions:  50 , Number of Epochs: 300\n",
            "Train RMSE:  0.05334758532652701\n",
            "Test RMSE:  0.20800594991647012\n",
            ", Number of layers:  5 , Hidden dimensions:  75 , Number of Epochs: 300\n",
            "Train RMSE:  0.037965710095387066\n",
            "Test RMSE:  0.1986276702815398\n",
            ", Number of layers:  5 , Hidden dimensions:  100 , Number of Epochs: 300\n",
            "Train RMSE:  0.06119461591760722\n",
            "Test RMSE:  0.16397773164920026\n",
            ", Number of layers:  2 , Hidden dimensions:  25 , Number of Epochs: 400\n",
            "Train RMSE:  0.07836777694799152\n",
            "Test RMSE:  0.14178246091191443\n",
            ", Number of layers:  2 , Hidden dimensions:  50 , Number of Epochs: 400\n",
            "Train RMSE:  0.08627412982401389\n",
            "Test RMSE:  0.1461996426552366\n",
            ", Number of layers:  2 , Hidden dimensions:  75 , Number of Epochs: 400\n",
            "Train RMSE:  0.07689500480101023\n",
            "Test RMSE:  0.17891954014485367\n",
            ", Number of layers:  2 , Hidden dimensions:  100 , Number of Epochs: 400\n",
            "Train RMSE:  0.05385729615930875\n",
            "Test RMSE:  0.14013059782158271\n",
            ", Number of layers:  3 , Hidden dimensions:  25 , Number of Epochs: 400\n",
            "Train RMSE:  0.04302504222513567\n",
            "Test RMSE:  0.188737342959568\n",
            ", Number of layers:  3 , Hidden dimensions:  50 , Number of Epochs: 400\n",
            "Train RMSE:  0.044992637358958566\n",
            "Test RMSE:  0.17994116417617936\n",
            ", Number of layers:  3 , Hidden dimensions:  75 , Number of Epochs: 400\n",
            "Train RMSE:  0.07296098450809202\n",
            "Test RMSE:  0.15459110478786303\n",
            ", Number of layers:  3 , Hidden dimensions:  100 , Number of Epochs: 400\n",
            "Train RMSE:  0.04198218381733915\n",
            "Test RMSE:  0.16586125994926054\n",
            ", Number of layers:  4 , Hidden dimensions:  25 , Number of Epochs: 400\n",
            "Train RMSE:  0.042568094489438914\n",
            "Test RMSE:  0.28641133211812014\n",
            ", Number of layers:  4 , Hidden dimensions:  50 , Number of Epochs: 400\n",
            "Train RMSE:  0.04535603117633109\n",
            "Test RMSE:  0.22406660926115224\n",
            ", Number of layers:  4 , Hidden dimensions:  75 , Number of Epochs: 400\n",
            "Train RMSE:  0.05175384470287933\n",
            "Test RMSE:  0.1704938076599386\n",
            ", Number of layers:  4 , Hidden dimensions:  100 , Number of Epochs: 400\n",
            "Train RMSE:  0.0424447046105078\n",
            "Test RMSE:  0.20401385124658444\n",
            ", Number of layers:  5 , Hidden dimensions:  25 , Number of Epochs: 400\n",
            "Train RMSE:  0.06583971394152931\n",
            "Test RMSE:  0.2153046259665255\n",
            ", Number of layers:  5 , Hidden dimensions:  50 , Number of Epochs: 400\n",
            "Train RMSE:  0.046957269138977235\n",
            "Test RMSE:  0.21555575385339237\n",
            ", Number of layers:  5 , Hidden dimensions:  75 , Number of Epochs: 400\n",
            "Train RMSE:  0.01931452311910961\n",
            "Test RMSE:  0.23472784027092092\n",
            ", Number of layers:  5 , Hidden dimensions:  100 , Number of Epochs: 400\n",
            "Optimum Number of layers: 3 Optimum Hidden dimensions: 25 Optimum Number of Epochs: 400 Test RMSE: 0.14013059782158271\n"
          ]
        }
      ]
    },
    {
      "cell_type": "code",
      "source": [
        "summary_df = pd.DataFrame(summary)\n",
        "summary_df"
      ],
      "metadata": {
        "id": "KeXNdqYoWZmA",
        "outputId": "b60ccca3-756e-4a4e-b853-2ea88730d6de",
        "colab": {
          "base_uri": "https://localhost:8080/",
          "height": 424
        }
      },
      "execution_count": 28,
      "outputs": [
        {
          "output_type": "execute_result",
          "data": {
            "text/plain": [
              "    Number of layers  Hidden dimensions  Number of Epochs  Train RMSE  \\\n",
              "0                  2                 25               100    0.077905   \n",
              "1                  2                 50               100    0.076731   \n",
              "2                  2                 75               100    0.076886   \n",
              "3                  2                100               100    0.076554   \n",
              "4                  3                 25               100    0.079212   \n",
              "..               ...                ...               ...         ...   \n",
              "59                 4                100               400    0.051754   \n",
              "60                 5                 25               400    0.042445   \n",
              "61                 5                 50               400    0.065840   \n",
              "62                 5                 75               400    0.046957   \n",
              "63                 5                100               400    0.019315   \n",
              "\n",
              "    Test RMSE  \n",
              "0    0.167568  \n",
              "1    0.178878  \n",
              "2    0.171521  \n",
              "3    0.162473  \n",
              "4    0.189490  \n",
              "..        ...  \n",
              "59   0.170494  \n",
              "60   0.204014  \n",
              "61   0.215305  \n",
              "62   0.215556  \n",
              "63   0.234728  \n",
              "\n",
              "[64 rows x 5 columns]"
            ],
            "text/html": [
              "\n",
              "  <div id=\"df-5de9f301-4955-44a1-8cf2-67be00fdbb84\" class=\"colab-df-container\">\n",
              "    <div>\n",
              "<style scoped>\n",
              "    .dataframe tbody tr th:only-of-type {\n",
              "        vertical-align: middle;\n",
              "    }\n",
              "\n",
              "    .dataframe tbody tr th {\n",
              "        vertical-align: top;\n",
              "    }\n",
              "\n",
              "    .dataframe thead th {\n",
              "        text-align: right;\n",
              "    }\n",
              "</style>\n",
              "<table border=\"1\" class=\"dataframe\">\n",
              "  <thead>\n",
              "    <tr style=\"text-align: right;\">\n",
              "      <th></th>\n",
              "      <th>Number of layers</th>\n",
              "      <th>Hidden dimensions</th>\n",
              "      <th>Number of Epochs</th>\n",
              "      <th>Train RMSE</th>\n",
              "      <th>Test RMSE</th>\n",
              "    </tr>\n",
              "  </thead>\n",
              "  <tbody>\n",
              "    <tr>\n",
              "      <th>0</th>\n",
              "      <td>2</td>\n",
              "      <td>25</td>\n",
              "      <td>100</td>\n",
              "      <td>0.077905</td>\n",
              "      <td>0.167568</td>\n",
              "    </tr>\n",
              "    <tr>\n",
              "      <th>1</th>\n",
              "      <td>2</td>\n",
              "      <td>50</td>\n",
              "      <td>100</td>\n",
              "      <td>0.076731</td>\n",
              "      <td>0.178878</td>\n",
              "    </tr>\n",
              "    <tr>\n",
              "      <th>2</th>\n",
              "      <td>2</td>\n",
              "      <td>75</td>\n",
              "      <td>100</td>\n",
              "      <td>0.076886</td>\n",
              "      <td>0.171521</td>\n",
              "    </tr>\n",
              "    <tr>\n",
              "      <th>3</th>\n",
              "      <td>2</td>\n",
              "      <td>100</td>\n",
              "      <td>100</td>\n",
              "      <td>0.076554</td>\n",
              "      <td>0.162473</td>\n",
              "    </tr>\n",
              "    <tr>\n",
              "      <th>4</th>\n",
              "      <td>3</td>\n",
              "      <td>25</td>\n",
              "      <td>100</td>\n",
              "      <td>0.079212</td>\n",
              "      <td>0.189490</td>\n",
              "    </tr>\n",
              "    <tr>\n",
              "      <th>...</th>\n",
              "      <td>...</td>\n",
              "      <td>...</td>\n",
              "      <td>...</td>\n",
              "      <td>...</td>\n",
              "      <td>...</td>\n",
              "    </tr>\n",
              "    <tr>\n",
              "      <th>59</th>\n",
              "      <td>4</td>\n",
              "      <td>100</td>\n",
              "      <td>400</td>\n",
              "      <td>0.051754</td>\n",
              "      <td>0.170494</td>\n",
              "    </tr>\n",
              "    <tr>\n",
              "      <th>60</th>\n",
              "      <td>5</td>\n",
              "      <td>25</td>\n",
              "      <td>400</td>\n",
              "      <td>0.042445</td>\n",
              "      <td>0.204014</td>\n",
              "    </tr>\n",
              "    <tr>\n",
              "      <th>61</th>\n",
              "      <td>5</td>\n",
              "      <td>50</td>\n",
              "      <td>400</td>\n",
              "      <td>0.065840</td>\n",
              "      <td>0.215305</td>\n",
              "    </tr>\n",
              "    <tr>\n",
              "      <th>62</th>\n",
              "      <td>5</td>\n",
              "      <td>75</td>\n",
              "      <td>400</td>\n",
              "      <td>0.046957</td>\n",
              "      <td>0.215556</td>\n",
              "    </tr>\n",
              "    <tr>\n",
              "      <th>63</th>\n",
              "      <td>5</td>\n",
              "      <td>100</td>\n",
              "      <td>400</td>\n",
              "      <td>0.019315</td>\n",
              "      <td>0.234728</td>\n",
              "    </tr>\n",
              "  </tbody>\n",
              "</table>\n",
              "<p>64 rows × 5 columns</p>\n",
              "</div>\n",
              "    <div class=\"colab-df-buttons\">\n",
              "\n",
              "  <div class=\"colab-df-container\">\n",
              "    <button class=\"colab-df-convert\" onclick=\"convertToInteractive('df-5de9f301-4955-44a1-8cf2-67be00fdbb84')\"\n",
              "            title=\"Convert this dataframe to an interactive table.\"\n",
              "            style=\"display:none;\">\n",
              "\n",
              "  <svg xmlns=\"http://www.w3.org/2000/svg\" height=\"24px\" viewBox=\"0 -960 960 960\">\n",
              "    <path d=\"M120-120v-720h720v720H120Zm60-500h600v-160H180v160Zm220 220h160v-160H400v160Zm0 220h160v-160H400v160ZM180-400h160v-160H180v160Zm440 0h160v-160H620v160ZM180-180h160v-160H180v160Zm440 0h160v-160H620v160Z\"/>\n",
              "  </svg>\n",
              "    </button>\n",
              "\n",
              "  <style>\n",
              "    .colab-df-container {\n",
              "      display:flex;\n",
              "      gap: 12px;\n",
              "    }\n",
              "\n",
              "    .colab-df-convert {\n",
              "      background-color: #E8F0FE;\n",
              "      border: none;\n",
              "      border-radius: 50%;\n",
              "      cursor: pointer;\n",
              "      display: none;\n",
              "      fill: #1967D2;\n",
              "      height: 32px;\n",
              "      padding: 0 0 0 0;\n",
              "      width: 32px;\n",
              "    }\n",
              "\n",
              "    .colab-df-convert:hover {\n",
              "      background-color: #E2EBFA;\n",
              "      box-shadow: 0px 1px 2px rgba(60, 64, 67, 0.3), 0px 1px 3px 1px rgba(60, 64, 67, 0.15);\n",
              "      fill: #174EA6;\n",
              "    }\n",
              "\n",
              "    .colab-df-buttons div {\n",
              "      margin-bottom: 4px;\n",
              "    }\n",
              "\n",
              "    [theme=dark] .colab-df-convert {\n",
              "      background-color: #3B4455;\n",
              "      fill: #D2E3FC;\n",
              "    }\n",
              "\n",
              "    [theme=dark] .colab-df-convert:hover {\n",
              "      background-color: #434B5C;\n",
              "      box-shadow: 0px 1px 3px 1px rgba(0, 0, 0, 0.15);\n",
              "      filter: drop-shadow(0px 1px 2px rgba(0, 0, 0, 0.3));\n",
              "      fill: #FFFFFF;\n",
              "    }\n",
              "  </style>\n",
              "\n",
              "    <script>\n",
              "      const buttonEl =\n",
              "        document.querySelector('#df-5de9f301-4955-44a1-8cf2-67be00fdbb84 button.colab-df-convert');\n",
              "      buttonEl.style.display =\n",
              "        google.colab.kernel.accessAllowed ? 'block' : 'none';\n",
              "\n",
              "      async function convertToInteractive(key) {\n",
              "        const element = document.querySelector('#df-5de9f301-4955-44a1-8cf2-67be00fdbb84');\n",
              "        const dataTable =\n",
              "          await google.colab.kernel.invokeFunction('convertToInteractive',\n",
              "                                                    [key], {});\n",
              "        if (!dataTable) return;\n",
              "\n",
              "        const docLinkHtml = 'Like what you see? Visit the ' +\n",
              "          '<a target=\"_blank\" href=https://colab.research.google.com/notebooks/data_table.ipynb>data table notebook</a>'\n",
              "          + ' to learn more about interactive tables.';\n",
              "        element.innerHTML = '';\n",
              "        dataTable['output_type'] = 'display_data';\n",
              "        await google.colab.output.renderOutput(dataTable, element);\n",
              "        const docLink = document.createElement('div');\n",
              "        docLink.innerHTML = docLinkHtml;\n",
              "        element.appendChild(docLink);\n",
              "      }\n",
              "    </script>\n",
              "  </div>\n",
              "\n",
              "\n",
              "<div id=\"df-e95d06c8-f7d9-4a82-90a4-aeccb8215148\">\n",
              "  <button class=\"colab-df-quickchart\" onclick=\"quickchart('df-e95d06c8-f7d9-4a82-90a4-aeccb8215148')\"\n",
              "            title=\"Suggest charts\"\n",
              "            style=\"display:none;\">\n",
              "\n",
              "<svg xmlns=\"http://www.w3.org/2000/svg\" height=\"24px\"viewBox=\"0 0 24 24\"\n",
              "     width=\"24px\">\n",
              "    <g>\n",
              "        <path d=\"M19 3H5c-1.1 0-2 .9-2 2v14c0 1.1.9 2 2 2h14c1.1 0 2-.9 2-2V5c0-1.1-.9-2-2-2zM9 17H7v-7h2v7zm4 0h-2V7h2v10zm4 0h-2v-4h2v4z\"/>\n",
              "    </g>\n",
              "</svg>\n",
              "  </button>\n",
              "\n",
              "<style>\n",
              "  .colab-df-quickchart {\n",
              "      --bg-color: #E8F0FE;\n",
              "      --fill-color: #1967D2;\n",
              "      --hover-bg-color: #E2EBFA;\n",
              "      --hover-fill-color: #174EA6;\n",
              "      --disabled-fill-color: #AAA;\n",
              "      --disabled-bg-color: #DDD;\n",
              "  }\n",
              "\n",
              "  [theme=dark] .colab-df-quickchart {\n",
              "      --bg-color: #3B4455;\n",
              "      --fill-color: #D2E3FC;\n",
              "      --hover-bg-color: #434B5C;\n",
              "      --hover-fill-color: #FFFFFF;\n",
              "      --disabled-bg-color: #3B4455;\n",
              "      --disabled-fill-color: #666;\n",
              "  }\n",
              "\n",
              "  .colab-df-quickchart {\n",
              "    background-color: var(--bg-color);\n",
              "    border: none;\n",
              "    border-radius: 50%;\n",
              "    cursor: pointer;\n",
              "    display: none;\n",
              "    fill: var(--fill-color);\n",
              "    height: 32px;\n",
              "    padding: 0;\n",
              "    width: 32px;\n",
              "  }\n",
              "\n",
              "  .colab-df-quickchart:hover {\n",
              "    background-color: var(--hover-bg-color);\n",
              "    box-shadow: 0 1px 2px rgba(60, 64, 67, 0.3), 0 1px 3px 1px rgba(60, 64, 67, 0.15);\n",
              "    fill: var(--button-hover-fill-color);\n",
              "  }\n",
              "\n",
              "  .colab-df-quickchart-complete:disabled,\n",
              "  .colab-df-quickchart-complete:disabled:hover {\n",
              "    background-color: var(--disabled-bg-color);\n",
              "    fill: var(--disabled-fill-color);\n",
              "    box-shadow: none;\n",
              "  }\n",
              "\n",
              "  .colab-df-spinner {\n",
              "    border: 2px solid var(--fill-color);\n",
              "    border-color: transparent;\n",
              "    border-bottom-color: var(--fill-color);\n",
              "    animation:\n",
              "      spin 1s steps(1) infinite;\n",
              "  }\n",
              "\n",
              "  @keyframes spin {\n",
              "    0% {\n",
              "      border-color: transparent;\n",
              "      border-bottom-color: var(--fill-color);\n",
              "      border-left-color: var(--fill-color);\n",
              "    }\n",
              "    20% {\n",
              "      border-color: transparent;\n",
              "      border-left-color: var(--fill-color);\n",
              "      border-top-color: var(--fill-color);\n",
              "    }\n",
              "    30% {\n",
              "      border-color: transparent;\n",
              "      border-left-color: var(--fill-color);\n",
              "      border-top-color: var(--fill-color);\n",
              "      border-right-color: var(--fill-color);\n",
              "    }\n",
              "    40% {\n",
              "      border-color: transparent;\n",
              "      border-right-color: var(--fill-color);\n",
              "      border-top-color: var(--fill-color);\n",
              "    }\n",
              "    60% {\n",
              "      border-color: transparent;\n",
              "      border-right-color: var(--fill-color);\n",
              "    }\n",
              "    80% {\n",
              "      border-color: transparent;\n",
              "      border-right-color: var(--fill-color);\n",
              "      border-bottom-color: var(--fill-color);\n",
              "    }\n",
              "    90% {\n",
              "      border-color: transparent;\n",
              "      border-bottom-color: var(--fill-color);\n",
              "    }\n",
              "  }\n",
              "</style>\n",
              "\n",
              "  <script>\n",
              "    async function quickchart(key) {\n",
              "      const quickchartButtonEl =\n",
              "        document.querySelector('#' + key + ' button');\n",
              "      quickchartButtonEl.disabled = true;  // To prevent multiple clicks.\n",
              "      quickchartButtonEl.classList.add('colab-df-spinner');\n",
              "      try {\n",
              "        const charts = await google.colab.kernel.invokeFunction(\n",
              "            'suggestCharts', [key], {});\n",
              "      } catch (error) {\n",
              "        console.error('Error during call to suggestCharts:', error);\n",
              "      }\n",
              "      quickchartButtonEl.classList.remove('colab-df-spinner');\n",
              "      quickchartButtonEl.classList.add('colab-df-quickchart-complete');\n",
              "    }\n",
              "    (() => {\n",
              "      let quickchartButtonEl =\n",
              "        document.querySelector('#df-e95d06c8-f7d9-4a82-90a4-aeccb8215148 button');\n",
              "      quickchartButtonEl.style.display =\n",
              "        google.colab.kernel.accessAllowed ? 'block' : 'none';\n",
              "    })();\n",
              "  </script>\n",
              "</div>\n",
              "\n",
              "  <div id=\"id_6fb72d4f-630e-4553-8dd6-8a50011191f9\">\n",
              "    <style>\n",
              "      .colab-df-generate {\n",
              "        background-color: #E8F0FE;\n",
              "        border: none;\n",
              "        border-radius: 50%;\n",
              "        cursor: pointer;\n",
              "        display: none;\n",
              "        fill: #1967D2;\n",
              "        height: 32px;\n",
              "        padding: 0 0 0 0;\n",
              "        width: 32px;\n",
              "      }\n",
              "\n",
              "      .colab-df-generate:hover {\n",
              "        background-color: #E2EBFA;\n",
              "        box-shadow: 0px 1px 2px rgba(60, 64, 67, 0.3), 0px 1px 3px 1px rgba(60, 64, 67, 0.15);\n",
              "        fill: #174EA6;\n",
              "      }\n",
              "\n",
              "      [theme=dark] .colab-df-generate {\n",
              "        background-color: #3B4455;\n",
              "        fill: #D2E3FC;\n",
              "      }\n",
              "\n",
              "      [theme=dark] .colab-df-generate:hover {\n",
              "        background-color: #434B5C;\n",
              "        box-shadow: 0px 1px 3px 1px rgba(0, 0, 0, 0.15);\n",
              "        filter: drop-shadow(0px 1px 2px rgba(0, 0, 0, 0.3));\n",
              "        fill: #FFFFFF;\n",
              "      }\n",
              "    </style>\n",
              "    <button class=\"colab-df-generate\" onclick=\"generateWithVariable('summary_df')\"\n",
              "            title=\"Generate code using this dataframe.\"\n",
              "            style=\"display:none;\">\n",
              "\n",
              "  <svg xmlns=\"http://www.w3.org/2000/svg\" height=\"24px\"viewBox=\"0 0 24 24\"\n",
              "       width=\"24px\">\n",
              "    <path d=\"M7,19H8.4L18.45,9,17,7.55,7,17.6ZM5,21V16.75L18.45,3.32a2,2,0,0,1,2.83,0l1.4,1.43a1.91,1.91,0,0,1,.58,1.4,1.91,1.91,0,0,1-.58,1.4L9.25,21ZM18.45,9,17,7.55Zm-12,3A5.31,5.31,0,0,0,4.9,8.1,5.31,5.31,0,0,0,1,6.5,5.31,5.31,0,0,0,4.9,4.9,5.31,5.31,0,0,0,6.5,1,5.31,5.31,0,0,0,8.1,4.9,5.31,5.31,0,0,0,12,6.5,5.46,5.46,0,0,0,6.5,12Z\"/>\n",
              "  </svg>\n",
              "    </button>\n",
              "    <script>\n",
              "      (() => {\n",
              "      const buttonEl =\n",
              "        document.querySelector('#id_6fb72d4f-630e-4553-8dd6-8a50011191f9 button.colab-df-generate');\n",
              "      buttonEl.style.display =\n",
              "        google.colab.kernel.accessAllowed ? 'block' : 'none';\n",
              "\n",
              "      buttonEl.onclick = () => {\n",
              "        google.colab.notebook.generateWithVariable('summary_df');\n",
              "      }\n",
              "      })();\n",
              "    </script>\n",
              "  </div>\n",
              "\n",
              "    </div>\n",
              "  </div>\n"
            ],
            "application/vnd.google.colaboratory.intrinsic+json": {
              "type": "dataframe",
              "variable_name": "summary_df",
              "summary": "{\n  \"name\": \"summary_df\",\n  \"rows\": 64,\n  \"fields\": [\n    {\n      \"column\": \"Number of layers\",\n      \"properties\": {\n        \"dtype\": \"number\",\n        \"std\": 1,\n        \"min\": 2,\n        \"max\": 5,\n        \"num_unique_values\": 4,\n        \"samples\": [\n          3,\n          5,\n          2\n        ],\n        \"semantic_type\": \"\",\n        \"description\": \"\"\n      }\n    },\n    {\n      \"column\": \"Hidden dimensions\",\n      \"properties\": {\n        \"dtype\": \"number\",\n        \"std\": 28,\n        \"min\": 25,\n        \"max\": 100,\n        \"num_unique_values\": 4,\n        \"samples\": [\n          50,\n          100,\n          25\n        ],\n        \"semantic_type\": \"\",\n        \"description\": \"\"\n      }\n    },\n    {\n      \"column\": \"Number of Epochs\",\n      \"properties\": {\n        \"dtype\": \"number\",\n        \"std\": 112,\n        \"min\": 100,\n        \"max\": 400,\n        \"num_unique_values\": 4,\n        \"samples\": [\n          200,\n          400,\n          100\n        ],\n        \"semantic_type\": \"\",\n        \"description\": \"\"\n      }\n    },\n    {\n      \"column\": \"Train RMSE\",\n      \"properties\": {\n        \"dtype\": \"number\",\n        \"std\": 0.029127516589233172,\n        \"min\": 0.01931452311910961,\n        \"max\": 0.264623788621821,\n        \"num_unique_values\": 64,\n        \"samples\": [\n          0.05385729615930875,\n          0.04535603117633109,\n          0.0779054178483438\n        ],\n        \"semantic_type\": \"\",\n        \"description\": \"\"\n      }\n    },\n    {\n      \"column\": \"Test RMSE\",\n      \"properties\": {\n        \"dtype\": \"number\",\n        \"std\": 0.03442020459538473,\n        \"min\": 0.14013059782158271,\n        \"max\": 0.28641133211812014,\n        \"num_unique_values\": 64,\n        \"samples\": [\n          0.14013059782158271,\n          0.22406660926115224,\n          0.16756826718553108\n        ],\n        \"semantic_type\": \"\",\n        \"description\": \"\"\n      }\n    }\n  ]\n}"
            }
          },
          "metadata": {},
          "execution_count": 28
        }
      ]
    },
    {
      "cell_type": "code",
      "source": [
        "train_min_idx = summary_df['Train RMSE'].idxmin()\n",
        "test_min_idx = summary_df['Test RMSE'].idxmin()\n",
        "\n",
        "train_min_row = summary_df.loc[train_min_idx]\n",
        "test_min_row = summary_df.loc[test_min_idx]\n",
        "\n",
        "# Display the results\n",
        "print(\"Row with the smallest Train Score: \", train_min_row)\n",
        "#print(train_min_row)\n",
        "print(\"\\nRow with the smallest Test Score: \", test_min_row)"
      ],
      "metadata": {
        "id": "S7QFS6lnk81d",
        "outputId": "1c9dc7f2-62ff-4c1d-b3e6-9d52bf5d5f93",
        "colab": {
          "base_uri": "https://localhost:8080/"
        }
      },
      "execution_count": 29,
      "outputs": [
        {
          "output_type": "stream",
          "name": "stdout",
          "text": [
            "Row with the smallest Train Score:  Number of layers       5.000000\n",
            "Hidden dimensions    100.000000\n",
            "Number of Epochs     400.000000\n",
            "Train RMSE             0.019315\n",
            "Test RMSE              0.234728\n",
            "Name: 63, dtype: float64\n",
            "\n",
            "Row with the smallest Test Score:  Number of layers       3.000000\n",
            "Hidden dimensions     25.000000\n",
            "Number of Epochs     400.000000\n",
            "Train RMSE             0.053857\n",
            "Test RMSE              0.140131\n",
            "Name: 52, dtype: float64\n"
          ]
        }
      ]
    },
    {
      "cell_type": "code",
      "source": [
        "# inversed training RMSE\n",
        "train_rmse_scaled = summary_df[['Train RMSE']].min() # Your RMSE from scaled data\n",
        "original_min = scaler.data_min_  # Get original min value from scaler\n",
        "original_max = scaler.data_max_  # Get original max value from scaler\n",
        "train_rmse_original = train_rmse_scaled * (original_max - original_min)\n",
        "print(\"Original training RMSE:\", train_rmse_original)"
      ],
      "metadata": {
        "id": "HfyEFB8b7FiD",
        "outputId": "8d8f3ca8-aafa-4044-d1e3-e878e25c9dc6",
        "colab": {
          "base_uri": "https://localhost:8080/"
        }
      },
      "execution_count": 30,
      "outputs": [
        {
          "output_type": "stream",
          "name": "stdout",
          "text": [
            "Original training RMSE: Train RMSE    0.02288\n",
            "dtype: float64\n"
          ]
        }
      ]
    },
    {
      "cell_type": "code",
      "source": [
        "# inversed testing RMSE\n",
        "test_rmse_scaled = summary_df[['Test RMSE']].min() # Your RMSE from scaled data\n",
        "\n",
        "test_rmse_original = test_rmse_scaled * (original_max - original_min)\n",
        "print(\"Original testing RMSE:\", test_rmse_original)"
      ],
      "metadata": {
        "outputId": "113ec79a-ef35-4ee1-a6d8-36757fd1c35a",
        "colab": {
          "base_uri": "https://localhost:8080/"
        },
        "id": "HCXyrMgs4uyo"
      },
      "execution_count": 31,
      "outputs": [
        {
          "output_type": "stream",
          "name": "stdout",
          "text": [
            "Original testing RMSE: Test RMSE    0.166002\n",
            "dtype: float64\n"
          ]
        }
      ]
    },
    {
      "cell_type": "code",
      "source": [
        "print(df_raw['Price'].min(),df_raw['Price'].max())"
      ],
      "metadata": {
        "id": "L78Ux3mpyK0O",
        "outputId": "44fc1262-b1fe-4ced-be04-5fbf455046fc",
        "colab": {
          "base_uri": "https://localhost:8080/"
        }
      },
      "execution_count": 37,
      "outputs": [
        {
          "output_type": "stream",
          "name": "stdout",
          "text": [
            "1.0 3.45\n"
          ]
        }
      ]
    },
    {
      "cell_type": "markdown",
      "source": [
        "# RMSE and Error\n",
        "to price range: 0.16/(3.45-1.0)*100=6.5%\n",
        "to price mean: 0.16/(mean(3.45,1.0))=7.5%"
      ],
      "metadata": {
        "id": "COziTFkExzt-"
      }
    },
    {
      "cell_type": "code",
      "source": [
        "#from the above result, choose below parameters as the best\n",
        "input_dim = 1\n",
        "hidden_dim = 25\n",
        "num_layers = 3\n",
        "output_dim = 1\n",
        "num_epochs = 400\n",
        "dropout_rate = 0.3\n",
        "model, cr, optimizer = build_lstm_model(input_dim, hidden_dim, num_layers, output_dim, num_epochs, dropout_rate)\n",
        "y_train_pred, y_test_pred = train_model(model, cr, optimizer, x_train_torch, y_train_torch, x_test_torch, y_test_torch, num_epochs)\n"
      ],
      "metadata": {
        "id": "-CqHabQjGpY-"
      },
      "execution_count": 38,
      "outputs": []
    },
    {
      "cell_type": "code",
      "source": [
        "y_train.shape, y_train_pred.shape"
      ],
      "metadata": {
        "id": "Qjy2MfEiXcEF",
        "outputId": "ea9c92da-4342-4103-d5cf-0c3cb663fa40",
        "colab": {
          "base_uri": "https://localhost:8080/"
        }
      },
      "execution_count": 39,
      "outputs": [
        {
          "output_type": "execute_result",
          "data": {
            "text/plain": [
              "((70, 1), torch.Size([70, 1]))"
            ]
          },
          "metadata": {},
          "execution_count": 39
        }
      ]
    },
    {
      "cell_type": "code",
      "source": [
        "#reverse normalization\n",
        "y_train = scaler.inverse_transform(y_train)\n",
        "y_train_pred = scaler.inverse_transform(y_train_pred.cpu().detach().numpy())\n",
        "y_test = scaler.inverse_transform(y_test)\n",
        "y_test_pred = scaler.inverse_transform(y_test_pred.cpu().detach().numpy())"
      ],
      "metadata": {
        "id": "En3ZnW5roKo_"
      },
      "execution_count": 40,
      "outputs": []
    },
    {
      "cell_type": "code",
      "source": [
        "y_test_pred[1]"
      ],
      "metadata": {
        "id": "EU1M9k2Mo2d5",
        "outputId": "fa7e1a51-e05c-40d5-8f99-1baef1451f0e",
        "colab": {
          "base_uri": "https://localhost:8080/"
        }
      },
      "execution_count": 41,
      "outputs": [
        {
          "output_type": "execute_result",
          "data": {
            "text/plain": [
              "array([2.4588513], dtype=float32)"
            ]
          },
          "metadata": {},
          "execution_count": 41
        }
      ]
    },
    {
      "cell_type": "code",
      "source": [
        "#original_train = pd.DataFrame(y_train)\n",
        "#predict_test = pd.DataFrame(y_test_pred)\n",
        "#original_test = pd.DataFrame(y_test)\n"
      ],
      "metadata": {
        "id": "fB7FdWSTGNwn"
      },
      "execution_count": null,
      "outputs": []
    },
    {
      "cell_type": "code",
      "source": [
        "train_size = len(y_train)\n",
        "test_size = len(y_test)\n",
        "# Get the date ranges\n",
        "train_dates = df['Date'][ws:train_size + ws]\n",
        "test_dates = df['Date'][train_size + ws:train_size + ws + train_size + test_size]\n",
        "\n",
        "# Plot\n",
        "plt.figure(figsize=(12, 6))\n",
        "plt.style.use('default')\n",
        "plt.plot(train_dates, y_train, label='Original Train', color = 'blue')\n",
        "plt.plot(test_dates, y_test, label='Original Test', color = 'orange')\n",
        "plt.plot(test_dates, y_test_pred, label='Predicted Test', linestyle='--', color = 'Red')\n",
        "plt.xlabel('Date')\n",
        "plt.ylabel('Price')\n",
        "plt.title('Methionine weekly- Prediction')\n",
        "plt.legend()\n",
        "plt.grid(True)\n",
        "plt.show()"
      ],
      "metadata": {
        "id": "lzhYLANzVO61",
        "outputId": "1f405321-6eaa-41e2-bef9-dce94a99c91e",
        "colab": {
          "base_uri": "https://localhost:8080/",
          "height": 564
        }
      },
      "execution_count": 44,
      "outputs": [
        {
          "output_type": "display_data",
          "data": {
            "text/plain": [
              "<Figure size 1200x600 with 1 Axes>"
            ],
            "image/png": "[encoded data removed]"
          },
          "metadata": {}
        }
      ]
    },
    {
      "cell_type": "markdown",
      "source": [
        "#Get x days ahead worth of predictions"
      ],
      "metadata": {
        "id": "fTzSbb_QxH3-"
      }
    },
    {
      "cell_type": "code",
      "source": [
        "def predict_future(model, initial_input, future_steps, scaler):\n",
        "    \"\"\"\n",
        "    Predict future time steps using a trained LSTM model and inverse transform predictions if needed.\n",
        "\n",
        "    :param model: Trained LSTM model\n",
        "    :param initial_input: Torch tensor, last input sequence from the dataset\n",
        "    :param future_steps: Number of future steps to predict\n",
        "    :param scaler: Scaler used for normalization (e.g., MinMaxScaler). If None, assumes no scaling\n",
        "    :return: Numpy array of future predictions in the original scale\n",
        "    \"\"\"\n",
        "    model.eval()  # Set the model to evaluation mode\n",
        "    predictions = []\n",
        "    input_seq = initial_input.clone()  # Clone the input to avoid modifying the original\n",
        "\n",
        "    with torch.no_grad():\n",
        "        for step in range(future_steps):\n",
        "            # Add batch dimension if needed\n",
        "            if len(input_seq.shape) == 2:\n",
        "                input_seq = input_seq.unsqueeze(0)  # Shape: (1, seq_len, input_dim)\n",
        "\n",
        "            # Predict the next value\n",
        "            pred = model(input_seq)  # Output shape: (1, output_dim) or (1, seq_len, output_dim)\n",
        "\n",
        "            # Handle output dimensions dynamically\n",
        "            if pred.dim() == 3:  # [batch_size, seq_len, output_dim]\n",
        "                next_value = pred[:, -1, :]  # Get the last predicted value\n",
        "            elif pred.dim() == 2:  # [batch_size, output_dim]\n",
        "                next_value = pred  # Directly use the output\n",
        "\n",
        "            # Add sequence dimension to next_value: [batch_size, 1, output_dim]\n",
        "            next_value = next_value.unsqueeze(1)\n",
        "\n",
        "            # Append to predictions\n",
        "            predictions.append(next_value.squeeze().item())\n",
        "\n",
        "            # Update input_seq by dropping the first time step and appending next_value\n",
        "            input_seq = torch.cat((input_seq[:, 1:, :], next_value), dim=1)\n",
        "\n",
        "    # Convert to numpy array\n",
        "    predictions = np.array(predictions).reshape(-1, 1)  # Reshape for scaler\n",
        "\n",
        "    # Debug: Check predictions before inverse transform\n",
        "    print(\"Scaled predictions:\", predictions[:5])\n",
        "    #predictions = scaler.inverse_transform(predictions).flatten()\n",
        "    # Inverse transform if a scaler was used\n",
        "    #if scaler:\n",
        "    predictions = scaler.inverse_transform(predictions).flatten()  # Convert back to original scale\n",
        "\n",
        "    # Debug: Check predictions after inverse transform\n",
        "    print(\"Inverse transformed predictions:\", predictions[:5])\n",
        "\n",
        "    return predictions"
      ],
      "metadata": {
        "id": "DMLPjsat2Gna"
      },
      "execution_count": 45,
      "outputs": []
    },
    {
      "cell_type": "code",
      "source": [
        "future_steps = 90\n",
        "initial_input = x_test_torch[-1]  # Use the last input sequence from the test set\n",
        "future_predictions = predict_future(model, initial_input, future_steps, scaler)\n",
        "#future_predictions = scaler.inverse_transform(future_predictions).flatten()\n",
        "import pandas as pd\n",
        "last_date = pd.to_datetime(df['Date'].iloc[-1])\n",
        "future_dates = [last_date + pd.Timedelta(days=i) for i in range(1, future_steps + 1)]\n",
        "future_dates = pd.to_datetime(future_dates)"
      ],
      "metadata": {
        "colab": {
          "base_uri": "https://localhost:8080/"
        },
        "id": "gmlFDm-fgc3U",
        "outputId": "bda545ca-a5b4-492e-937c-fc48436dccf6"
      },
      "execution_count": 47,
      "outputs": [
        {
          "output_type": "stream",
          "name": "stdout",
          "text": [
            "Scaled predictions: [[0.50843149]\n",
            " [0.590684  ]\n",
            " [0.63802654]\n",
            " [0.6762203 ]\n",
            " [0.71390206]]\n",
            "Inverse transformed predictions: [2.33434293 2.4317812  2.4878643  2.53310953 2.57774824]\n"
          ]
        }
      ]
    },
    {
      "cell_type": "code",
      "source": [
        "future_predictions = pd.DataFrame(future_predictions, columns=['Price'], index=future_dates)\n",
        "future_predictions"
      ],
      "metadata": {
        "id": "dptkNnMJhgzv",
        "outputId": "ac33e67a-d74a-445a-c8bf-c360d21f7749",
        "colab": {
          "base_uri": "https://localhost:8080/",
          "height": 424
        }
      },
      "execution_count": 48,
      "outputs": [
        {
          "output_type": "execute_result",
          "data": {
            "text/plain": [
              "               Price\n",
              "2025-02-03  2.334343\n",
              "2025-02-04  2.431781\n",
              "2025-02-05  2.487864\n",
              "2025-02-06  2.533110\n",
              "2025-02-07  2.577748\n",
              "...              ...\n",
              "2025-04-29  2.794998\n",
              "2025-04-30  2.783869\n",
              "2025-05-01  2.772458\n",
              "2025-05-02  2.761640\n",
              "2025-05-03  2.752166\n",
              "\n",
              "[90 rows x 1 columns]"
            ],
            "text/html": [
              "\n",
              "  <div id=\"df-fb26e498-58f9-471e-b1e5-4804e15d5bfe\" class=\"colab-df-container\">\n",
              "    <div>\n",
              "<style scoped>\n",
              "    .dataframe tbody tr th:only-of-type {\n",
              "        vertical-align: middle;\n",
              "    }\n",
              "\n",
              "    .dataframe tbody tr th {\n",
              "        vertical-align: top;\n",
              "    }\n",
              "\n",
              "    .dataframe thead th {\n",
              "        text-align: right;\n",
              "    }\n",
              "</style>\n",
              "<table border=\"1\" class=\"dataframe\">\n",
              "  <thead>\n",
              "    <tr style=\"text-align: right;\">\n",
              "      <th></th>\n",
              "      <th>Price</th>\n",
              "    </tr>\n",
              "  </thead>\n",
              "  <tbody>\n",
              "    <tr>\n",
              "      <th>2025-02-03</th>\n",
              "      <td>2.334343</td>\n",
              "    </tr>\n",
              "    <tr>\n",
              "      <th>2025-02-04</th>\n",
              "      <td>2.431781</td>\n",
              "    </tr>\n",
              "    <tr>\n",
              "      <th>2025-02-05</th>\n",
              "      <td>2.487864</td>\n",
              "    </tr>\n",
              "    <tr>\n",
              "      <th>2025-02-06</th>\n",
              "      <td>2.533110</td>\n",
              "    </tr>\n",
              "    <tr>\n",
              "      <th>2025-02-07</th>\n",
              "      <td>2.577748</td>\n",
              "    </tr>\n",
              "    <tr>\n",
              "      <th>...</th>\n",
              "      <td>...</td>\n",
              "    </tr>\n",
              "    <tr>\n",
              "      <th>2025-04-29</th>\n",
              "      <td>2.794998</td>\n",
              "    </tr>\n",
              "    <tr>\n",
              "      <th>2025-04-30</th>\n",
              "      <td>2.783869</td>\n",
              "    </tr>\n",
              "    <tr>\n",
              "      <th>2025-05-01</th>\n",
              "      <td>2.772458</td>\n",
              "    </tr>\n",
              "    <tr>\n",
              "      <th>2025-05-02</th>\n",
              "      <td>2.761640</td>\n",
              "    </tr>\n",
              "    <tr>\n",
              "      <th>2025-05-03</th>\n",
              "      <td>2.752166</td>\n",
              "    </tr>\n",
              "  </tbody>\n",
              "</table>\n",
              "<p>90 rows × 1 columns</p>\n",
              "</div>\n",
              "    <div class=\"colab-df-buttons\">\n",
              "\n",
              "  <div class=\"colab-df-container\">\n",
              "    <button class=\"colab-df-convert\" onclick=\"convertToInteractive('df-fb26e498-58f9-471e-b1e5-4804e15d5bfe')\"\n",
              "            title=\"Convert this dataframe to an interactive table.\"\n",
              "            style=\"display:none;\">\n",
              "\n",
              "  <svg xmlns=\"http://www.w3.org/2000/svg\" height=\"24px\" viewBox=\"0 -960 960 960\">\n",
              "    <path d=\"M120-120v-720h720v720H120Zm60-500h600v-160H180v160Zm220 220h160v-160H400v160Zm0 220h160v-160H400v160ZM180-400h160v-160H180v160Zm440 0h160v-160H620v160ZM180-180h160v-160H180v160Zm440 0h160v-160H620v160Z\"/>\n",
              "  </svg>\n",
              "    </button>\n",
              "\n",
              "  <style>\n",
              "    .colab-df-container {\n",
              "      display:flex;\n",
              "      gap: 12px;\n",
              "    }\n",
              "\n",
              "    .colab-df-convert {\n",
              "      background-color: #E8F0FE;\n",
              "      border: none;\n",
              "      border-radius: 50%;\n",
              "      cursor: pointer;\n",
              "      display: none;\n",
              "      fill: #1967D2;\n",
              "      height: 32px;\n",
              "      padding: 0 0 0 0;\n",
              "      width: 32px;\n",
              "    }\n",
              "\n",
              "    .colab-df-convert:hover {\n",
              "      background-color: #E2EBFA;\n",
              "      box-shadow: 0px 1px 2px rgba(60, 64, 67, 0.3), 0px 1px 3px 1px rgba(60, 64, 67, 0.15);\n",
              "      fill: #174EA6;\n",
              "    }\n",
              "\n",
              "    .colab-df-buttons div {\n",
              "      margin-bottom: 4px;\n",
              "    }\n",
              "\n",
              "    [theme=dark] .colab-df-convert {\n",
              "      background-color: #3B4455;\n",
              "      fill: #D2E3FC;\n",
              "    }\n",
              "\n",
              "    [theme=dark] .colab-df-convert:hover {\n",
              "      background-color: #434B5C;\n",
              "      box-shadow: 0px 1px 3px 1px rgba(0, 0, 0, 0.15);\n",
              "      filter: drop-shadow(0px 1px 2px rgba(0, 0, 0, 0.3));\n",
              "      fill: #FFFFFF;\n",
              "    }\n",
              "  </style>\n",
              "\n",
              "    <script>\n",
              "      const buttonEl =\n",
              "        document.querySelector('#df-fb26e498-58f9-471e-b1e5-4804e15d5bfe button.colab-df-convert');\n",
              "      buttonEl.style.display =\n",
              "        google.colab.kernel.accessAllowed ? 'block' : 'none';\n",
              "\n",
              "      async function convertToInteractive(key) {\n",
              "        const element = document.querySelector('#df-fb26e498-58f9-471e-b1e5-4804e15d5bfe');\n",
              "        const dataTable =\n",
              "          await google.colab.kernel.invokeFunction('convertToInteractive',\n",
              "                                                    [key], {});\n",
              "        if (!dataTable) return;\n",
              "\n",
              "        const docLinkHtml = 'Like what you see? Visit the ' +\n",
              "          '<a target=\"_blank\" href=https://colab.research.google.com/notebooks/data_table.ipynb>data table notebook</a>'\n",
              "          + ' to learn more about interactive tables.';\n",
              "        element.innerHTML = '';\n",
              "        dataTable['output_type'] = 'display_data';\n",
              "        await google.colab.output.renderOutput(dataTable, element);\n",
              "        const docLink = document.createElement('div');\n",
              "        docLink.innerHTML = docLinkHtml;\n",
              "        element.appendChild(docLink);\n",
              "      }\n",
              "    </script>\n",
              "  </div>\n",
              "\n",
              "\n",
              "<div id=\"df-aaccec53-e257-4a26-ac53-f5002f5b69d4\">\n",
              "  <button class=\"colab-df-quickchart\" onclick=\"quickchart('df-aaccec53-e257-4a26-ac53-f5002f5b69d4')\"\n",
              "            title=\"Suggest charts\"\n",
              "            style=\"display:none;\">\n",
              "\n",
              "<svg xmlns=\"http://www.w3.org/2000/svg\" height=\"24px\"viewBox=\"0 0 24 24\"\n",
              "     width=\"24px\">\n",
              "    <g>\n",
              "        <path d=\"M19 3H5c-1.1 0-2 .9-2 2v14c0 1.1.9 2 2 2h14c1.1 0 2-.9 2-2V5c0-1.1-.9-2-2-2zM9 17H7v-7h2v7zm4 0h-2V7h2v10zm4 0h-2v-4h2v4z\"/>\n",
              "    </g>\n",
              "</svg>\n",
              "  </button>\n",
              "\n",
              "<style>\n",
              "  .colab-df-quickchart {\n",
              "      --bg-color: #E8F0FE;\n",
              "      --fill-color: #1967D2;\n",
              "      --hover-bg-color: #E2EBFA;\n",
              "      --hover-fill-color: #174EA6;\n",
              "      --disabled-fill-color: #AAA;\n",
              "      --disabled-bg-color: #DDD;\n",
              "  }\n",
              "\n",
              "  [theme=dark] .colab-df-quickchart {\n",
              "      --bg-color: #3B4455;\n",
              "      --fill-color: #D2E3FC;\n",
              "      --hover-bg-color: #434B5C;\n",
              "      --hover-fill-color: #FFFFFF;\n",
              "      --disabled-bg-color: #3B4455;\n",
              "      --disabled-fill-color: #666;\n",
              "  }\n",
              "\n",
              "  .colab-df-quickchart {\n",
              "    background-color: var(--bg-color);\n",
              "    border: none;\n",
              "    border-radius: 50%;\n",
              "    cursor: pointer;\n",
              "    display: none;\n",
              "    fill: var(--fill-color);\n",
              "    height: 32px;\n",
              "    padding: 0;\n",
              "    width: 32px;\n",
              "  }\n",
              "\n",
              "  .colab-df-quickchart:hover {\n",
              "    background-color: var(--hover-bg-color);\n",
              "    box-shadow: 0 1px 2px rgba(60, 64, 67, 0.3), 0 1px 3px 1px rgba(60, 64, 67, 0.15);\n",
              "    fill: var(--button-hover-fill-color);\n",
              "  }\n",
              "\n",
              "  .colab-df-quickchart-complete:disabled,\n",
              "  .colab-df-quickchart-complete:disabled:hover {\n",
              "    background-color: var(--disabled-bg-color);\n",
              "    fill: var(--disabled-fill-color);\n",
              "    box-shadow: none;\n",
              "  }\n",
              "\n",
              "  .colab-df-spinner {\n",
              "    border: 2px solid var(--fill-color);\n",
              "    border-color: transparent;\n",
              "    border-bottom-color: var(--fill-color);\n",
              "    animation:\n",
              "      spin 1s steps(1) infinite;\n",
              "  }\n",
              "\n",
              "  @keyframes spin {\n",
              "    0% {\n",
              "      border-color: transparent;\n",
              "      border-bottom-color: var(--fill-color);\n",
              "      border-left-color: var(--fill-color);\n",
              "    }\n",
              "    20% {\n",
              "      border-color: transparent;\n",
              "      border-left-color: var(--fill-color);\n",
              "      border-top-color: var(--fill-color);\n",
              "    }\n",
              "    30% {\n",
              "      border-color: transparent;\n",
              "      border-left-color: var(--fill-color);\n",
              "      border-top-color: var(--fill-color);\n",
              "      border-right-color: var(--fill-color);\n",
              "    }\n",
              "    40% {\n",
              "      border-color: transparent;\n",
              "      border-right-color: var(--fill-color);\n",
              "      border-top-color: var(--fill-color);\n",
              "    }\n",
              "    60% {\n",
              "      border-color: transparent;\n",
              "      border-right-color: var(--fill-color);\n",
              "    }\n",
              "    80% {\n",
              "      border-color: transparent;\n",
              "      border-right-color: var(--fill-color);\n",
              "      border-bottom-color: var(--fill-color);\n",
              "    }\n",
              "    90% {\n",
              "      border-color: transparent;\n",
              "      border-bottom-color: var(--fill-color);\n",
              "    }\n",
              "  }\n",
              "</style>\n",
              "\n",
              "  <script>\n",
              "    async function quickchart(key) {\n",
              "      const quickchartButtonEl =\n",
              "        document.querySelector('#' + key + ' button');\n",
              "      quickchartButtonEl.disabled = true;  // To prevent multiple clicks.\n",
              "      quickchartButtonEl.classList.add('colab-df-spinner');\n",
              "      try {\n",
              "        const charts = await google.colab.kernel.invokeFunction(\n",
              "            'suggestCharts', [key], {});\n",
              "      } catch (error) {\n",
              "        console.error('Error during call to suggestCharts:', error);\n",
              "      }\n",
              "      quickchartButtonEl.classList.remove('colab-df-spinner');\n",
              "      quickchartButtonEl.classList.add('colab-df-quickchart-complete');\n",
              "    }\n",
              "    (() => {\n",
              "      let quickchartButtonEl =\n",
              "        document.querySelector('#df-aaccec53-e257-4a26-ac53-f5002f5b69d4 button');\n",
              "      quickchartButtonEl.style.display =\n",
              "        google.colab.kernel.accessAllowed ? 'block' : 'none';\n",
              "    })();\n",
              "  </script>\n",
              "</div>\n",
              "\n",
              "  <div id=\"id_d74bab0d-cdd7-43bc-ba89-f53af0daa46c\">\n",
              "    <style>\n",
              "      .colab-df-generate {\n",
              "        background-color: #E8F0FE;\n",
              "        border: none;\n",
              "        border-radius: 50%;\n",
              "        cursor: pointer;\n",
              "        display: none;\n",
              "        fill: #1967D2;\n",
              "        height: 32px;\n",
              "        padding: 0 0 0 0;\n",
              "        width: 32px;\n",
              "      }\n",
              "\n",
              "      .colab-df-generate:hover {\n",
              "        background-color: #E2EBFA;\n",
              "        box-shadow: 0px 1px 2px rgba(60, 64, 67, 0.3), 0px 1px 3px 1px rgba(60, 64, 67, 0.15);\n",
              "        fill: #174EA6;\n",
              "      }\n",
              "\n",
              "      [theme=dark] .colab-df-generate {\n",
              "        background-color: #3B4455;\n",
              "        fill: #D2E3FC;\n",
              "      }\n",
              "\n",
              "      [theme=dark] .colab-df-generate:hover {\n",
              "        background-color: #434B5C;\n",
              "        box-shadow: 0px 1px 3px 1px rgba(0, 0, 0, 0.15);\n",
              "        filter: drop-shadow(0px 1px 2px rgba(0, 0, 0, 0.3));\n",
              "        fill: #FFFFFF;\n",
              "      }\n",
              "    </style>\n",
              "    <button class=\"colab-df-generate\" onclick=\"generateWithVariable('future_predictions')\"\n",
              "            title=\"Generate code using this dataframe.\"\n",
              "            style=\"display:none;\">\n",
              "\n",
              "  <svg xmlns=\"http://www.w3.org/2000/svg\" height=\"24px\"viewBox=\"0 0 24 24\"\n",
              "       width=\"24px\">\n",
              "    <path d=\"M7,19H8.4L18.45,9,17,7.55,7,17.6ZM5,21V16.75L18.45,3.32a2,2,0,0,1,2.83,0l1.4,1.43a1.91,1.91,0,0,1,.58,1.4,1.91,1.91,0,0,1-.58,1.4L9.25,21ZM18.45,9,17,7.55Zm-12,3A5.31,5.31,0,0,0,4.9,8.1,5.31,5.31,0,0,0,1,6.5,5.31,5.31,0,0,0,4.9,4.9,5.31,5.31,0,0,0,6.5,1,5.31,5.31,0,0,0,8.1,4.9,5.31,5.31,0,0,0,12,6.5,5.46,5.46,0,0,0,6.5,12Z\"/>\n",
              "  </svg>\n",
              "    </button>\n",
              "    <script>\n",
              "      (() => {\n",
              "      const buttonEl =\n",
              "        document.querySelector('#id_d74bab0d-cdd7-43bc-ba89-f53af0daa46c button.colab-df-generate');\n",
              "      buttonEl.style.display =\n",
              "        google.colab.kernel.accessAllowed ? 'block' : 'none';\n",
              "\n",
              "      buttonEl.onclick = () => {\n",
              "        google.colab.notebook.generateWithVariable('future_predictions');\n",
              "      }\n",
              "      })();\n",
              "    </script>\n",
              "  </div>\n",
              "\n",
              "    </div>\n",
              "  </div>\n"
            ],
            "application/vnd.google.colaboratory.intrinsic+json": {
              "type": "dataframe",
              "variable_name": "future_predictions",
              "summary": "{\n  \"name\": \"future_predictions\",\n  \"rows\": 90,\n  \"fields\": [\n    {\n      \"column\": \"Price\",\n      \"properties\": {\n        \"dtype\": \"number\",\n        \"std\": 0.16864587317591678,\n        \"min\": 2.3343429297650613,\n        \"max\": 2.879013316126725,\n        \"num_unique_values\": 90,\n        \"samples\": [\n          2.6573700754142484,\n          2.812969114036704,\n          2.4082171844582456\n        ],\n        \"semantic_type\": \"\",\n        \"description\": \"\"\n      }\n    }\n  ]\n}"
            }
          },
          "metadata": {},
          "execution_count": 48
        }
      ]
    },
    {
      "cell_type": "code",
      "source": [
        "plt.figure(figsize=(12, 6))\n",
        "plt.style.use('default')\n",
        "plt.plot(train_dates, y_train, label='Original Train', color = 'blue')\n",
        "plt.plot(test_dates, y_test, label='Original Test', color = 'orange')\n",
        "plt.plot(test_dates, y_test_pred, label='Predicted Test', linestyle='--', color = 'Red')\n",
        "plt.plot(future_dates, future_predictions, label='Future Predictions', linestyle='--', color='green')\n",
        "plt.xlabel('Date')\n",
        "plt.ylabel('Price')\n",
        "plt.title('SBM - Prediction')\n",
        "plt.legend()\n",
        "plt.grid(True)\n",
        "plt.show()"
      ],
      "metadata": {
        "id": "Y6GQYFqCIs2v",
        "outputId": "9e5a22e4-14a1-42c4-93d7-25771164ebf7",
        "colab": {
          "base_uri": "https://localhost:8080/",
          "height": 564
        }
      },
      "execution_count": 49,
      "outputs": [
        {
          "output_type": "display_data",
          "data": {
            "text/plain": [
              "<Figure size 1200x600 with 1 Axes>"
            ],
            "image/png": "[encoded data removed]"
          },
          "metadata": {}
        }
      ]
    },
    {
      "cell_type": "code",
      "source": [
        "  #Detach all torch tensors\n",
        "  x_train_torch = x_train_torch.cpu().detach().numpy()\n",
        "  x_test_torch = x_test_torch.cpu().detach()\n",
        "  y_train_torch = y_train_torch.cpu().detach().numpy()\n",
        "  y_test_torch = y_test_torch.cpu().detach().numpy()"
      ],
      "metadata": {
        "id": "wl8GLpqjbz5M"
      },
      "execution_count": 50,
      "outputs": []
    },
    {
      "cell_type": "markdown",
      "source": [
        "# not in use -\n",
        "x days testing\n"
      ],
      "metadata": {
        "id": "-ze8V9s3oVS2"
      }
    },
    {
      "cell_type": "code",
      "source": [
        "predictions = []\n",
        "future_dates = 90  # Number of future days to predict\n",
        "window_size = 30    # The size of the sliding window\n",
        "current_window = df['Price'][-window_size:].to_numpy()\n",
        "current_window = current_window.reshape(1, window_size, 1)  # Reshape for LSTM input: (batch_size, sequence_length, input_dim)\n",
        "\n",
        "for i in range(future_dates):\n",
        "    # Convert current window to a torch tensor and move it to GPU if using CUDA\n",
        "    current_window_torch = torch.from_numpy(current_window).type(torch.FloatTensor).cuda()\n",
        "\n",
        "    # Make prediction using the model\n",
        "    predicted_value = model(current_window_torch)\n",
        "\n",
        "    # Move predicted value back to CPU and detach it from the computation graph\n",
        "    predicted_value = predicted_value.cpu().detach().numpy()  # Use .cpu() before .numpy()\n",
        "\n",
        "    # Append the predicted value (reshape if necessary to match window shape)\n",
        "    predictions.append(predicted_value)\n",
        "    current_window = np.append(current_window, predicted_value)  # Append predicted value to the window\n",
        "    current_window = current_window[-window_size:].reshape(1, window_size, 1)  # Keep the window size fixed\n",
        "\n",
        "# Convert predictions back to the original scale if they were scaled during preprocessing\n",
        "predictions = scaler.inverse_transform(np.array(predictions).reshape(future_dates, 1))\n",
        "\n",
        "# Reshape and format predictions into a DataFrame\n",
        "predictions = predictions.reshape(future_dates)\n",
        "predictions = pd.DataFrame(predictions, columns=['Price'])\n",
        "\n",
        "# Set the index of the DataFrame to future dates starting from '2025-02-01'\n",
        "predictions.index = pd.date_range(start='2025-02-01', periods=future_dates, freq='D')\n",
        "\n",
        "# Display the DataFrame\n",
        "print(predictions)\n"
      ],
      "metadata": {
        "id": "ZoKWgwhbocwO",
        "outputId": "f6ff1c48-8ebc-4478-a5d5-3981a23d4aec",
        "colab": {
          "base_uri": "https://localhost:8080/"
        }
      },
      "execution_count": null,
      "outputs": [
        {
          "output_type": "stream",
          "name": "stdout",
          "text": [
            "               Price\n",
            "2025-02-01  2.383741\n",
            "2025-02-02  2.388193\n",
            "2025-02-03  2.394945\n",
            "2025-02-04  2.409215\n",
            "2025-02-05  2.424250\n",
            "...              ...\n",
            "2025-04-27  2.599133\n",
            "2025-04-28  2.599841\n",
            "2025-04-29  2.600533\n",
            "2025-04-30  2.601213\n",
            "2025-05-01  2.601878\n",
            "\n",
            "[90 rows x 1 columns]\n"
          ]
        }
      ]
    },
    {
      "cell_type": "code",
      "source": [
        "plt.figure(figsize=(12, 6))\n",
        "plt.style.use('default')\n",
        "plt.plot(train_dates, y_train, label='Original Train', color = 'blue')\n",
        "plt.plot(test_dates, y_test, label='Original Test', color = 'orange')\n",
        "plt.plot(test_dates, y_test_pred, label='Predicted Test', linestyle='--', color = 'Red')\n",
        "plt.plot(predictions['Price'], label='Future Predictions', linestyle='--', color='green')\n",
        "plt.xlabel('Date')\n",
        "plt.ylabel('Price')\n",
        "plt.title('Methionine - Prediction')\n",
        "plt.legend()\n",
        "plt.grid(True)\n",
        "plt.show()"
      ],
      "metadata": {
        "outputId": "d9349600-c0e3-428c-acd2-0d8aefb15eb0",
        "colab": {
          "base_uri": "https://localhost:8080/",
          "height": 564
        },
        "id": "d6vkKLwHpdAN"
      },
      "execution_count": null,
      "outputs": [
        {
          "output_type": "display_data",
          "data": {
            "text/plain": [
              "<Figure size 1200x600 with 1 Axes>"
            ],
            "image/png": "[encoded data removed]"
          },
          "metadata": {}
        }
      ]
    }
  ],
  "metadata": {
    "colab": {
      "provenance": [],
      "gpuType": "T4",
      "include_colab_link": true
    },
    "kernelspec": {
      "display_name": "Python 3",
      "name": "python3"
    },
    "language_info": {
      "codemirror_mode": {
        "name": "ipython",
        "version": 3
      },
      "file_extension": ".py",
      "mimetype": "text/x-python",
      "name": "python",
      "nbconvert_exporter": "python",
      "pygments_lexer": "ipython3",
      "version": "3.11.5"
    },
    "accelerator": "GPU"
  },
  "nbformat": 4,
  "nbformat_minor": 0
}